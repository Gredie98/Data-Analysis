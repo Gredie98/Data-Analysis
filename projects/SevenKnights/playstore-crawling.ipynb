{
 "cells": [
  {
   "cell_type": "markdown",
   "metadata": {},
   "source": [
    "### Google Play Review Crawling"
   ]
  },
  {
   "cell_type": "code",
   "execution_count": 1,
   "metadata": {},
   "outputs": [],
   "source": [
    "# ! pip install google-play-scraper\n",
    "import pandas as pd\n",
    "from google_play_scraper import Sort, reviews\n",
    "\n",
    "pd.set_option('display.max_colwidth', 500) \n",
    "pd.options.display.colheader_justify = 'left'"
   ]
  },
  {
   "cell_type": "markdown",
   "metadata": {},
   "source": [
    "References\n",
    "- https://github.com/JoMingyu/google-play-scraper\n",
    "- https://simbbo-blog.tistory.com/190"
   ]
  },
  {
   "cell_type": "code",
   "execution_count": 2,
   "metadata": {},
   "outputs": [],
   "source": [
    "# 최대 크롤링 리뷰 횟수 지정\n",
    "count_per_request = 5000\n",
    "\n",
    "# 크롤링 실행\n",
    "result, continuation_token = reviews(\n",
    "    'com.netmarble.tskgb'\n",
    "    , lang = 'ko'\n",
    "    , country = 'kr'\n",
    "    , sort = Sort.NEWEST\n",
    "    , count=count_per_request\n",
    ")"
   ]
  },
  {
   "cell_type": "code",
   "execution_count": 3,
   "metadata": {},
   "outputs": [],
   "source": [
    "# 빈 리스트 정의\n",
    "reviewId_list = []\n",
    "userName_list = []\n",
    "content_list = []\n",
    "score_list = []\n",
    "thumsUpCount_list = []\n",
    "at_list = []\n",
    "replyContent_list = []"
   ]
  },
  {
   "cell_type": "code",
   "execution_count": 4,
   "metadata": {},
   "outputs": [],
   "source": [
    "# 필요한 부분만 데이터프레임화\n",
    "for i in range(0, len(result)):\n",
    "    reviewId_list.append(result[i]['reviewId'])\n",
    "    userName_list.append(result[i]['userName'])\n",
    "    content_list.append(result[i]['content'])\n",
    "    score_list.append(result[i]['score'])\n",
    "    thumsUpCount_list.append(result[i]['thumbsUpCount'])\n",
    "    at_list.append(result[i]['at'])\n",
    "    replyContent_list.append(result[i]['replyContent'])\n",
    "\n",
    "data = {\n",
    "    'reviewId':reviewId_list\n",
    "    , 'userName':userName_list\n",
    "    , 'content':content_list\n",
    "    , 'score':score_list\n",
    "    , 'thumbsUpCount':thumsUpCount_list\n",
    "    , 'at':at_list\n",
    "    , 'replyContent':replyContent_list\n",
    "}\n",
    "\n",
    "df = pd.DataFrame(data)"
   ]
  },
  {
   "cell_type": "code",
   "execution_count": 5,
   "metadata": {},
   "outputs": [
    {
     "name": "stdout",
     "output_type": "stream",
     "text": [
      "======================================================================\n"
     ]
    },
    {
     "data": {
      "text/html": [
       "<div>\n",
       "<style scoped>\n",
       "    .dataframe tbody tr th:only-of-type {\n",
       "        vertical-align: middle;\n",
       "    }\n",
       "\n",
       "    .dataframe tbody tr th {\n",
       "        vertical-align: top;\n",
       "    }\n",
       "\n",
       "    .dataframe thead th {\n",
       "        text-align: right;\n",
       "    }\n",
       "</style>\n",
       "<table border=\"1\" class=\"dataframe\">\n",
       "  <thead>\n",
       "    <tr style=\"text-align: left;\">\n",
       "      <th></th>\n",
       "      <th>reviewId</th>\n",
       "      <th>userName</th>\n",
       "      <th>content</th>\n",
       "      <th>score</th>\n",
       "      <th>thumbsUpCount</th>\n",
       "      <th>at</th>\n",
       "      <th>replyContent</th>\n",
       "    </tr>\n",
       "  </thead>\n",
       "  <tbody>\n",
       "    <tr>\n",
       "      <th>0</th>\n",
       "      <td>ff551cf9-1afb-40c4-aecc-c740277f684f</td>\n",
       "      <td>Google 사용자</td>\n",
       "      <td>아니 게임 튕김현상 좀 고치라고 게임 잔렉 수정했다면서 그대로 있고 뭘 수정한거며 게임 유지관리는 뒷전이고 신규유닛으로 돈 빼먹을 생각밖에 안하나?</td>\n",
       "      <td>1</td>\n",
       "      <td>4</td>\n",
       "      <td>2025-06-09 13:24:19</td>\n",
       "      <td>None</td>\n",
       "    </tr>\n",
       "    <tr>\n",
       "      <th>1</th>\n",
       "      <td>0ecb5d0a-6dfd-4c9b-b533-12cd0636c9c1</td>\n",
       "      <td>Google 사용자</td>\n",
       "      <td>아니 뽑기확률 극악이네요 확정에서만 나오고 이건 뭐 하지말라는 소리인가요? 영웅이 좀 나와야 재미있게 하는데 열심히 루비 모아서 뽑으면 나오질 않으니 흥미가 사라지네요 이 다음 루뽑에서 전설 안나오면 접을게요 원작 하던 유저로서 이건 좀 아닌듯 싶습니다</td>\n",
       "      <td>1</td>\n",
       "      <td>1</td>\n",
       "      <td>2025-06-09 13:00:28</td>\n",
       "      <td>None</td>\n",
       "    </tr>\n",
       "    <tr>\n",
       "      <th>2</th>\n",
       "      <td>8f80333b-9c8f-4fa3-ad99-23f8c7c83ecd</td>\n",
       "      <td>Google 사용자</td>\n",
       "      <td>1점 주기도 아까운 게임.</td>\n",
       "      <td>1</td>\n",
       "      <td>1</td>\n",
       "      <td>2025-06-09 12:58:45</td>\n",
       "      <td>None</td>\n",
       "    </tr>\n",
       "  </tbody>\n",
       "</table>\n",
       "</div>"
      ],
      "text/plain": [
       "  reviewId                              userName     \\\n",
       "0  ff551cf9-1afb-40c4-aecc-c740277f684f  Google 사용자   \n",
       "1  0ecb5d0a-6dfd-4c9b-b533-12cd0636c9c1  Google 사용자   \n",
       "2  8f80333b-9c8f-4fa3-ad99-23f8c7c83ecd  Google 사용자   \n",
       "\n",
       "  content                                                                                                                                         \\\n",
       "0                                                             아니 게임 튕김현상 좀 고치라고 게임 잔렉 수정했다면서 그대로 있고 뭘 수정한거며 게임 유지관리는 뒷전이고 신규유닛으로 돈 빼먹을 생각밖에 안하나?   \n",
       "1  아니 뽑기확률 극악이네요 확정에서만 나오고 이건 뭐 하지말라는 소리인가요? 영웅이 좀 나와야 재미있게 하는데 열심히 루비 모아서 뽑으면 나오질 않으니 흥미가 사라지네요 이 다음 루뽑에서 전설 안나오면 접을게요 원작 하던 유저로서 이건 좀 아닌듯 싶습니다   \n",
       "2                                                                                                                                 1점 주기도 아까운 게임.   \n",
       "\n",
       "   score  thumbsUpCount at                  replyContent  \n",
       "0  1      4             2025-06-09 13:24:19  None         \n",
       "1  1      1             2025-06-09 13:00:28  None         \n",
       "2  1      1             2025-06-09 12:58:45  None         "
      ]
     },
     "metadata": {},
     "output_type": "display_data"
    },
    {
     "name": "stdout",
     "output_type": "stream",
     "text": [
      "======================================================================\n",
      "<class 'pandas.core.frame.DataFrame'>\n",
      "RangeIndex: 4332 entries, 0 to 4331\n",
      "Data columns (total 7 columns):\n",
      " #   Column         Non-Null Count  Dtype         \n",
      "---  ------         --------------  -----         \n",
      " 0   reviewId       4332 non-null   object        \n",
      " 1   userName       4332 non-null   object        \n",
      " 2   content        4332 non-null   object        \n",
      " 3   score          4332 non-null   int64         \n",
      " 4   thumbsUpCount  4332 non-null   int64         \n",
      " 5   at             4332 non-null   datetime64[ns]\n",
      " 6   replyContent   2075 non-null   object        \n",
      "dtypes: datetime64[ns](1), int64(2), object(4)\n",
      "memory usage: 237.0+ KB\n"
     ]
    }
   ],
   "source": [
    "# 크롤링 결과 확인\n",
    "print('='*70)\n",
    "display(df.head(3))\n",
    "print('='*70)\n",
    "df.info()"
   ]
  },
  {
   "cell_type": "markdown",
   "metadata": {},
   "source": [
    "### Text Preprocessing"
   ]
  },
  {
   "cell_type": "markdown",
   "metadata": {},
   "source": [
    "Reference\n",
    "- https://github.com/bab2min/kiwipiepy\n",
    "- https://youtu.be/llfvObDLp64?si=cBBVTEGI65TrFP2v"
   ]
  },
  {
   "cell_type": "code",
   "execution_count": 6,
   "metadata": {},
   "outputs": [],
   "source": [
    "# ! pip install kiwipiepy\n",
    "from kiwipiepy import Kiwi\n",
    "from kiwipiepy.utils import Stopwords"
   ]
  },
  {
   "cell_type": "code",
   "execution_count": 7,
   "metadata": {},
   "outputs": [],
   "source": [
    "# 객체 지정\n",
    "kiwi = Kiwi()\n",
    "stopwords = Stopwords()"
   ]
  },
  {
   "cell_type": "code",
   "execution_count": 8,
   "metadata": {},
   "outputs": [],
   "source": [
    "# 전처리용 데이터프레임 정의\n",
    "processed_reviews = df[['content']].rename(columns={'content':'original_contents'})"
   ]
  },
  {
   "cell_type": "code",
   "execution_count": 9,
   "metadata": {},
   "outputs": [],
   "source": [
    "# 각 리뷰를 토큰 리스트로 변환\n",
    "tokenized_contents_list = []\n",
    "\n",
    "for i in range(0, len(processed_reviews['original_contents'])):\n",
    "    tokenized_content = kiwi.tokenize(\n",
    "        processed_reviews.loc[i]['original_contents']\n",
    "        , normalize_coda=True\n",
    "        , stopwords=stopwords\n",
    "        )\n",
    "    # tokenized_contents_list 안에 각 리뷰별 token들을 모아둔 리스트가 들어감\n",
    "    tokenized_contents_list.append(tokenized_content)   "
   ]
  },
  {
   "cell_type": "code",
   "execution_count": 10,
   "metadata": {},
   "outputs": [
    {
     "data": {
      "text/html": [
       "<div>\n",
       "<style scoped>\n",
       "    .dataframe tbody tr th:only-of-type {\n",
       "        vertical-align: middle;\n",
       "    }\n",
       "\n",
       "    .dataframe tbody tr th {\n",
       "        vertical-align: top;\n",
       "    }\n",
       "\n",
       "    .dataframe thead th {\n",
       "        text-align: right;\n",
       "    }\n",
       "</style>\n",
       "<table border=\"1\" class=\"dataframe\">\n",
       "  <thead>\n",
       "    <tr style=\"text-align: left;\">\n",
       "      <th></th>\n",
       "      <th>original_contents</th>\n",
       "      <th>tokens</th>\n",
       "    </tr>\n",
       "  </thead>\n",
       "  <tbody>\n",
       "    <tr>\n",
       "      <th>4327</th>\n",
       "      <td>우효 다운받는당</td>\n",
       "      <td>[우효, 다운, 받, 는다, ᆼ]</td>\n",
       "    </tr>\n",
       "    <tr>\n",
       "      <th>4328</th>\n",
       "      <td>레전드 상황 발생</td>\n",
       "      <td>[레전드, 상황, 발생]</td>\n",
       "    </tr>\n",
       "    <tr>\n",
       "      <th>4329</th>\n",
       "      <td>굿</td>\n",
       "      <td>[굿]</td>\n",
       "    </tr>\n",
       "    <tr>\n",
       "      <th>4330</th>\n",
       "      <td>추억의 게임이 돌아왔다</td>\n",
       "      <td>[추억, 게임, 돌아오]</td>\n",
       "    </tr>\n",
       "    <tr>\n",
       "      <th>4331</th>\n",
       "      <td>나이스</td>\n",
       "      <td>[나이스]</td>\n",
       "    </tr>\n",
       "  </tbody>\n",
       "</table>\n",
       "</div>"
      ],
      "text/plain": [
       "     original_contents tokens             \n",
       "4327      우효 다운받는당      [우효, 다운, 받, 는다, ᆼ]\n",
       "4328     레전드 상황 발생           [레전드, 상황, 발생]\n",
       "4329             굿                     [굿]\n",
       "4330  추억의 게임이 돌아왔다           [추억, 게임, 돌아오]\n",
       "4331           나이스                   [나이스]"
      ]
     },
     "execution_count": 10,
     "metadata": {},
     "output_type": "execute_result"
    }
   ],
   "source": [
    "# 토근 리스트를 원본 리뷰와 붙이기\n",
    "processed_reviews['tokens'] = None\n",
    "\n",
    "for i in range(0, len(tokenized_contents_list)):\n",
    "    token_list = []\n",
    "    for j in range(0, len(tokenized_contents_list[i])):\n",
    "        # print(tokenized_contents_list[i][j].form)\n",
    "        token_list.append(tokenized_contents_list[i][j].form)\n",
    "    # print(token_list)\n",
    "    processed_reviews.at[i, 'tokens']= token_list\n",
    "\n",
    "processed_reviews.tail()"
   ]
  },
  {
   "cell_type": "markdown",
   "metadata": {},
   "source": [
    "### LDA (: Latent Dirichlet Allocation)"
   ]
  },
  {
   "cell_type": "markdown",
   "metadata": {},
   "source": [
    "#### (1) 필요한 라이브러리 설치 및 임포트"
   ]
  },
  {
   "cell_type": "code",
   "execution_count": 11,
   "metadata": {},
   "outputs": [],
   "source": [
    "# ! pip install gensim pyldavis\n",
    "import numpy as np\n",
    "import matplotlib.pyplot as plt\n",
    "\n",
    "import gensim\n",
    "from gensim import corpora\n",
    "from gensim.models import LdaModel\n",
    "from gensim.models import CoherenceModel\n",
    "\n",
    "import pyLDAvis\n",
    "import pyLDAvis.gensim_models as gensimvis\n",
    "\n",
    "import warnings\n",
    "\n",
    "# pyLDAvis 사용에 DeprecationWarning 오류 무시\n",
    "warnings.filterwarnings(\"ignore\", category=DeprecationWarning)"
   ]
  },
  {
   "cell_type": "markdown",
   "metadata": {},
   "source": [
    "#### (2) 데이터 준비"
   ]
  },
  {
   "cell_type": "code",
   "execution_count": 12,
   "metadata": {},
   "outputs": [
    {
     "data": {
      "text/html": [
       "<div>\n",
       "<style scoped>\n",
       "    .dataframe tbody tr th:only-of-type {\n",
       "        vertical-align: middle;\n",
       "    }\n",
       "\n",
       "    .dataframe tbody tr th {\n",
       "        vertical-align: top;\n",
       "    }\n",
       "\n",
       "    .dataframe thead th {\n",
       "        text-align: right;\n",
       "    }\n",
       "</style>\n",
       "<table border=\"1\" class=\"dataframe\">\n",
       "  <thead>\n",
       "    <tr style=\"text-align: left;\">\n",
       "      <th></th>\n",
       "      <th>original_contents</th>\n",
       "      <th>tokens</th>\n",
       "    </tr>\n",
       "  </thead>\n",
       "  <tbody>\n",
       "    <tr>\n",
       "      <th>0</th>\n",
       "      <td>아니 게임 튕김현상 좀 고치라고 게임 잔렉 수정했다면서 그대로 있고 뭘 수정한거며 게임 유지관리는 뒷전이고 신규유닛으로 돈 빼먹을 생각밖에 안하나?</td>\n",
       "      <td>[아니, 게임, 튕기, ᆷ, 현상, 좀, 고치, 라고, 게임, 잔렉, 수정, 다면서, 그대로, 뭐, ᆯ, 수정, 거, 게임, 유지, 관리, 뒷전, 신규, 유닛, 돈, 빼먹, 생각, 밖에, 안, 나]</td>\n",
       "    </tr>\n",
       "    <tr>\n",
       "      <th>1</th>\n",
       "      <td>아니 뽑기확률 극악이네요 확정에서만 나오고 이건 뭐 하지말라는 소리인가요? 영웅이 좀 나와야 재미있게 하는데 열심히 루비 모아서 뽑으면 나오질 않으니 흥미가 사라지네요 이 다음 루뽑에서 전설 안나오면 접을게요 원작 하던 유저로서 이건 좀 아닌듯 싶습니다</td>\n",
       "      <td>[아니, 뽑기, 확률, 극악, 네요, 확정, 나오, 이거, 뭐, 말, 소리, ᆫ가, 요, 영웅, 좀, 나오, 재미있, 는데, 열심히, 루비, 모으, 뽑, 으면, 나오, ᆯ, 으니, 흥미, 사라지, 네요, 다음, 루뽑, 전설, 안, 나오, 접, 을게요, 원작, 유저, 로서, 이거, 좀, 듯, 싶, 습니다]</td>\n",
       "    </tr>\n",
       "    <tr>\n",
       "      <th>2</th>\n",
       "      <td>1점 주기도 아까운 게임.</td>\n",
       "      <td>[1, 점, 주기, 아깝, 게임]</td>\n",
       "    </tr>\n",
       "    <tr>\n",
       "      <th>3</th>\n",
       "      <td>버그는 안잡고 돈 써도 쫄은 안주고 소통 한다고 해놓고 아예 안하고 넥슨한테 쳐발리는 이유를 몸소 보여주네</td>\n",
       "      <td>[버그, 안, 잡, 돈, 쓰, 어도, 쪼, 안, 주, 소통, ᆫ다고, 놓, 아예, 안, 넥슨, 한테, 치, 발리, 이유, 몸소, 보이, 네]</td>\n",
       "    </tr>\n",
       "    <tr>\n",
       "      <th>4</th>\n",
       "      <td>소환권 쳐 내놔 나 벌써 20만원 썼어</td>\n",
       "      <td>[소환, 권, 치, 내, 놓, 벌써, 20, 쓰]</td>\n",
       "    </tr>\n",
       "  </tbody>\n",
       "</table>\n",
       "</div>"
      ],
      "text/plain": [
       "  original_contents                                                                                                                               \\\n",
       "0                                                             아니 게임 튕김현상 좀 고치라고 게임 잔렉 수정했다면서 그대로 있고 뭘 수정한거며 게임 유지관리는 뒷전이고 신규유닛으로 돈 빼먹을 생각밖에 안하나?   \n",
       "1  아니 뽑기확률 극악이네요 확정에서만 나오고 이건 뭐 하지말라는 소리인가요? 영웅이 좀 나와야 재미있게 하는데 열심히 루비 모아서 뽑으면 나오질 않으니 흥미가 사라지네요 이 다음 루뽑에서 전설 안나오면 접을게요 원작 하던 유저로서 이건 좀 아닌듯 싶습니다   \n",
       "2                                                                                                                                 1점 주기도 아까운 게임.   \n",
       "3                                                                                    버그는 안잡고 돈 써도 쫄은 안주고 소통 한다고 해놓고 아예 안하고 넥슨한테 쳐발리는 이유를 몸소 보여주네   \n",
       "4                                                                                                                          소환권 쳐 내놔 나 벌써 20만원 썼어   \n",
       "\n",
       "  tokens                                                                                                                                                                       \n",
       "0                                                              [아니, 게임, 튕기, ᆷ, 현상, 좀, 고치, 라고, 게임, 잔렉, 수정, 다면서, 그대로, 뭐, ᆯ, 수정, 거, 게임, 유지, 관리, 뒷전, 신규, 유닛, 돈, 빼먹, 생각, 밖에, 안, 나]  \n",
       "1  [아니, 뽑기, 확률, 극악, 네요, 확정, 나오, 이거, 뭐, 말, 소리, ᆫ가, 요, 영웅, 좀, 나오, 재미있, 는데, 열심히, 루비, 모으, 뽑, 으면, 나오, ᆯ, 으니, 흥미, 사라지, 네요, 다음, 루뽑, 전설, 안, 나오, 접, 을게요, 원작, 유저, 로서, 이거, 좀, 듯, 싶, 습니다]  \n",
       "2                                                                                                                                                          [1, 점, 주기, 아깝, 게임]  \n",
       "3                                                                                              [버그, 안, 잡, 돈, 쓰, 어도, 쪼, 안, 주, 소통, ᆫ다고, 놓, 아예, 안, 넥슨, 한테, 치, 발리, 이유, 몸소, 보이, 네]  \n",
       "4                                                                                                                                                 [소환, 권, 치, 내, 놓, 벌써, 20, 쓰]  "
      ]
     },
     "execution_count": 12,
     "metadata": {},
     "output_type": "execute_result"
    }
   ],
   "source": [
    "processed_reviews.head(5)"
   ]
  },
  {
   "cell_type": "markdown",
   "metadata": {},
   "source": [
    "#### (3) 사전(Dictionary)과 말뭉치(Corpus) 생성"
   ]
  },
  {
   "cell_type": "code",
   "execution_count": 13,
   "metadata": {},
   "outputs": [
    {
     "name": "stdout",
     "output_type": "stream",
     "text": [
      "사전에 포함된 고유 단어 개수: 1783\n",
      "생성된 말뭉치의 문서 개수: 4332\n",
      "첫 번째 문서의 BoW 표현: [(0, 1), (1, 1), (2, 1), (3, 3), (4, 1), (5, 1), (6, 1), (7, 1), (8, 1), (9, 1), (10, 1), (11, 1), (12, 1), (13, 1), (14, 2), (15, 1), (16, 1), (17, 1), (18, 1), (19, 1), (20, 1), (21, 1), (22, 1)]\n",
      "\n",
      "\n"
     ]
    }
   ],
   "source": [
    "# 토큰 리스트로부터 Dictionary 생성\n",
    "dictionary = corpora.Dictionary(processed_reviews['tokens'])\n",
    "\n",
    "# 너무 희귀하거나 너무 흔한 단어 제거\n",
    "dictionary.filter_extremes(no_below=5, no_above=0.8)\n",
    "\n",
    "print(f\"사전에 포함된 고유 단어 개수: {len(dictionary)}\")\n",
    "\n",
    "# 토큰 리스트를 BoW(Bag-of-Words) 형태로 변환하여 말뭉치(Corpus) 생성\n",
    "corpus = [dictionary.doc2bow(doc) for doc in processed_reviews['tokens']]\n",
    "\n",
    "print(f\"생성된 말뭉치의 문서 개수: {len(corpus)}\")\n",
    "# 첫 번째 문서의 BoW 표현 확인 (예시)\n",
    "print(\"첫 번째 문서의 BoW 표현:\", corpus[0])\n",
    "print(\"\\n\")\n"
   ]
  },
  {
   "cell_type": "markdown",
   "metadata": {},
   "source": [
    "#### (4) 최적의 토픽 수 찾기"
   ]
  },
  {
   "cell_type": "code",
   "execution_count": 14,
   "metadata": {},
   "outputs": [
    {
     "name": "stdout",
     "output_type": "stream",
     "text": [
      "다양한 토픽 수에 대한 coherence 값 계산 중...\n"
     ]
    }
   ],
   "source": [
    "def compute_coherence_values(dictionary, corpus, texts, limit, start=2, step=3):\n",
    "    \"\"\"\n",
    "    여러 개의 토픽 수에 대해 coherence 값을 계산하는 함수\n",
    "    \"\"\"\n",
    "    coherence_values = []\n",
    "    model_list = []\n",
    "    for num_topics in range(start, limit, step):\n",
    "        model = LdaModel(corpus=corpus, num_topics=num_topics, id2word=dictionary, passes=10)\n",
    "        model_list.append(model)\n",
    "        \n",
    "        coherencemodel = gensim.models.CoherenceModel(model=model, texts=texts, dictionary=dictionary, coherence='c_v')\n",
    "        coherence_values.append(coherencemodel.get_coherence())\n",
    "        \n",
    "    return model_list, coherence_values\n",
    "\n",
    "# 여러 토픽 수에 대한 coherence 값 계산\n",
    "print(\"다양한 토픽 수에 대한 coherence 값 계산 중...\")\n",
    "model_list, coherence_values = compute_coherence_values(dictionary=dictionary, \n",
    "                                                        corpus=corpus, \n",
    "                                                        texts=processed_reviews['tokens'], \n",
    "                                                        start=2, limit=20, step=2)"
   ]
  },
  {
   "cell_type": "code",
   "execution_count": 15,
   "metadata": {},
   "outputs": [
    {
     "data": {
      "image/png": "[encoded data removed]",
      "text/plain": [
       "<Figure size 800x400 with 1 Axes>"
      ]
     },
     "metadata": {},
     "output_type": "display_data"
    },
    {
     "name": "stdout",
     "output_type": "stream",
     "text": [
      "최적의 토픽 수: 8\n"
     ]
    }
   ],
   "source": [
    "# 최적의 토픽 수 시각화\n",
    "limit=20\n",
    "start=2\n",
    "step=2\n",
    "x = range(start, limit, step)\n",
    "plt.figure(figsize=(8, 4))\n",
    "plt.plot(x, coherence_values)\n",
    "plt.xlabel(\"Number of Topic\")\n",
    "plt.ylabel(\"Coherence Score\")\n",
    "plt.title(\"Coherence Score by Number of Topic\")\n",
    "plt.xticks(x)\n",
    "plt.grid(True)\n",
    "plt.show()\n",
    "\n",
    "# 최적의 토픽 수 확인\n",
    "optimal_num_topics = x[coherence_values.index(max(coherence_values))]\n",
    "print(f'최적의 토픽 수: {optimal_num_topics}')\n"
   ]
  },
  {
   "cell_type": "markdown",
   "metadata": {},
   "source": [
    "#### (5) LDA 모델 학습"
   ]
  },
  {
   "cell_type": "code",
   "execution_count": 16,
   "metadata": {},
   "outputs": [],
   "source": [
    "# 토픽 수 별도 지정\n",
    "optimal_num_topics = 8"
   ]
  },
  {
   "cell_type": "code",
   "execution_count": 17,
   "metadata": {},
   "outputs": [
    {
     "name": "stdout",
     "output_type": "stream",
     "text": [
      "LDA 모델 학습 시작 (토픽 수: 8)...\n",
      "LDA 모델 학습 완료.\n",
      "\n",
      "\n"
     ]
    }
   ],
   "source": [
    "# 앞서 찾은 최적의 토픽 수로 LDA 모델 학습\n",
    "print(f\"LDA 모델 학습 시작 (토픽 수: {optimal_num_topics})...\")\n",
    "lda_model = LdaModel(\n",
    "    corpus=corpus,\n",
    "    id2word=dictionary,\n",
    "    num_topics=optimal_num_topics,\n",
    "    random_state=100,\n",
    "    update_every=1,\n",
    "    chunksize=100,\n",
    "    passes=10,\n",
    "    alpha='auto',\n",
    "    eta='auto',\n",
    "    per_word_topics=True\n",
    ")\n",
    "print(\"LDA 모델 학습 완료.\")\n",
    "print(\"\\n\")"
   ]
  },
  {
   "cell_type": "markdown",
   "metadata": {},
   "source": [
    "#### (6) 토픽 분석"
   ]
  },
  {
   "cell_type": "code",
   "execution_count": 18,
   "metadata": {},
   "outputs": [
    {
     "name": "stdout",
     "output_type": "stream",
     "text": [
      "LDA 모델 결과 - 각 토픽별 상위 단어:\n",
      "토픽 1: 0.128*\"게임\" + 0.068*\"네요\" + 0.061*\"어요\" + 0.053*\"너무\" + 0.049*\"좋\" + 0.040*\"습니다\" + 0.039*\"추억\" + 0.033*\"보\" + 0.033*\"있\" + 0.028*\"재밌\" + 0.022*\"그래픽\" + 0.017*\"잘\" + 0.016*\"그렇\" + 0.016*\"폰\" + 0.015*\"가\"\n",
      "토픽 2: 0.067*\"캐릭터\" + 0.059*\"스킬\" + 0.028*\"정말\" + 0.026*\"스토리\" + 0.025*\"연출\" + 0.021*\"수준\" + 0.014*\"설정\" + 0.013*\"던가\" + 0.013*\"자동\" + 0.013*\"어쩌\" + 0.012*\"디자인\" + 0.012*\"퀄리티\" + 0.012*\"낫\" + 0.011*\"전투\" + 0.011*\"2.\"\n",
      "토픽 3: 0.070*\"ᆸ니다\" + 0.025*\"심하\" + 0.023*\"번\" + 0.017*\"시\" + 0.016*\"으면\" + 0.015*\"많이\" + 0.015*\"삭제\" + 0.014*\"10\" + 0.014*\"5\" + 0.014*\"유저\" + 0.013*\"과금\" + 0.013*\"정도\" + 0.012*\"리버스\" + 0.011*\"팅\" + 0.010*\"25\"\n",
      "토픽 4: 0.070*\"기대\" + 0.045*\"ᆫ지\" + 0.032*\"분\" + 0.028*\"냐\" + 0.027*\"세나1\" + 0.027*\"자\" + 0.022*\"다른\" + 0.021*\"전\" + 0.020*\"처럼\" + 0.020*\"니\" + 0.020*\"쫄작\" + 0.020*\"열쇠\" + 0.017*\"현상\" + 0.017*\"화면\" + 0.012*\"갤럭시\"\n",
      "토픽 5: 0.168*\"나\" + 0.106*\"세\" + 0.042*\"옛날\" + 0.038*\"보다\" + 0.036*\"다시\" + 0.033*\"세븐나이츠\" + 0.029*\"시작\" + 0.027*\"생각\" + 0.026*\"재미\" + 0.020*\"알\" + 0.017*\"재미있\" + 0.014*\"ᆯ\" + 0.012*\"처음\" + 0.012*\"지금\" + 0.012*\"1\"\n",
      "토픽 6: 0.138*\"ᆷ\" + 0.056*\"음\" + 0.047*\"접속\" + 0.042*\"발열\" + 0.039*\"재\" + 0.030*\"그냥\" + 0.026*\"만들\" + 0.024*\"최적화\" + 0.024*\"ᆫ데\" + 0.021*\"다\" + 0.016*\"느낌\" + 0.015*\"거\" + 0.014*\"듯\" + 0.013*\"다가\" + 0.013*\"어도\"\n",
      "토픽 7: 0.076*\"좀\" + 0.062*\"튕기\" + 0.037*\"세요\" + 0.033*\"계속\" + 0.028*\"지\" + 0.026*\"버그\" + 0.025*\"자꾸\" + 0.025*\"받\" + 0.024*\"오\" + 0.022*\"점\" + 0.021*\"출시\" + 0.021*\"서\" + 0.020*\"나요\" + 0.019*\"고치\" + 0.019*\"이것\"\n",
      "토픽 8: 0.080*\"안\" + 0.076*\"거\" + 0.064*\"는데\" + 0.029*\"나오\" + 0.027*\"네\" + 0.024*\"뭐\" + 0.024*\"못\" + 0.019*\"왜\" + 0.018*\"요\" + 0.018*\"개\" + 0.017*\"라고\" + 0.017*\"뜨\" + 0.017*\"진짜\" + 0.016*\"말\" + 0.015*\"이거\"\n",
      "\n",
      "\n"
     ]
    }
   ],
   "source": [
    "# 학습된 LDA 모델의 토픽 확인\n",
    "print(\"LDA 모델 결과 - 각 토픽별 상위 단어:\")\n",
    "for idx, topic in lda_model.print_topics(num_words=15):\n",
    "    print(f\"토픽 {idx+1}: {topic}\")\n",
    "print(\"\\n\")"
   ]
  },
  {
   "cell_type": "markdown",
   "metadata": {},
   "source": [
    "#### (7) LDA 결과 시각화 (pyLDAvis)"
   ]
  },
  {
   "cell_type": "code",
   "execution_count": 19,
   "metadata": {},
   "outputs": [
    {
     "name": "stdout",
     "output_type": "stream",
     "text": [
      "pyLDAvis 시각화 준비 중...\n",
      "pyLDAvis 시각화 준비 완료.\n",
      "시각화 결과가 html 파일로 저장되었습니다.\n",
      "\n",
      "\n"
     ]
    }
   ],
   "source": [
    "# pyLDAvis를 위한 준비\n",
    "print(\"pyLDAvis 시각화 준비 중...\")\n",
    "vis = gensimvis.prepare(lda_model, corpus, dictionary)\n",
    "print(\"pyLDAvis 시각화 준비 완료.\")\n",
    "\n",
    "# 시각화 결과를 HTML 파일로 저장\n",
    "pyLDAvis.save_html(vis, f'lda_visualization_{optimal_num_topics}.html')\n",
    "print(\"시각화 결과가 html 파일로 저장되었습니다.\")\n",
    "print(\"\\n\")"
   ]
  },
  {
   "cell_type": "markdown",
   "metadata": {},
   "source": [
    "#### (8) 각 리뷰의 토픽 할당"
   ]
  },
  {
   "cell_type": "code",
   "execution_count": 20,
   "metadata": {},
   "outputs": [
    {
     "name": "stdout",
     "output_type": "stream",
     "text": [
      "데이터프레임에 지배적인 토픽 정보 추가 완료.\n",
      "  tokens                                                                                                                                                                       \\\n",
      "0                                                              [아니, 게임, 튕기, ᆷ, 현상, 좀, 고치, 라고, 게임, 잔렉, 수정, 다면서, 그대로, 뭐, ᆯ, 수정, 거, 게임, 유지, 관리, 뒷전, 신규, 유닛, 돈, 빼먹, 생각, 밖에, 안, 나]   \n",
      "1  [아니, 뽑기, 확률, 극악, 네요, 확정, 나오, 이거, 뭐, 말, 소리, ᆫ가, 요, 영웅, 좀, 나오, 재미있, 는데, 열심히, 루비, 모으, 뽑, 으면, 나오, ᆯ, 으니, 흥미, 사라지, 네요, 다음, 루뽑, 전설, 안, 나오, 접, 을게요, 원작, 유저, 로서, 이거, 좀, 듯, 싶, 습니다]   \n",
      "2                                                                                                                                                          [1, 점, 주기, 아깝, 게임]   \n",
      "3                                                                                              [버그, 안, 잡, 돈, 쓰, 어도, 쪼, 안, 주, 소통, ᆫ다고, 놓, 아예, 안, 넥슨, 한테, 치, 발리, 이유, 몸소, 보이, 네]   \n",
      "4                                                                                                                                                 [소환, 권, 치, 내, 놓, 벌써, 20, 쓰]   \n",
      "\n",
      "   dominant_topic  topic_probability  \n",
      "0  7.0             0.221718           \n",
      "1  7.0             0.446641           \n",
      "2  7.0             0.250168           \n",
      "3  7.0             0.427076           \n",
      "4  2.0             0.286413           \n",
      "\n",
      "Nuber of Reveiw by Topic:\n",
      "   Topic  Count\n",
      "0  7.0    1447 \n",
      "1  0.0    1284 \n",
      "2  2.0     698 \n",
      "3  5.0     687 \n",
      "4  6.0      92 \n",
      "5  4.0      77 \n",
      "6  3.0      34 \n",
      "7  1.0      13 \n"
     ]
    },
    {
     "data": {
      "text/plain": [
       "<Figure size 1200x600 with 0 Axes>"
      ]
     },
     "metadata": {},
     "output_type": "display_data"
    },
    {
     "data": {
      "image/png": "[encoded data removed]",
      "text/plain": [
       "<Figure size 640x480 with 1 Axes>"
      ]
     },
     "metadata": {},
     "output_type": "display_data"
    }
   ],
   "source": [
    "# 각 리뷰의 가장 확률 높은(지배적인) 토픽을 데이터프레임에 추가\n",
    "def get_dominant_topic(lda_model, bow_vector):\n",
    "    \"\"\"BoW 벡터를 입력받아 해당 문서의 지배적인 토픽과 확률을 반환하는 함수\"\"\"\n",
    "    # 문서의 토픽 분포 가져옴\n",
    "    topic_distribution = lda_model.get_document_topics(bow_vector)\n",
    "    \n",
    "    # 확률이 가장 높은 토픽 지정\n",
    "    dominant_topic = max(topic_distribution, key=lambda x: x[1])\n",
    "    \n",
    "    # (토픽 ID, 확률) 튜플을 반환\n",
    "    return dominant_topic[0], dominant_topic[1]\n",
    "\n",
    "# 모든 리뷰에 대해 지배적인 토픽을 찾아 데이터프레임에 추가\n",
    "processed_reviews[['dominant_topic', 'topic_probability']] = processed_reviews['tokens'].apply(\n",
    "    lambda tokens: pd.Series(get_dominant_topic(lda_model, dictionary.doc2bow(tokens)))\n",
    ")\n",
    "\n",
    "print(\"데이터프레임에 지배적인 토픽 정보 추가 완료.\")\n",
    "print(processed_reviews[['tokens', 'dominant_topic', 'topic_probability']].head())\n",
    "\n",
    "# 토픽별 리뷰 수 확인\n",
    "topic_counts = processed_reviews['dominant_topic'].value_counts().reset_index()\n",
    "topic_counts.columns = ['Topic', 'Count']\n",
    "print(\"\\nNuber of Reveiw by Topic:\")\n",
    "print(topic_counts)\n",
    "\n",
    "# 토픽 분포 시각화\n",
    "plt.figure(figsize=(12, 6))\n",
    "topic_counts.plot(kind='bar', x='Topic', y='Count')\n",
    "plt.title('Review Distribution by Topic')\n",
    "plt.xlabel('Topic')\n",
    "plt.ylabel('Number of Reveiw')\n",
    "plt.xticks(rotation=0)\n",
    "plt.grid(axis='y')\n",
    "plt.tight_layout()\n",
    "plt.show()"
   ]
  },
  {
   "cell_type": "markdown",
   "metadata": {},
   "source": [
    "#### (9) 토픽별 대표 리뷰 추출"
   ]
  },
  {
   "cell_type": "code",
   "execution_count": 21,
   "metadata": {},
   "outputs": [
    {
     "name": "stdout",
     "output_type": "stream",
     "text": [
      "==================================================================================================== \n",
      " Topic Cluster: 0\n"
     ]
    },
    {
     "data": {
      "text/plain": [
       "83                                                                             그래픽이 화려하며 재밌게 게임을 할 수 있는 전략적인 요소들이 너무 많아서 즐기면서 하기 좋은 것 같아요!!!\n",
       "497    판타지를 좋아하던 사람으로 게임해 본 후기는 너무 재밌습니다. 이전버전은 해보지 않아서 비교는 어려우나 터치하나하나에 반응하는 바법같은 그래픽들은 시선 끌기 너무 좋았고! 발열은 조금 있지만 스토리보는재미에 시간가는줄 모르고 게임했습니다!\n",
       "786                                                     게임 그림 음성이 너무 귀엽고 설명도 쉽게 잘 되어 있어서 초보자도 재미있게 즐길수 있습니다~~~ 시간 가는 줄 모르고 단숨에 캐릭터들 쑥쑥 키웠습니다\n",
       "107                                                                             추억삼아 다운받아 플레이 해봤는데 너무 재밌네요. 진짜 한 번 킬때마다 시간가는줄도 모르고 하게되네요. 👍👍\n",
       "227                                                                        시간가는줄 모르고 재밌네요ㅎㅎ 턴제인데 그래픽과 애니메이션도 잘 나온 것 같아요. 저는 과금 없이 잘 즐기고 있어요!\n",
       "Name: original_contents, dtype: object"
      ]
     },
     "metadata": {},
     "output_type": "display_data"
    },
    {
     "name": "stdout",
     "output_type": "stream",
     "text": [
      "==================================================================================================== \n",
      " Topic Cluster: 1\n"
     ]
    },
    {
     "data": {
      "text/plain": [
       "554    여러콘텐츠에서 특정 스킬을 연속으로 4회 이상 사용하면 후속 스킬을 사용하기 힘듭니다. 예를 들어 강철의 포식자가 있는데요. 이때파스칼스킬의 발동 순서가 꼬이는 경우가 발생할 수 있습니다. 하지만 '스킬 사용 예약 및 순차 대기' 기능이 적용된다면, 플레이어가 원하는 파스칼 스킬의 발동 순서를 미리 예약해두고, 필요할 때 해당 순서의 스킬 사용을 예약함으로써 원치 않는 스킬 발동 없이 의도한 스킬을 자동으로 사용할 수 있게 됩니다. 이는 복잡한 스킬 연계를 손쉽게 자동화하여 플레이 편의성을 크게 향상시킬 것입니다. 더불어, 파스칼과 같이 스킬 쿨타임 초기화 메커니즘을 가진 영웅의 경우, 기존의 단순한 스킬 우선순위 방식으로는 효율적인 활용이 어렵습니다. 따라서, 사전에 스킬을 원하는 순서대로 등록하여, 해당 순서대로만 발동되도록 하는 기능이 반드시 필요하다고 생각합니다. 그러므로 현재의 쿨타임 기반 자동 발동 방식 외에, 새로운 메커니즘의 자동스킬 시스템을 추가하는 것을 제안...\n",
       "91                                                                                                                                                                                                                                                                                                        플레이어 캐릭터 '나'가 대화에서 선택지도 고르고 여러 캐릭터와 소통하는 모습이 나와서 캐릭터들과 동료가 돼서 모험을 떠나는 것 같은 느낌도 들었어요... 스토리 중간중간에 나오는 컷신과 BGM의 퀄리티도 좋았어요... 전투를 하며 볼 수 있는 스킬 사용 연출도 인상적이서 지나가다 한 대만 쳐도 죽을 것 같은 적 몬스터에도 스킬 연출이 정성스럽게 달려있어 놀라웠어요...\n",
       "112        5년, 6년 정도 세나 1 했었던 유저로서, 시스템 적으로 문제가 많아보입니다. 1. 스킬은 제대로 사용되었으나 아군 및 적군의 체력이 깎이는 것도 보이지 않고 데미지 폰트 또한 나오지 않습니다. 그러다가 갑자기 돌연사를 하는 경우가 많습니다. 2. 레이첼 같이 부활하는 기능을 가진 캐릭터들이 부활 상태에 들어갔을 때, 유령 모드로 들어갑니다. 분명히 처치되어 있는데 스킬과 평타를 사용하고 있습니다. 정말 당혹스러운 것은 플레이어는 해당 캐릭터의 스킬을 예약할 수 없고, 무엇을 하는 건지 데미지폰트 또한 보이지 않아서 의문패라던가 의문승을 하곤 합니다. 3. 성장던전을 시작하면 캐릭터 하나가 무작위로 처치되고 진행됩니다. 부활 문제와 마찬가지로 스킬을 예약할 수 없지만 자동스킬로는 사용되어 집니다. 자동으로 스킬이 사용되어 지면 스킬 이펙트, 데미지 폰트 없이 사용되어졌다고 합니다. 그외에도 게임꺼짐현상(하루5번이상), 처치되었는데 체력바 가지고 서있음 등 문제가 많아요..\n",
       "334                                                                                                                                                                                                                                                                                                                                                                                                            원작을 해본 적 없는 사람이라서 비교분석같은 건 못하지만 그래픽이나 컷신, 스킬 연출등이 멋있어서 제 취향이에요. 또한 모험 하면서 진행되는 스토리가 몰입에 도움을 주는 것 같아서 좋았습니다.\n",
       "501                                                                                                                                                                                                                                                                                                                                                                      이 게임은 깔끔 하게 장점 몇가지만 설명 하고 끝내겠습니다 1.스토리가 탄탄합니다 2.캐릭터의 특징들이 섬세하게 잘 표현 되어 있습니다. 3.다양한 멋있는 스킬들이 많습니다 4.게임 캐릭터에 몰입 할 수있어 흡입력 장난 아닙니다. 5.재밌습니다!!!개꿀잼!!!\n",
       "Name: original_contents, dtype: object"
      ]
     },
     "metadata": {},
     "output_type": "display_data"
    },
    {
     "name": "stdout",
     "output_type": "stream",
     "text": [
      "==================================================================================================== \n",
      " Topic Cluster: 2\n"
     ]
    },
    {
     "data": {
      "text/plain": [
       "22     편의성 관련하여 패치가 이뤄져서 재밌게 플레이 중입니다. 예전에 비해 색다른 재미도 있고요. 그런데 건의사항인데요. 장비 관련입니다. 가방에서 정렬하는 방식 때문에 일일히 확인해야 하고 또 판매할때도 재확인해야 해서 불편합니다. 같은 종류의 장비끼리 정렬할 수 있도록 해주세요. (6성, 4성 상관없이 같은 종류의 장비끼리요.) 기존에는 기본적으로 성급이 낮은 순으로 정렬되지만, 강화된 수치가 높다면 더 상위로 배치되고, 강화 수치가 다르면 같은 종류의 장비끼리 또 묶입니다. (여기서도 암살자, 성기사끼리 또 묶이죠.) 6성 장비는 그렇다고 치더라도, 5성 4성도 그러하니.. 눈에 피로도가 장난이 아닙니다. 심지어 판매하려면 바로 판매가 불가능하니, 템을 다시 일일히 확인 후 팔아야하죠. 이때는 더 번거롭게 두 번씩 눌러줘야 합니다. 이 일련의 과정이 피로도를 게임을 하는 데에 피로도를 생각보다 높입니다. 꼭 개선하여 주시길 부탁드리겠습니다.\n",
       "115                                                                                                                                                                                                                                                         세븐나이츠 리버스 이용자 입니다. 세븐나이츠 리버스 개발자와 함께 10년 이든 100년 이든 1000년 이든 계속 함께 하고 싶습니다. 앞으로도 개선해 다양한 시스템 과 이벤트 신규모험과 신규영웅 등등 상시적으로 계속 추가하여 유저들과 함께 10년이 아닌 100년이 아닌 1000년이 아닌 계속 함께 즐길수 있도록 긴 여정을 함께 같이 하고 싶습니다. 세븐나이츠 리버스 운영자님들 화이팅 입니다. 사랑합니다. ^^\n",
       "175                                                                                                                                                                                                                                                                                                                        약 한달 동안 하고 있는 유저입니다. 이 게임 잡버그 이런거는 오픈초기라 어느 정도 이해하며 즐기고 있습니다. 단, 이 회사 운영진이 심할정도로 소통이 없으며 어떠한 건의사항을 올려도 피드백이라는게 전혀없습니다. 매출이 상승대비, 게임 퀄리티 대비 최악의 운영 서비스를 제공한다고 자부할 수 있습니다.\n",
       "25                                                                                                                                                                                                                                                                                            한마디로 하지마세요 일단 어떤 버그가 있어도 패치 하지도 않고 업데이트 자기 마음대로고 소통이 1도 없습니디 패치 언제 하는지도 모르고 당일 업데이트 하면서 공지 올리는 몰상식한 게임입니다 플레이스토어 댓글의 답변조차 없는 쓰레기 게임 아마 중국양산형만 게임만도 못한 쓰레기 게임 조만간 튈거 같습니다 이게 한달도 안된 게임이라는게 ㅋㅋ 어이가 없습니다\n",
       "416                                                                                                                                                                                                                                                                                                                                                                                           넷마블식 운영을 벗어나서 오래오래 유지되면 좋겠네요 첫픽업 제이브 두번째픽업 태오는 제이브 상위호환..벌써 제이브는 거의 쓰지도 않죠..계속 상위호환 내는게 보이면 금방 접을듯합니다\n",
       "Name: original_contents, dtype: object"
      ]
     },
     "metadata": {},
     "output_type": "display_data"
    },
    {
     "name": "stdout",
     "output_type": "stream",
     "text": [
      "==================================================================================================== \n",
      " Topic Cluster: 3\n"
     ]
    },
    {
     "data": {
      "text/plain": [
       "847    게스트계정으로 잘하고 있었는대 업데이트후 로그아웃 돼어 게스트계정 안들어가져~ 결제까지 했는데 이게 뭔 짓거리야~~~ 복구할려면 계정아이뒤랑 달라는데 게스트계정아이디를 내가 어떻게 왜우냐~!!!\n",
       "706                                                                                      보상부족 열쇠부족 원소부족 다부족 그냥 현질게임\n",
       "574                                                    게스트에서 현질하며 게임하다 계정 연동 하려했는데 갑자기 로그아웃 되고 계정이 잃어버렸습니다 환불좀 해주세요\n",
       "69                                   이전 세나1처럼 무한 쫄작이 안 되서 재화 수급이 너무 안 됨 이럴거면 쫄작 가이드는 뭐하러 만든건지도 모르겠음 월정액권 질러봤자 무용지물임\n",
       "575                                      여전한 열쇠의 모자람과 영웅 하나 진화시 원소노가다 등 그냥 원소수급처와 열쇠수급처를 늘리는게 훨 나을듯 (열쇠충전시간도 너무 느림)\n",
       "Name: original_contents, dtype: object"
      ]
     },
     "metadata": {},
     "output_type": "display_data"
    },
    {
     "name": "stdout",
     "output_type": "stream",
     "text": [
      "==================================================================================================== \n",
      " Topic Cluster: 4\n"
     ]
    },
    {
     "data": {
      "text/plain": [
       "1397                                                                                                                        세나하자~세나 세나하자~세나 씬나~~~~~\n",
       "4305                                                                                                                              세나하자 세나 ! 세나하자 세나\n",
       "1873                                                                                                              세나하자 세나 세나하자 세나 광고 리메이크 해줬으면 좋겠다.\n",
       "519     세나1 처음나왔쓸때 했던유저 입니다 보상도 처음 세나 시작했쓸대 보상도 없이 시작하고 했던거 기억이 나네요ㅋㅋㅋ 세나 리버스는 처음나오고 보상도 괜찮게 잘주는거 같고 세나1 처음 시작했때보다 좋은거 같습니다 지금처럼 재미있는 세나 만들어나가 주세요~\n",
       "70                                                                                                        오랜만에 세나 하는재미가 쏠쏠해용ㅋㅋㅋ 원래 유저인데 옛날생각나구 좋네요!\n",
       "Name: original_contents, dtype: object"
      ]
     },
     "metadata": {},
     "output_type": "display_data"
    },
    {
     "name": "stdout",
     "output_type": "stream",
     "text": [
      "==================================================================================================== \n",
      " Topic Cluster: 5\n"
     ]
    },
    {
     "data": {
      "text/plain": [
       "2420             1.픽업뽑기 제이브 200회 고봉밥(주변도 대부분 190뽑에 뽑음) 2.사양 최하로 돌려도 발열 + 배터리 소모 속도 빠름 3.캐릭터 강화 확률 50퍼 10개 발라도 0~2강 붙음(이런 경우가 좀 많았음) 4.원정대 고정 슬롯, 원정대 모두 해제버튼, 있으면 좋겠음 5.재접속 재접속 재접속 재접속 재접속 재접속 재접속 재접속 재접속 재접속 재접속 재접속 재접속 재접속 재접속 재접속 재접속 재접속 재접속 재접속 재접속 재접속 재접속 재접속 재접속\n",
       "3656    24 울트라 최고 사양 : 버벅임 심함, 발열 심함 고 사양 : 버벅임 있음, 발열 심함 중 사양 : 버벅임 간헐적 있음, 발열 심함 저사양 : 발열 있음 모니터 연결 시 최고사양 : 버벅임 매우 심함, 발열 있음 고사양 : 버벅임 심함, 발열 있음 중 사양 : 버벅임 있음, 발열 있음 저 사양 : 버벅임 있음, 발열 있음 쿨링 패드 사용은 미실시 이 게임을 모바일로 하는 것은 무리가 있음 쿨링 패드가 필연적일 거 같음 모니터 연결의 경우 덱스의 문제로 여겨짐\n",
       "71                                                                                                    아니 난 아직도 이게임이 이렇게 발열이랑 렉 튕김이 있는 이유를 모르겠음 그래픽이 좋길하나 연출이 좋길 하나 스케일이 크길 하나 그냥 유니티로 만들어도 비슷하게 나올 그래픽을 괜히 언리얼로 만들어서 최적화랑 안정성 개판으로 만듬 심지어 시점이 자유도 아닌 탑뷰 고정 턴제인데 이따위 최적화는...\n",
       "1406                                                                                                                                                                                                 그냥 평가 필요없음 그냥 재밌음 이거는 뭐 어쩌고 저거는 좀 별로고 이런거 할 필요 없음 그냥 재밌음 그냥 백종원임 오로지 맛\n",
       "3825                                                                                   발열이 너무심하고 자주 튕기고 안정적으로 와이파이에 연결되있는데도 불구하고 시도 때도 없이 재접속이되고 심지어 재접속의 재접속의 재접속의 재접속의 재실행이라는 인셉션같은 상황도 나옴. +게임 접속하자마자 재접속 필요만 떠서 게임을 할수 없을 정도임. 진짜 와..... 넷마블이 그럼 그렇지, 세나는 죽었다라는 느낌말곤안듬.\n",
       "Name: original_contents, dtype: object"
      ]
     },
     "metadata": {},
     "output_type": "display_data"
    },
    {
     "name": "stdout",
     "output_type": "stream",
     "text": [
      "==================================================================================================== \n",
      " Topic Cluster: 6\n"
     ]
    },
    {
     "data": {
      "text/plain": [
       "10     지난 시즌 결투장을 5805점으로 마무리했는데 저는 정상적으로 5000점으로 초기화가 된 반면 몇몇 유저들은 버그로 그대로 점수를 유지해서 손쉽게 레전드 테두리를 보상으로 타네요? 그래놓고 결투장을 임시로 닫지도 않고 공지에는 확인된 사항 목록에 한 줄 띡 추가하고 아무 반응이 없으시네요 상대적 손해본 사람들 대부분이 많은 돈을 과금한 사람들인데 대우가 이런 식이면 앞으로 운영진을 믿고 돈을 쓰기 상당히 고민됩니다 솔직히 지금도 버그가 많고 출시한지 한달이 지났는데도 버그들 방치하는 것까지 다 참았는데 이번 버그까진 참기 힘듭니다 진짜 한탕하고 서비스 종료하려는거 아니면 버그들 조속히 고치시길 바랍니다\n",
       "48                                                                                                                                                                                                                                                                                         재미있긴 한데 중간에 튕기는건 고치고 계시는 중인 버그인가요? 결투장이나 모험할때 계속 튕기는데 이것 좀 고처주세요\n",
       "542                                                                                                                               영웅 버그좀 먼저 빨리 고쳐주세요 짜증나서 못하겠습니다. 레이드 결투장 등 영웅들 실제론 죽은 상태이지만 살아있는 모습으로 그대로 있습니다. 결투장은 그거대로 빡치고, 레이드도 살아있는줄 알고 스킬 계산 해놓으면 실제로 눌렀을때 돼서야 죽었다고 뜨네요? 그와중에 계속 서있고요.. 오픈 초기부터 있던 버그인데 언제 고쳐지나요. 무탑, 레이드처럼 한판한판이 힘든데 심하게 스트레스 받네요ㅡㅡ\n",
       "30                                                                                                                                                                                                                                                                                         제발 튕기는 버그 좀 잡아주세요. 레이드 중에 계속 튕겨서 매우 불편하네요...보상도 없고, 열쇠만 계속 소모되네요\n",
       "52                                                                                                                                                                                                                                         결투장에서 승부가 끝나고 딜량, 힐량, 받은 피해량 이런 정보들을 볼 수 있게 만들어 주시면 더 좋을 것 같습니다. 그리고 캐릭터들 죽었는데도 피가 있는 상태로 서있는 이 버그 좀 서둘러 고쳐 주시죠?\n",
       "Name: original_contents, dtype: object"
      ]
     },
     "metadata": {},
     "output_type": "display_data"
    },
    {
     "name": "stdout",
     "output_type": "stream",
     "text": [
      "==================================================================================================== \n",
      " Topic Cluster: 7\n"
     ]
    },
    {
     "data": {
      "text/plain": [
       "858                                       영웅강화 확률 10% 10마리면 1마리는 붙여줘야하는거 아니냐? 50%3마리 넣었는데 안 붙는거 말 안된다고 생각하지않음? 25%짜리애들 5마리 갈아넣는데 한마리가 안 붙음 말 안됨 확률버그임\n",
       "204                                                                                      1개도아까움 확률조작100퍼인게 리세30번인데 좋은건커녕 평타도안뜨고 18니아11유신1벨리카 ㅋㅋ 진짜 싫다\n",
       "47                                   세나 프리미엄 30000원 짜리 사고 퍼스트 클래스 15000원으로 할인 하길래 샀는데 즉시 지급 되는 것만 들어오고 나머진 안 들어왔는데 의도 된건가요? 의도 된거면 설명을 적어줘야 하는거 아닐까요?\n",
       "1       아니 뽑기확률 극악이네요 확정에서만 나오고 이건 뭐 하지말라는 소리인가요? 영웅이 좀 나와야 재미있게 하는데 열심히 루비 모아서 뽑으면 나오질 않으니 흥미가 사라지네요 이 다음 루뽑에서 전설 안나오면 접을게요 원작 하던 유저로서 이건 좀 아닌듯 싶습니다\n",
       "1027                                                                             아니 확정픽업이면 확정이지 그안에 50%가 또잇네? 확정 뜻을모르나 이게임은? 진짜 이상하네; 리뷰 왜 삭제하고 안뜨게함?\n",
       "Name: original_contents, dtype: object"
      ]
     },
     "metadata": {},
     "output_type": "display_data"
    }
   ],
   "source": [
    "for topic in range(optimal_num_topics):\n",
    "    # 토픽별 확률 상위 리뷰 추출\n",
    "    top_reviews = processed_reviews[processed_reviews['dominant_topic'] == topic].sort_values('topic_probability', ascending=False).head(5)\n",
    "    print(\"=\"*100, \"\\n\", f\"Topic Cluster: {topic}\")\n",
    "    display(top_reviews['original_contents'])"
   ]
  },
  {
   "cell_type": "code",
   "execution_count": 22,
   "metadata": {},
   "outputs": [
    {
     "name": "stdout",
     "output_type": "stream",
     "text": [
      "==================================================================================================== \n",
      " Topic Cluster: 0\n"
     ]
    },
    {
     "data": {
      "text/plain": [
       "2898                       재미있게 시작했어요\n",
       "1476    옛 추억에 플레이 해봤는데 뭐만 하면 튕기고 그러네요\n",
       "834              현질을 안하면 초반부분은 좀 힘들어요\n",
       "4293                                👍\n",
       "2448                        세나1 느낌 좋군\n",
       "Name: original_contents, dtype: object"
      ]
     },
     "metadata": {},
     "output_type": "display_data"
    },
    {
     "name": "stdout",
     "output_type": "stream",
     "text": [
      "==================================================================================================== \n",
      " Topic Cluster: 1\n"
     ]
    },
    {
     "data": {
      "text/plain": [
       "1439                                                                                                                                                                                                                                                                                                                                                                                                                                                                                                세나1이 더빙이나 타격감 스킬들이 훨 나음\n",
       "91                                                                                                                                                                                                                                                                                                         플레이어 캐릭터 '나'가 대화에서 선택지도 고르고 여러 캐릭터와 소통하는 모습이 나와서 캐릭터들과 동료가 돼서 모험을 떠나는 것 같은 느낌도 들었어요... 스토리 중간중간에 나오는 컷신과 BGM의 퀄리티도 좋았어요... 전투를 하며 볼 수 있는 스킬 사용 연출도 인상적이서 지나가다 한 대만 쳐도 죽을 것 같은 적 몬스터에도 스킬 연출이 정성스럽게 달려있어 놀라웠어요...\n",
       "2144                                                                                                                                                                                                                                                                                                                                         1.재접속버그 2.소리 이상하게 나오는버그(일부소리 크거나 작음) 3.캐릭터 죽었는데 필드에 있는 이미지버그 4.튕김버그 5.스토리와 전투 동시에 진행되는 버그 6.맵 이상하게 보이는 버그 7.원래 그런건지 모르겠지만 최상옵에서도 그래픽이 선명하게 보이지 않을때도 있음 탱탱하지 슬라임이랑 성장던전 버섯은 귀여움\n",
       "112         5년, 6년 정도 세나 1 했었던 유저로서, 시스템 적으로 문제가 많아보입니다. 1. 스킬은 제대로 사용되었으나 아군 및 적군의 체력이 깎이는 것도 보이지 않고 데미지 폰트 또한 나오지 않습니다. 그러다가 갑자기 돌연사를 하는 경우가 많습니다. 2. 레이첼 같이 부활하는 기능을 가진 캐릭터들이 부활 상태에 들어갔을 때, 유령 모드로 들어갑니다. 분명히 처치되어 있는데 스킬과 평타를 사용하고 있습니다. 정말 당혹스러운 것은 플레이어는 해당 캐릭터의 스킬을 예약할 수 없고, 무엇을 하는 건지 데미지폰트 또한 보이지 않아서 의문패라던가 의문승을 하곤 합니다. 3. 성장던전을 시작하면 캐릭터 하나가 무작위로 처치되고 진행됩니다. 부활 문제와 마찬가지로 스킬을 예약할 수 없지만 자동스킬로는 사용되어 집니다. 자동으로 스킬이 사용되어 지면 스킬 이펙트, 데미지 폰트 없이 사용되어졌다고 합니다. 그외에도 게임꺼짐현상(하루5번이상), 처치되었는데 체력바 가지고 서있음 등 문제가 많아요..\n",
       "803     일단 큰 문제는 없지만 사소한 문제가 너무 많습니다. 1. 필요없는 강화창 분리 그로 인한 로딩발생 2. 이정도 그래픽에 생각보다 강한 발열 및 최적화 부족 3. 골드던전에 이상한 제한을 걸어 그 조건을 만족할려면 여러 영웅을 강화해야 하는데 그에 들어가는 골드 수급이 불가능한 아이러니. 4. 애들 스킬 연출이 세나1에 비해 너무 카메라 시점이 과하거나 맥빠져서 맛없음. 5. 적이 스킬을 써도 무조건 평타를 두대 때려야해서 턴이 너무 빠르게 빠져 디버프나 버프 유지가 힘들고 두명의 캐릭터가 스킬도 못쓰고 놀아버리는데다 치유를 하다가 잘못하면 걸어둔 디버프가 빠져 더 위험해지는 이상해진 턴제 한대ㄱ 6. 기절같은 디버프를 받을때 스킬 예약이 아예 불가능해서 디버프가 풀리자마자 스킬을 쓰고 싶어도 불가능한 불편함. 7. 아군이나 상대에게 걸린 디버프나 버프 확인의 불편함. 8. 쫄작용 진형선택이 없어 일일이 진형을 변경해줘야 하는 번거러움. 쓰고 싶은게 더 많지만 여백이 없어 끝...\n",
       "Name: original_contents, dtype: object"
      ]
     },
     "metadata": {},
     "output_type": "display_data"
    },
    {
     "name": "stdout",
     "output_type": "stream",
     "text": [
      "==================================================================================================== \n",
      " Topic Cluster: 2\n"
     ]
    },
    {
     "data": {
      "text/plain": [
       "2855                                                                                                                                                                                                                                                                                  튜토리얼 드럽게기네\n",
       "3607                                                                                                                                                                                                                                                                 겁나튕ㅅ김3~5분접속하면 계속팅김 폰2개 다 튕김\n",
       "1907                                                                                                    재미있음. 단, 재화 수급이 헬임. 과금(루비사용)을 해야만 그나마 수급이 됨. 물론, 초반이라서 뽑기를 빨리 끝내놓고 난 뒤는 루비가 제법 모이긴 하지만 무과금들은 추후 나올 신규캐릭 육성을 위해 비축해야되기 때문에 쉽게 루비사용이 힘들어짐. 그때문에 시간을 두고 게임을해야됨. 느긋하게 게임한다손 치면 뭐 짜증나긴해도 할만함.\n",
       "4062                                                                                                                                                                                어떻해 10개 뽑기을 많이 했는데. 왜 안나와요?? 오픈하고 머하나 퍼주는것도 없고, 이게임 스킬도 그냥 RPG 키우기랑 똑같이 스킬도 고정으로 설정되어 있고, 차라리 로스트소드 하는게 낳겠네요\n",
       "2337    최악입니다 일단 고과금 유저 아니면 게임 진행이 불가능 합니다 매우 천천히 하면 되긴하지만, 일단 열쇠가 매우부족하고 시간 지나면 생기는건 매우느립니다. 현질을 했음에도 열쇠가 부족하고 쫄작하면 되지 않냐 이것도 하는사람은 알겟지만 부족합니다 결국 몇십만원 질러서 도박성으로 운좋게 루비로 카드뽑기로 극악의 확률을 뚫고 좋은 전설을 뽑거나 수백개의 카드로 강화를 해야 스토리 진행이 가능합니다 시간들여 하는 게임이 아니고 돈들여 게임하는 게임입니다. 자동사냥 게임 하실분들은 비추입니다 열쇠 악질입니다\n",
       "Name: original_contents, dtype: object"
      ]
     },
     "metadata": {},
     "output_type": "display_data"
    },
    {
     "name": "stdout",
     "output_type": "stream",
     "text": [
      "==================================================================================================== \n",
      " Topic Cluster: 3\n"
     ]
    },
    {
     "data": {
      "text/plain": [
       "2148    옛날 생각하면서 정말 재미있게 잘하고 있습니다 그런데 원소 에너지를 모으는게 너무 힘든데 예전처럼 원소 케릭터처럼 만들어서 영웅 진화시킬때 하나만 사용하는 방식이 더 좋을것 같습니다\n",
       "3549                                                                     쫄작 불가능하게 열쇠 가격 올려놓음, 월정액 강제하는 수준의 bm\n",
       "355            재밋게 플레이 하고있었습니다. 제가 게스트로 게임하다 연동깜빡하고 안하다 오늘 들어가면 연동할 생각이였습니다만 접속하니 전까지 사용하던 계정이 사라졌습니다. 도와주세요ㅜ\n",
       "389                                                                                   구글계정 로그인 안되고 팅기네요...-_-\n",
       "1313                                                       버그는 버그대로 쫄은 쫄대로 부족합니다 현질을 해도 부족하면 무자본들은 어케 살아남습니까?\n",
       "Name: original_contents, dtype: object"
      ]
     },
     "metadata": {},
     "output_type": "display_data"
    },
    {
     "name": "stdout",
     "output_type": "stream",
     "text": [
      "==================================================================================================== \n",
      " Topic Cluster: 4\n"
     ]
    },
    {
     "data": {
      "text/plain": [
       "3708      아니.. 한국한정서비스면.. 리소스 받기전에.. 튜토하기전에 알려줘야죠.. 다하고나서 서비스안한다고 하면.... 하..\n",
       "1911                                                          버그만 없으면 재미 굿국굿\n",
       "599                                                           걍 세나1 다시 댈꼬 와줘\n",
       "329     시즌1부터 했었는데 디자인과 그림체 스킬작동시 에니메이션이 너무 멋지고 게임 할 맛 납니다 너무 재미있어요~ 세나 화이팅~\n",
       "2918                                             세나 신작이 나와서 옛 버전보다 화질이 좋습니다.\n",
       "Name: original_contents, dtype: object"
      ]
     },
     "metadata": {},
     "output_type": "display_data"
    },
    {
     "name": "stdout",
     "output_type": "stream",
     "text": [
      "==================================================================================================== \n",
      " Topic Cluster: 5\n"
     ]
    },
    {
     "data": {
      "text/plain": [
       "2166                           발열 오짐\n",
       "158                           발열 잡아라\n",
       "776                         전투중 자꾸튕김\n",
       "2922    접속을하면 계속 로그인 오류랑 재접속하라고 팅깁니다\n",
       "439              발열개심함 손난로 인가요? 개선좀요\n",
       "Name: original_contents, dtype: object"
      ]
     },
     "metadata": {},
     "output_type": "display_data"
    },
    {
     "name": "stdout",
     "output_type": "stream",
     "text": [
      "==================================================================================================== \n",
      " Topic Cluster: 6\n"
     ]
    },
    {
     "data": {
      "text/plain": [
       "1305                                                                                 툭하면게임튕겨요 제발조치좀...\n",
       "3474                                           자꾸 튕기는데 서버 문제 해결 시급하고 음.. 미흡한게 많아 보이는데 너무 성급하게 출시한게 아닌지\n",
       "48                                    재미있긴 한데 중간에 튕기는건 고치고 계시는 중인 버그인가요? 결투장이나 모험할때 계속 튕기는데 이것 좀 고처주세요\n",
       "1566    '결투장 로딩화면에서 멈추는 현상' 좀 고쳐주세요. 그리고 그로인해 사라진 결투장 티켓, 깎인 점수도 배상해주세요. 배상이 불가능하다면 그에 맞는 대처 부탁드립니다...\n",
       "873                                                                             버그고치면 4점짜리겜인데 버그 너무많아요\n",
       "Name: original_contents, dtype: object"
      ]
     },
     "metadata": {},
     "output_type": "display_data"
    },
    {
     "name": "stdout",
     "output_type": "stream",
     "text": [
      "==================================================================================================== \n",
      " Topic Cluster: 7\n"
     ]
    },
    {
     "data": {
      "text/plain": [
       "2785                                  겜은 재밌는거 같은데 화면 다른앱으로 조금이라도 전환되는수간 재접속 해야한다고 오류가 도대체 몇번이 뜨는건가요....\n",
       "1317                                                         넷마블도 한물간나? 서버관리가 안되나요 접속이 안돼 첨도아니면서 아마추어같네\n",
       "425                                                                                           에휴 추억팔이 겜\n",
       "968                                                                                           재밋음!!!!!!\n",
       "113     너무 버그가 많다. 별의 별 버그가많다. 영웅이 데미지를 입어도 표기가 안되거나. 모험 돌때 시작부터 영웅하나가 죽은걸로 표시되서 스킬도못쓰거나 레이드는 돌때마다 튕긴다.\n",
       "Name: original_contents, dtype: object"
      ]
     },
     "metadata": {},
     "output_type": "display_data"
    }
   ],
   "source": [
    "for topic in range(optimal_num_topics):\n",
    "    # 토픽별 랜덤 추출\n",
    "    top_reviews = processed_reviews[processed_reviews['dominant_topic'] == topic].sample(5)\n",
    "    print(\"=\"*100, \"\\n\", f\"Topic Cluster: {topic}\")\n",
    "    display(top_reviews['original_contents'])"
   ]
  },
  {
   "cell_type": "markdown",
   "metadata": {},
   "source": [
    "#### (10) 토픽 이름 지정 및 해석"
   ]
  },
  {
   "cell_type": "code",
   "execution_count": 23,
   "metadata": {},
   "outputs": [
    {
     "name": "stdout",
     "output_type": "stream",
     "text": [
      "\n",
      "토픽 이름별 리뷰 분포:\n",
      "topic_name\n",
      "Optimization    1284\n",
      "Bug              698\n",
      "Play Design       34\n",
      "Original          13\n",
      "Name: count, dtype: int64\n"
     ]
    }
   ],
   "source": [
    "# 토픽 이름 정의 (4개 기준)\n",
    "topic_names = {\n",
    "    0: \"Optimization\",\n",
    "    1: \"Original\",\n",
    "    2: \"Bug\",\n",
    "    3: \"Play Design\"\n",
    "}\n",
    "\n",
    "# 토픽 이름을 데이터프레임에 추가\n",
    "processed_reviews['topic_name'] = processed_reviews['dominant_topic'].map(topic_names)\n",
    "\n",
    "# 토픽 이름별 리뷰 분포 확인\n",
    "topic_name_distribution = processed_reviews['topic_name'].value_counts()\n",
    "print(\"\\n토픽 이름별 리뷰 분포:\")\n",
    "print(topic_name_distribution)"
   ]
  },
  {
   "cell_type": "markdown",
   "metadata": {},
   "source": [
    "### Words Frequency"
   ]
  },
  {
   "cell_type": "code",
   "execution_count": 24,
   "metadata": {},
   "outputs": [],
   "source": [
    "from collections import Counter\n",
    "from wordcloud import WordCloud\n",
    "import matplotlib.pyplot as plt"
   ]
  },
  {
   "cell_type": "code",
   "execution_count": 25,
   "metadata": {},
   "outputs": [
    {
     "ename": "KeyError",
     "evalue": "'noun_tokens'",
     "output_type": "error",
     "traceback": [
      "\u001b[1;31m---------------------------------------------------------------------------\u001b[0m",
      "\u001b[1;31mKeyError\u001b[0m                                  Traceback (most recent call last)",
      "File \u001b[1;32mc:\\Users\\user\\anaconda3\\Lib\\site-packages\\pandas\\core\\indexes\\base.py:3805\u001b[0m, in \u001b[0;36mIndex.get_loc\u001b[1;34m(self, key)\u001b[0m\n\u001b[0;32m   3804\u001b[0m \u001b[38;5;28;01mtry\u001b[39;00m:\n\u001b[1;32m-> 3805\u001b[0m     \u001b[38;5;28;01mreturn\u001b[39;00m \u001b[38;5;28mself\u001b[39m\u001b[38;5;241m.\u001b[39m_engine\u001b[38;5;241m.\u001b[39mget_loc(casted_key)\n\u001b[0;32m   3806\u001b[0m \u001b[38;5;28;01mexcept\u001b[39;00m \u001b[38;5;167;01mKeyError\u001b[39;00m \u001b[38;5;28;01mas\u001b[39;00m err:\n",
      "File \u001b[1;32mindex.pyx:167\u001b[0m, in \u001b[0;36mpandas._libs.index.IndexEngine.get_loc\u001b[1;34m()\u001b[0m\n",
      "File \u001b[1;32mindex.pyx:196\u001b[0m, in \u001b[0;36mpandas._libs.index.IndexEngine.get_loc\u001b[1;34m()\u001b[0m\n",
      "File \u001b[1;32mpandas\\\\_libs\\\\hashtable_class_helper.pxi:7081\u001b[0m, in \u001b[0;36mpandas._libs.hashtable.PyObjectHashTable.get_item\u001b[1;34m()\u001b[0m\n",
      "File \u001b[1;32mpandas\\\\_libs\\\\hashtable_class_helper.pxi:7089\u001b[0m, in \u001b[0;36mpandas._libs.hashtable.PyObjectHashTable.get_item\u001b[1;34m()\u001b[0m\n",
      "\u001b[1;31mKeyError\u001b[0m: 'noun_tokens'",
      "\nThe above exception was the direct cause of the following exception:\n",
      "\u001b[1;31mKeyError\u001b[0m                                  Traceback (most recent call last)",
      "Cell \u001b[1;32mIn[25], line 2\u001b[0m\n\u001b[0;32m      1\u001b[0m \u001b[38;5;66;03m# 모든 리뷰의 토큰 리스트를 하나로 합치기\u001b[39;00m\n\u001b[1;32m----> 2\u001b[0m all_tokens \u001b[38;5;241m=\u001b[39m [token \u001b[38;5;28;01mfor\u001b[39;00m tokens \u001b[38;5;129;01min\u001b[39;00m processed_reviews[\u001b[38;5;124m'\u001b[39m\u001b[38;5;124mnoun_tokens\u001b[39m\u001b[38;5;124m'\u001b[39m] \u001b[38;5;28;01mfor\u001b[39;00m token \u001b[38;5;129;01min\u001b[39;00m tokens]\n\u001b[0;32m      4\u001b[0m \u001b[38;5;66;03m# 단어 빈도 계산\u001b[39;00m\n\u001b[0;32m      5\u001b[0m word_counts \u001b[38;5;241m=\u001b[39m Counter(all_tokens)\n",
      "File \u001b[1;32mc:\\Users\\user\\anaconda3\\Lib\\site-packages\\pandas\\core\\frame.py:4102\u001b[0m, in \u001b[0;36mDataFrame.__getitem__\u001b[1;34m(self, key)\u001b[0m\n\u001b[0;32m   4100\u001b[0m \u001b[38;5;28;01mif\u001b[39;00m \u001b[38;5;28mself\u001b[39m\u001b[38;5;241m.\u001b[39mcolumns\u001b[38;5;241m.\u001b[39mnlevels \u001b[38;5;241m>\u001b[39m \u001b[38;5;241m1\u001b[39m:\n\u001b[0;32m   4101\u001b[0m     \u001b[38;5;28;01mreturn\u001b[39;00m \u001b[38;5;28mself\u001b[39m\u001b[38;5;241m.\u001b[39m_getitem_multilevel(key)\n\u001b[1;32m-> 4102\u001b[0m indexer \u001b[38;5;241m=\u001b[39m \u001b[38;5;28mself\u001b[39m\u001b[38;5;241m.\u001b[39mcolumns\u001b[38;5;241m.\u001b[39mget_loc(key)\n\u001b[0;32m   4103\u001b[0m \u001b[38;5;28;01mif\u001b[39;00m is_integer(indexer):\n\u001b[0;32m   4104\u001b[0m     indexer \u001b[38;5;241m=\u001b[39m [indexer]\n",
      "File \u001b[1;32mc:\\Users\\user\\anaconda3\\Lib\\site-packages\\pandas\\core\\indexes\\base.py:3812\u001b[0m, in \u001b[0;36mIndex.get_loc\u001b[1;34m(self, key)\u001b[0m\n\u001b[0;32m   3807\u001b[0m     \u001b[38;5;28;01mif\u001b[39;00m \u001b[38;5;28misinstance\u001b[39m(casted_key, \u001b[38;5;28mslice\u001b[39m) \u001b[38;5;129;01mor\u001b[39;00m (\n\u001b[0;32m   3808\u001b[0m         \u001b[38;5;28misinstance\u001b[39m(casted_key, abc\u001b[38;5;241m.\u001b[39mIterable)\n\u001b[0;32m   3809\u001b[0m         \u001b[38;5;129;01mand\u001b[39;00m \u001b[38;5;28many\u001b[39m(\u001b[38;5;28misinstance\u001b[39m(x, \u001b[38;5;28mslice\u001b[39m) \u001b[38;5;28;01mfor\u001b[39;00m x \u001b[38;5;129;01min\u001b[39;00m casted_key)\n\u001b[0;32m   3810\u001b[0m     ):\n\u001b[0;32m   3811\u001b[0m         \u001b[38;5;28;01mraise\u001b[39;00m InvalidIndexError(key)\n\u001b[1;32m-> 3812\u001b[0m     \u001b[38;5;28;01mraise\u001b[39;00m \u001b[38;5;167;01mKeyError\u001b[39;00m(key) \u001b[38;5;28;01mfrom\u001b[39;00m \u001b[38;5;21;01merr\u001b[39;00m\n\u001b[0;32m   3813\u001b[0m \u001b[38;5;28;01mexcept\u001b[39;00m \u001b[38;5;167;01mTypeError\u001b[39;00m:\n\u001b[0;32m   3814\u001b[0m     \u001b[38;5;66;03m# If we have a listlike key, _check_indexing_error will raise\u001b[39;00m\n\u001b[0;32m   3815\u001b[0m     \u001b[38;5;66;03m#  InvalidIndexError. Otherwise we fall through and re-raise\u001b[39;00m\n\u001b[0;32m   3816\u001b[0m     \u001b[38;5;66;03m#  the TypeError.\u001b[39;00m\n\u001b[0;32m   3817\u001b[0m     \u001b[38;5;28mself\u001b[39m\u001b[38;5;241m.\u001b[39m_check_indexing_error(key)\n",
      "\u001b[1;31mKeyError\u001b[0m: 'noun_tokens'"
     ]
    }
   ],
   "source": [
    "# 모든 리뷰의 토큰 리스트를 하나로 합치기\n",
    "all_tokens = [token for tokens in processed_reviews['noun_tokens'] for token in tokens]\n",
    "\n",
    "# 단어 빈도 계산\n",
    "word_counts = Counter(all_tokens)\n",
    "\n",
    "# 상위 빈도 단어 추출 및 데이터프레임화\n",
    "frequency = 30\n",
    "top_frequency = word_counts.most_common(frequency)\n",
    "\n",
    "keyword_list = []\n",
    "frequency_list = []\n",
    "\n",
    "for i in range(0, len(top_frequency)):\n",
    "    keyword_list.append(top_frequency[i][0])\n",
    "    frequency_list.append(top_frequency[i][1])\n",
    "\n",
    "top_frequency_dictionary = {\n",
    "    'keyword' : keyword_list\n",
    "    , 'frequency' : frequency_list\n",
    "}\n",
    "\n",
    "top_frequency_df = pd.DataFrame(top_frequency_dictionary)\n",
    "top_frequency_df.tail()"
   ]
  },
  {
   "cell_type": "code",
   "execution_count": null,
   "metadata": {},
   "outputs": [],
   "source": [
    "# barplot 시각화\n",
    "plt.figure(figsize=(12, 5))\n",
    "plt.bar(top_frequency_df['keyword'], top_frequency_df['frequency'])\n",
    "plt.xticks(rotation=45)\n",
    "\n",
    "plt.show()"
   ]
  }
 ],
 "metadata": {
  "kernelspec": {
   "display_name": "base",
   "language": "python",
   "name": "python3"
  },
  "language_info": {
   "codemirror_mode": {
    "name": "ipython",
    "version": 3
   },
   "file_extension": ".py",
   "mimetype": "text/x-python",
   "name": "python",
   "nbconvert_exporter": "python",
   "pygments_lexer": "ipython3",
   "version": "3.12.7"
  }
 },
 "nbformat": 4,
 "nbformat_minor": 2
}
