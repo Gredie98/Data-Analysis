{
 "cells": [
  {
   "cell_type": "markdown",
   "metadata": {},
   "source": [
    "# `분석 목적` 제품 수익성 평가를 위한 기본 매출 지표 분석"
   ]
  },
  {
   "cell_type": "code",
   "execution_count": 1,
   "metadata": {},
   "outputs": [],
   "source": [
    "import pandas as pd\n",
    "import numpy as np\n",
    "import plotly.express as px"
   ]
  },
  {
   "cell_type": "markdown",
   "metadata": {},
   "source": [
    "### 데이터 로드"
   ]
  },
  {
   "cell_type": "code",
   "execution_count": 25,
   "metadata": {},
   "outputs": [
    {
     "data": {
      "text/html": [
       "<div>\n",
       "<style scoped>\n",
       "    .dataframe tbody tr th:only-of-type {\n",
       "        vertical-align: middle;\n",
       "    }\n",
       "\n",
       "    .dataframe tbody tr th {\n",
       "        vertical-align: top;\n",
       "    }\n",
       "\n",
       "    .dataframe thead th {\n",
       "        text-align: right;\n",
       "    }\n",
       "</style>\n",
       "<table border=\"1\" class=\"dataframe\">\n",
       "  <thead>\n",
       "    <tr style=\"text-align: right;\">\n",
       "      <th></th>\n",
       "      <th>order_id</th>\n",
       "      <th>quantity</th>\n",
       "      <th>price</th>\n",
       "      <th>discount_ratio</th>\n",
       "      <th>cost</th>\n",
       "      <th>category</th>\n",
       "      <th>product_id</th>\n",
       "      <th>order_date</th>\n",
       "    </tr>\n",
       "  </thead>\n",
       "  <tbody>\n",
       "    <tr>\n",
       "      <th>0</th>\n",
       "      <td>1.000</td>\n",
       "      <td>23.000</td>\n",
       "      <td>37</td>\n",
       "      <td>0.131</td>\n",
       "      <td>32</td>\n",
       "      <td>e</td>\n",
       "      <td>17.000</td>\n",
       "      <td>2023-02-07</td>\n",
       "    </tr>\n",
       "    <tr>\n",
       "      <th>1</th>\n",
       "      <td>150.000</td>\n",
       "      <td>23.000</td>\n",
       "      <td>37</td>\n",
       "      <td>0.072</td>\n",
       "      <td>32</td>\n",
       "      <td>e</td>\n",
       "      <td>17.000</td>\n",
       "      <td>2023-01-18</td>\n",
       "    </tr>\n",
       "    <tr>\n",
       "      <th>2</th>\n",
       "      <td>811.000</td>\n",
       "      <td>23.000</td>\n",
       "      <td>37</td>\n",
       "      <td>0.110</td>\n",
       "      <td>32</td>\n",
       "      <td>e</td>\n",
       "      <td>17.000</td>\n",
       "      <td>2023-02-22</td>\n",
       "    </tr>\n",
       "    <tr>\n",
       "      <th>3</th>\n",
       "      <td>1518.000</td>\n",
       "      <td>23.000</td>\n",
       "      <td>37</td>\n",
       "      <td>0.090</td>\n",
       "      <td>32</td>\n",
       "      <td>e</td>\n",
       "      <td>17.000</td>\n",
       "      <td>2023-02-05</td>\n",
       "    </tr>\n",
       "    <tr>\n",
       "      <th>4</th>\n",
       "      <td>1632.000</td>\n",
       "      <td>23.000</td>\n",
       "      <td>37</td>\n",
       "      <td>0.140</td>\n",
       "      <td>32</td>\n",
       "      <td>e</td>\n",
       "      <td>17.000</td>\n",
       "      <td>2023-01-31</td>\n",
       "    </tr>\n",
       "  </tbody>\n",
       "</table>\n",
       "</div>"
      ],
      "text/plain": [
       "   order_id  quantity  price  discount_ratio  cost category  product_id  \\\n",
       "0     1.000    23.000     37           0.131    32        e      17.000   \n",
       "1   150.000    23.000     37           0.072    32        e      17.000   \n",
       "2   811.000    23.000     37           0.110    32        e      17.000   \n",
       "3  1518.000    23.000     37           0.090    32        e      17.000   \n",
       "4  1632.000    23.000     37           0.140    32        e      17.000   \n",
       "\n",
       "   order_date  \n",
       "0  2023-02-07  \n",
       "1  2023-01-18  \n",
       "2  2023-02-22  \n",
       "3  2023-02-05  \n",
       "4  2023-01-31  "
      ]
     },
     "execution_count": 25,
     "metadata": {},
     "output_type": "execute_result"
    }
   ],
   "source": [
    "df = pd.read_csv(r'data-files\\06-product_mart.csv')\n",
    "df.head()"
   ]
  },
  {
   "cell_type": "code",
   "execution_count": 26,
   "metadata": {},
   "outputs": [
    {
     "data": {
      "text/html": [
       "<div>\n",
       "<style scoped>\n",
       "    .dataframe tbody tr th:only-of-type {\n",
       "        vertical-align: middle;\n",
       "    }\n",
       "\n",
       "    .dataframe tbody tr th {\n",
       "        vertical-align: top;\n",
       "    }\n",
       "\n",
       "    .dataframe thead th {\n",
       "        text-align: right;\n",
       "    }\n",
       "</style>\n",
       "<table border=\"1\" class=\"dataframe\">\n",
       "  <thead>\n",
       "    <tr style=\"text-align: right;\">\n",
       "      <th></th>\n",
       "      <th>order_id</th>\n",
       "      <th>quantity</th>\n",
       "      <th>price</th>\n",
       "      <th>discount_ratio</th>\n",
       "      <th>cost</th>\n",
       "      <th>product_id</th>\n",
       "    </tr>\n",
       "  </thead>\n",
       "  <tbody>\n",
       "    <tr>\n",
       "      <th>count</th>\n",
       "      <td>5000.000</td>\n",
       "      <td>5000.000</td>\n",
       "      <td>5000.000</td>\n",
       "      <td>5000.000</td>\n",
       "      <td>5000.000</td>\n",
       "      <td>5000.000</td>\n",
       "    </tr>\n",
       "    <tr>\n",
       "      <th>mean</th>\n",
       "      <td>2500.500</td>\n",
       "      <td>6.068</td>\n",
       "      <td>96.417</td>\n",
       "      <td>0.014</td>\n",
       "      <td>70.400</td>\n",
       "      <td>10.477</td>\n",
       "    </tr>\n",
       "    <tr>\n",
       "      <th>std</th>\n",
       "      <td>1443.520</td>\n",
       "      <td>5.405</td>\n",
       "      <td>110.902</td>\n",
       "      <td>0.022</td>\n",
       "      <td>94.494</td>\n",
       "      <td>5.775</td>\n",
       "    </tr>\n",
       "    <tr>\n",
       "      <th>min</th>\n",
       "      <td>1.000</td>\n",
       "      <td>1.000</td>\n",
       "      <td>27.000</td>\n",
       "      <td>0.000</td>\n",
       "      <td>11.000</td>\n",
       "      <td>1.000</td>\n",
       "    </tr>\n",
       "    <tr>\n",
       "      <th>25%</th>\n",
       "      <td>1250.750</td>\n",
       "      <td>3.000</td>\n",
       "      <td>44.000</td>\n",
       "      <td>0.002</td>\n",
       "      <td>23.000</td>\n",
       "      <td>6.000</td>\n",
       "    </tr>\n",
       "    <tr>\n",
       "      <th>50%</th>\n",
       "      <td>2500.500</td>\n",
       "      <td>4.000</td>\n",
       "      <td>55.000</td>\n",
       "      <td>0.007</td>\n",
       "      <td>35.000</td>\n",
       "      <td>10.000</td>\n",
       "    </tr>\n",
       "    <tr>\n",
       "      <th>75%</th>\n",
       "      <td>3750.250</td>\n",
       "      <td>8.000</td>\n",
       "      <td>63.000</td>\n",
       "      <td>0.018</td>\n",
       "      <td>40.000</td>\n",
       "      <td>16.000</td>\n",
       "    </tr>\n",
       "    <tr>\n",
       "      <th>max</th>\n",
       "      <td>5000.000</td>\n",
       "      <td>46.000</td>\n",
       "      <td>365.000</td>\n",
       "      <td>0.303</td>\n",
       "      <td>296.000</td>\n",
       "      <td>20.000</td>\n",
       "    </tr>\n",
       "  </tbody>\n",
       "</table>\n",
       "</div>"
      ],
      "text/plain": [
       "       order_id  quantity    price  discount_ratio     cost  product_id\n",
       "count  5000.000  5000.000 5000.000        5000.000 5000.000    5000.000\n",
       "mean   2500.500     6.068   96.417           0.014   70.400      10.477\n",
       "std    1443.520     5.405  110.902           0.022   94.494       5.775\n",
       "min       1.000     1.000   27.000           0.000   11.000       1.000\n",
       "25%    1250.750     3.000   44.000           0.002   23.000       6.000\n",
       "50%    2500.500     4.000   55.000           0.007   35.000      10.000\n",
       "75%    3750.250     8.000   63.000           0.018   40.000      16.000\n",
       "max    5000.000    46.000  365.000           0.303  296.000      20.000"
      ]
     },
     "metadata": {},
     "output_type": "display_data"
    },
    {
     "name": "stdout",
     "output_type": "stream",
     "text": [
      "<class 'pandas.core.frame.DataFrame'>\n",
      "RangeIndex: 5000 entries, 0 to 4999\n",
      "Data columns (total 8 columns):\n",
      " #   Column          Non-Null Count  Dtype  \n",
      "---  ------          --------------  -----  \n",
      " 0   order_id        5000 non-null   float64\n",
      " 1   quantity        5000 non-null   float64\n",
      " 2   price           5000 non-null   int64  \n",
      " 3   discount_ratio  5000 non-null   float64\n",
      " 4   cost            5000 non-null   int64  \n",
      " 5   category        5000 non-null   object \n",
      " 6   product_id      5000 non-null   float64\n",
      " 7   order_date      5000 non-null   object \n",
      "dtypes: float64(4), int64(2), object(2)\n",
      "memory usage: 312.6+ KB\n"
     ]
    },
    {
     "data": {
      "text/plain": [
       "None"
      ]
     },
     "metadata": {},
     "output_type": "display_data"
    }
   ],
   "source": [
    "# 데이터 파악\n",
    "pd.set_option('display.float_format', '{:.3f}'.format)\n",
    "display(df.describe())\n",
    "display(df.info())"
   ]
  },
  {
   "cell_type": "code",
   "execution_count": 27,
   "metadata": {},
   "outputs": [],
   "source": [
    "# order_date 자료형 변환 (object -> datetime)\n",
    "df['order_date'] = pd.to_datetime(df['order_date'])\n",
    "\n",
    "# product_id 자료형 변환 (float -> objdect)\n",
    "df['product_id'] = df['product_id'].astype(int).astype(str)"
   ]
  },
  {
   "cell_type": "code",
   "execution_count": 28,
   "metadata": {},
   "outputs": [
    {
     "data": {
      "text/plain": [
       "category  product_id\n",
       "a         10            224\n",
       "          13            248\n",
       "          2             226\n",
       "          6             269\n",
       "          7             249\n",
       "          9             277\n",
       "b         18            241\n",
       "          5             257\n",
       "c         14            205\n",
       "d         11            259\n",
       "          16            256\n",
       "          3             239\n",
       "e         1             273\n",
       "          17            252\n",
       "          20            256\n",
       "          4             247\n",
       "          8             255\n",
       "f         15            261\n",
       "g         12            253\n",
       "          19            253\n",
       "dtype: int64"
      ]
     },
     "execution_count": 28,
     "metadata": {},
     "output_type": "execute_result"
    }
   ],
   "source": [
    "# 범주형 데이터 관계 파악\n",
    "df.groupby(['category', 'product_id']).size()"
   ]
  },
  {
   "cell_type": "markdown",
   "metadata": {},
   "source": [
    "### 매출 지표 계산"
   ]
  },
  {
   "cell_type": "markdown",
   "metadata": {},
   "source": [
    "(1) 계산 및 컬럼 추가"
   ]
  },
  {
   "cell_type": "code",
   "execution_count": 29,
   "metadata": {},
   "outputs": [
    {
     "data": {
      "text/html": [
       "<div>\n",
       "<style scoped>\n",
       "    .dataframe tbody tr th:only-of-type {\n",
       "        vertical-align: middle;\n",
       "    }\n",
       "\n",
       "    .dataframe tbody tr th {\n",
       "        vertical-align: top;\n",
       "    }\n",
       "\n",
       "    .dataframe thead th {\n",
       "        text-align: right;\n",
       "    }\n",
       "</style>\n",
       "<table border=\"1\" class=\"dataframe\">\n",
       "  <thead>\n",
       "    <tr style=\"text-align: right;\">\n",
       "      <th></th>\n",
       "      <th>order_id</th>\n",
       "      <th>quantity</th>\n",
       "      <th>price</th>\n",
       "      <th>discount_ratio</th>\n",
       "      <th>cost</th>\n",
       "      <th>category</th>\n",
       "      <th>product_id</th>\n",
       "      <th>order_date</th>\n",
       "    </tr>\n",
       "  </thead>\n",
       "  <tbody>\n",
       "    <tr>\n",
       "      <th>0</th>\n",
       "      <td>1.000</td>\n",
       "      <td>23.000</td>\n",
       "      <td>37</td>\n",
       "      <td>0.131</td>\n",
       "      <td>32</td>\n",
       "      <td>e</td>\n",
       "      <td>17</td>\n",
       "      <td>2023-02-07</td>\n",
       "    </tr>\n",
       "    <tr>\n",
       "      <th>1</th>\n",
       "      <td>150.000</td>\n",
       "      <td>23.000</td>\n",
       "      <td>37</td>\n",
       "      <td>0.072</td>\n",
       "      <td>32</td>\n",
       "      <td>e</td>\n",
       "      <td>17</td>\n",
       "      <td>2023-01-18</td>\n",
       "    </tr>\n",
       "    <tr>\n",
       "      <th>2</th>\n",
       "      <td>811.000</td>\n",
       "      <td>23.000</td>\n",
       "      <td>37</td>\n",
       "      <td>0.110</td>\n",
       "      <td>32</td>\n",
       "      <td>e</td>\n",
       "      <td>17</td>\n",
       "      <td>2023-02-22</td>\n",
       "    </tr>\n",
       "    <tr>\n",
       "      <th>3</th>\n",
       "      <td>1518.000</td>\n",
       "      <td>23.000</td>\n",
       "      <td>37</td>\n",
       "      <td>0.090</td>\n",
       "      <td>32</td>\n",
       "      <td>e</td>\n",
       "      <td>17</td>\n",
       "      <td>2023-02-05</td>\n",
       "    </tr>\n",
       "    <tr>\n",
       "      <th>4</th>\n",
       "      <td>1632.000</td>\n",
       "      <td>23.000</td>\n",
       "      <td>37</td>\n",
       "      <td>0.140</td>\n",
       "      <td>32</td>\n",
       "      <td>e</td>\n",
       "      <td>17</td>\n",
       "      <td>2023-01-31</td>\n",
       "    </tr>\n",
       "  </tbody>\n",
       "</table>\n",
       "</div>"
      ],
      "text/plain": [
       "   order_id  quantity  price  discount_ratio  cost category product_id  \\\n",
       "0     1.000    23.000     37           0.131    32        e         17   \n",
       "1   150.000    23.000     37           0.072    32        e         17   \n",
       "2   811.000    23.000     37           0.110    32        e         17   \n",
       "3  1518.000    23.000     37           0.090    32        e         17   \n",
       "4  1632.000    23.000     37           0.140    32        e         17   \n",
       "\n",
       "  order_date  \n",
       "0 2023-02-07  \n",
       "1 2023-01-18  \n",
       "2 2023-02-22  \n",
       "3 2023-02-05  \n",
       "4 2023-01-31  "
      ]
     },
     "execution_count": 29,
     "metadata": {},
     "output_type": "execute_result"
    }
   ],
   "source": [
    "df.head()"
   ]
  },
  {
   "cell_type": "code",
   "execution_count": 30,
   "metadata": {},
   "outputs": [],
   "source": [
    "# 순가격 (할인율 적용가)\n",
    "df['net_price'] = df['price'] * (1-df['discount_ratio'])"
   ]
  },
  {
   "cell_type": "code",
   "execution_count": 31,
   "metadata": {},
   "outputs": [],
   "source": [
    "# 총 순매출\n",
    "df['total_net_revenue'] = df['net_price'] * df['quantity']"
   ]
  },
  {
   "cell_type": "code",
   "execution_count": 32,
   "metadata": {},
   "outputs": [],
   "source": [
    "# 할인율 무시 총 매출\n",
    "df['total_revenue'] = df['price'] * df['quantity']"
   ]
  },
  {
   "cell_type": "code",
   "execution_count": 33,
   "metadata": {},
   "outputs": [],
   "source": [
    "# 총 비용\n",
    "df['total_cost'] = df['cost'] * df['quantity']"
   ]
  },
  {
   "cell_type": "code",
   "execution_count": 34,
   "metadata": {},
   "outputs": [],
   "source": [
    "# 단위 할인금\n",
    "df['discount'] = df['price'] * df['discount_ratio']"
   ]
  },
  {
   "cell_type": "code",
   "execution_count": 35,
   "metadata": {},
   "outputs": [],
   "source": [
    "# 총 할인금\n",
    "df['total_discount'] = df['discount'] * df['quantity']"
   ]
  },
  {
   "cell_type": "code",
   "execution_count": 45,
   "metadata": {},
   "outputs": [
    {
     "data": {
      "text/html": [
       "<div>\n",
       "<style scoped>\n",
       "    .dataframe tbody tr th:only-of-type {\n",
       "        vertical-align: middle;\n",
       "    }\n",
       "\n",
       "    .dataframe tbody tr th {\n",
       "        vertical-align: top;\n",
       "    }\n",
       "\n",
       "    .dataframe thead th {\n",
       "        text-align: right;\n",
       "    }\n",
       "</style>\n",
       "<table border=\"1\" class=\"dataframe\">\n",
       "  <thead>\n",
       "    <tr style=\"text-align: right;\">\n",
       "      <th></th>\n",
       "      <th>product_id</th>\n",
       "      <th>category</th>\n",
       "      <th>price</th>\n",
       "      <th>quantity</th>\n",
       "      <th>total_net_revenue</th>\n",
       "      <th>total_revenue</th>\n",
       "      <th>total_cost</th>\n",
       "      <th>total_discount</th>\n",
       "    </tr>\n",
       "  </thead>\n",
       "  <tbody>\n",
       "    <tr>\n",
       "      <th>0</th>\n",
       "      <td>1</td>\n",
       "      <td>e</td>\n",
       "      <td>38</td>\n",
       "      <td>3423.000</td>\n",
       "      <td>125043.635</td>\n",
       "      <td>130074.000</td>\n",
       "      <td>78729.000</td>\n",
       "      <td>5030.365</td>\n",
       "    </tr>\n",
       "    <tr>\n",
       "      <th>1</th>\n",
       "      <td>10</td>\n",
       "      <td>a</td>\n",
       "      <td>27</td>\n",
       "      <td>874.000</td>\n",
       "      <td>23359.792</td>\n",
       "      <td>23598.000</td>\n",
       "      <td>9614.000</td>\n",
       "      <td>238.208</td>\n",
       "    </tr>\n",
       "    <tr>\n",
       "      <th>2</th>\n",
       "      <td>11</td>\n",
       "      <td>d</td>\n",
       "      <td>63</td>\n",
       "      <td>4410.000</td>\n",
       "      <td>261461.998</td>\n",
       "      <td>277830.000</td>\n",
       "      <td>180810.000</td>\n",
       "      <td>16368.002</td>\n",
       "    </tr>\n",
       "    <tr>\n",
       "      <th>3</th>\n",
       "      <td>12</td>\n",
       "      <td>g</td>\n",
       "      <td>365</td>\n",
       "      <td>649.000</td>\n",
       "      <td>235316.180</td>\n",
       "      <td>236885.000</td>\n",
       "      <td>192104.000</td>\n",
       "      <td>1568.820</td>\n",
       "    </tr>\n",
       "    <tr>\n",
       "      <th>4</th>\n",
       "      <td>13</td>\n",
       "      <td>a</td>\n",
       "      <td>49</td>\n",
       "      <td>969.000</td>\n",
       "      <td>47037.010</td>\n",
       "      <td>47481.000</td>\n",
       "      <td>35853.000</td>\n",
       "      <td>443.990</td>\n",
       "    </tr>\n",
       "  </tbody>\n",
       "</table>\n",
       "</div>"
      ],
      "text/plain": [
       "  product_id category  price  quantity  total_net_revenue  total_revenue  \\\n",
       "0          1        e     38  3423.000         125043.635     130074.000   \n",
       "1         10        a     27   874.000          23359.792      23598.000   \n",
       "2         11        d     63  4410.000         261461.998     277830.000   \n",
       "3         12        g    365   649.000         235316.180     236885.000   \n",
       "4         13        a     49   969.000          47037.010      47481.000   \n",
       "\n",
       "   total_cost  total_discount  \n",
       "0   78729.000        5030.365  \n",
       "1    9614.000         238.208  \n",
       "2  180810.000       16368.002  \n",
       "3  192104.000        1568.820  \n",
       "4   35853.000         443.990  "
      ]
     },
     "execution_count": 45,
     "metadata": {},
     "output_type": "execute_result"
    }
   ],
   "source": [
    "# 제품별 기준 매출 데이터 집계\n",
    "df_agg = df.groupby(['product_id', 'category', 'price'])[[\n",
    "    'quantity'\n",
    "    , 'total_net_revenue'\n",
    "    , 'total_revenue'\n",
    "    , 'total_cost'\n",
    "    , 'total_discount'\n",
    "]].sum().reset_index()\n",
    "\n",
    "df_agg.head()"
   ]
  },
  {
   "cell_type": "code",
   "execution_count": 50,
   "metadata": {},
   "outputs": [
    {
     "data": {
      "text/html": [
       "<div>\n",
       "<style scoped>\n",
       "    .dataframe tbody tr th:only-of-type {\n",
       "        vertical-align: middle;\n",
       "    }\n",
       "\n",
       "    .dataframe tbody tr th {\n",
       "        vertical-align: top;\n",
       "    }\n",
       "\n",
       "    .dataframe thead th {\n",
       "        text-align: right;\n",
       "    }\n",
       "</style>\n",
       "<table border=\"1\" class=\"dataframe\">\n",
       "  <thead>\n",
       "    <tr style=\"text-align: right;\">\n",
       "      <th></th>\n",
       "      <th>product_id</th>\n",
       "      <th>category</th>\n",
       "      <th>price</th>\n",
       "      <th>quantity</th>\n",
       "      <th>total_net_revenue</th>\n",
       "      <th>total_revenue</th>\n",
       "      <th>total_cost</th>\n",
       "      <th>total_discount</th>\n",
       "      <th>net_profit_ratio</th>\n",
       "    </tr>\n",
       "  </thead>\n",
       "  <tbody>\n",
       "    <tr>\n",
       "      <th>0</th>\n",
       "      <td>1</td>\n",
       "      <td>e</td>\n",
       "      <td>38</td>\n",
       "      <td>3423.000</td>\n",
       "      <td>125043.635</td>\n",
       "      <td>130074.000</td>\n",
       "      <td>78729.000</td>\n",
       "      <td>5030.365</td>\n",
       "      <td>0.356</td>\n",
       "    </tr>\n",
       "    <tr>\n",
       "      <th>1</th>\n",
       "      <td>10</td>\n",
       "      <td>a</td>\n",
       "      <td>27</td>\n",
       "      <td>874.000</td>\n",
       "      <td>23359.792</td>\n",
       "      <td>23598.000</td>\n",
       "      <td>9614.000</td>\n",
       "      <td>238.208</td>\n",
       "      <td>0.582</td>\n",
       "    </tr>\n",
       "    <tr>\n",
       "      <th>2</th>\n",
       "      <td>11</td>\n",
       "      <td>d</td>\n",
       "      <td>63</td>\n",
       "      <td>4410.000</td>\n",
       "      <td>261461.998</td>\n",
       "      <td>277830.000</td>\n",
       "      <td>180810.000</td>\n",
       "      <td>16368.002</td>\n",
       "      <td>0.290</td>\n",
       "    </tr>\n",
       "    <tr>\n",
       "      <th>3</th>\n",
       "      <td>12</td>\n",
       "      <td>g</td>\n",
       "      <td>365</td>\n",
       "      <td>649.000</td>\n",
       "      <td>235316.180</td>\n",
       "      <td>236885.000</td>\n",
       "      <td>192104.000</td>\n",
       "      <td>1568.820</td>\n",
       "      <td>0.182</td>\n",
       "    </tr>\n",
       "    <tr>\n",
       "      <th>4</th>\n",
       "      <td>13</td>\n",
       "      <td>a</td>\n",
       "      <td>49</td>\n",
       "      <td>969.000</td>\n",
       "      <td>47037.010</td>\n",
       "      <td>47481.000</td>\n",
       "      <td>35853.000</td>\n",
       "      <td>443.990</td>\n",
       "      <td>0.236</td>\n",
       "    </tr>\n",
       "  </tbody>\n",
       "</table>\n",
       "</div>"
      ],
      "text/plain": [
       "  product_id category  price  quantity  total_net_revenue  total_revenue  \\\n",
       "0          1        e     38  3423.000         125043.635     130074.000   \n",
       "1         10        a     27   874.000          23359.792      23598.000   \n",
       "2         11        d     63  4410.000         261461.998     277830.000   \n",
       "3         12        g    365   649.000         235316.180     236885.000   \n",
       "4         13        a     49   969.000          47037.010      47481.000   \n",
       "\n",
       "   total_cost  total_discount  net_profit_ratio  \n",
       "0   78729.000        5030.365             0.356  \n",
       "1    9614.000         238.208             0.582  \n",
       "2  180810.000       16368.002             0.290  \n",
       "3  192104.000        1568.820             0.182  \n",
       "4   35853.000         443.990             0.236  "
      ]
     },
     "execution_count": 50,
     "metadata": {},
     "output_type": "execute_result"
    }
   ],
   "source": [
    "# 총 매출 대비 순이익 비율\n",
    "df_agg['net_profit_ratio'] = (df_agg['total_revenue'] - df_agg['total_cost'] - df_agg['total_discount']) / df_agg['total_revenue']\n",
    "\n",
    "df_agg.head()"
   ]
  },
  {
   "cell_type": "markdown",
   "metadata": {},
   "source": [
    "(2) 계산 검증"
   ]
  },
  {
   "cell_type": "code",
   "execution_count": 52,
   "metadata": {},
   "outputs": [],
   "source": [
    "# 발생비용 비율\n",
    "df_agg['cost_ratio'] = df_agg['total_cost'] / df_agg['total_revenue']"
   ]
  },
  {
   "cell_type": "code",
   "execution_count": 55,
   "metadata": {},
   "outputs": [],
   "source": [
    "# 할인율\n",
    "df_agg['discount_ratio'] = df_agg['total_discount'] / df_agg['total_revenue']"
   ]
  },
  {
   "cell_type": "code",
   "execution_count": 58,
   "metadata": {},
   "outputs": [
    {
     "data": {
      "text/plain": [
       "0    1.000\n",
       "1    1.000\n",
       "2    1.000\n",
       "3    1.000\n",
       "4    1.000\n",
       "5    1.000\n",
       "6    1.000\n",
       "7    1.000\n",
       "8    1.000\n",
       "9    1.000\n",
       "10   1.000\n",
       "11   1.000\n",
       "12   1.000\n",
       "13   1.000\n",
       "14   1.000\n",
       "15   1.000\n",
       "16   1.000\n",
       "17   1.000\n",
       "18   1.000\n",
       "19   1.000\n",
       "dtype: float64"
      ]
     },
     "execution_count": 58,
     "metadata": {},
     "output_type": "execute_result"
    }
   ],
   "source": [
    "# 순이익 비율 + 발생비용 비율 + 할인 비율 = 1 검증\n",
    "df_agg['net_profit_ratio'] + df_agg['cost_ratio'] + df_agg['discount_ratio']"
   ]
  },
  {
   "cell_type": "code",
   "execution_count": 51,
   "metadata": {},
   "outputs": [],
   "source": [
    "# 순수익금\n",
    "df_agg['total_net_profit'] = df_agg['total_revenue'] - df_agg['total_cost'] - df_agg['total_discount']"
   ]
  },
  {
   "cell_type": "code",
   "execution_count": 60,
   "metadata": {},
   "outputs": [
    {
     "data": {
      "text/plain": [
       "0    0.000\n",
       "1    0.000\n",
       "2    0.000\n",
       "3    0.000\n",
       "4    0.000\n",
       "5    0.000\n",
       "6    0.000\n",
       "7    0.000\n",
       "8    0.000\n",
       "9    0.000\n",
       "10   0.000\n",
       "11   0.000\n",
       "12   0.000\n",
       "13   0.000\n",
       "14   0.000\n",
       "15   0.000\n",
       "16   0.000\n",
       "17   0.000\n",
       "18   0.000\n",
       "19   0.000\n",
       "dtype: float64"
      ]
     },
     "execution_count": 60,
     "metadata": {},
     "output_type": "execute_result"
    }
   ],
   "source": [
    "# 전체 매출 - 발생비용 - 할인액 - 순이익금 = 0 검증\n",
    "df_agg['total_revenue'] - df_agg['total_cost'] - df_agg['total_discount'] - df_agg['total_net_profit']"
   ]
  },
  {
   "cell_type": "markdown",
   "metadata": {},
   "source": [
    "### 시각화"
   ]
  },
  {
   "cell_type": "code",
   "execution_count": 62,
   "metadata": {},
   "outputs": [
    {
     "data": {
      "application/vnd.plotly.v1+json": {
       "config": {
        "plotlyServerURL": "https://plot.ly"
       },
       "data": [
        {
         "hovertemplate": "<b>%{hovertext}</b><br><br>total_revenue=%{x}<br>net_profit_ratio=%{y}<br>total_net_profit=%{marker.size}<br>discount_ratio=%{marker.color}<extra></extra>",
         "hovertext": [
          "1",
          "10",
          "11",
          "12",
          "13",
          "14",
          "15",
          "16",
          "17",
          "18",
          "19",
          "2",
          "20",
          "3",
          "4",
          "5",
          "6",
          "7",
          "8",
          "9"
         ],
         "legendgroup": "",
         "marker": {
          "color": [
           0.03867309852925644,
           0.010094405759559775,
           0.05891373086625649,
           0.006622707515255457,
           0.009350894276785137,
           0.005336354843827742,
           0.00583473314727831,
           0.018061904057748317,
           0.04948415401539259,
           0.006689819478223836,
           0.006447992530095298,
           0.010408367024721346,
           0.021726869295842513,
           0.02002059471464678,
           0.01610878699128591,
           0.0052616638947071285,
           0.009615827477062177,
           0.010842970700370448,
           0.015153151263261685,
           0.02489023368513238
          ],
          "coloraxis": "coloraxis",
          "size": [
           46314.6353819055,
           13745.792212885908,
           80651.99815342797,
           43212.17993024871,
           11184.010188843964,
           7693.417788793331,
           34767.638989337705,
           43149.855146147805,
           10968.20768925087,
           16779.530709909523,
           42765.4220667257,
           26208.824672136496,
           18121.32548170352,
           22089.890500599744,
           26024.667333899895,
           14534.789430906309,
           21189.145035807378,
           26063.332795370578,
           15644.893420408607,
           67440.81453556566
          ],
          "sizemode": "area",
          "sizeref": 201.6299953835699,
          "symbol": "circle"
         },
         "mode": "markers",
         "name": "",
         "orientation": "v",
         "showlegend": false,
         "type": "scatter",
         "x": [
          130074,
          23598,
          277830,
          236885,
          47481,
          21472,
          222180,
          85824,
          128057,
          36394,
          235977,
          59200,
          60233,
          61642,
          79170,
          35200,
          63318,
          66464,
          65142,
          124032
         ],
         "xaxis": "x",
         "y": [
          0.35606374357600673,
          0.5824981868330328,
          0.29029261834009273,
          0.1824183883751555,
          0.23554706490688831,
          0.35830000879253593,
          0.15648410743243182,
          0.5027714292755849,
          0.08565098111974254,
          0.46105211600564716,
          0.18122707749791592,
          0.44271663297527863,
          0.3008537758654478,
          0.3583577836637316,
          0.32871879921561065,
          0.41292015428711104,
          0.3346464676049051,
          0.39214210392649523,
          0.24016599767290853,
          0.5437372172952598
         ],
         "yaxis": "y"
        }
       ],
       "layout": {
        "coloraxis": {
         "colorbar": {
          "title": {
           "text": "discount_ratio"
          }
         },
         "colorscale": [
          [
           0,
           "#0d0887"
          ],
          [
           0.1111111111111111,
           "#46039f"
          ],
          [
           0.2222222222222222,
           "#7201a8"
          ],
          [
           0.3333333333333333,
           "#9c179e"
          ],
          [
           0.4444444444444444,
           "#bd3786"
          ],
          [
           0.5555555555555556,
           "#d8576b"
          ],
          [
           0.6666666666666666,
           "#ed7953"
          ],
          [
           0.7777777777777778,
           "#fb9f3a"
          ],
          [
           0.8888888888888888,
           "#fdca26"
          ],
          [
           1,
           "#f0f921"
          ]
         ]
        },
        "legend": {
         "itemsizing": "constant",
         "tracegroupgap": 0
        },
        "template": {
         "data": {
          "bar": [
           {
            "error_x": {
             "color": "#2a3f5f"
            },
            "error_y": {
             "color": "#2a3f5f"
            },
            "marker": {
             "line": {
              "color": "#E5ECF6",
              "width": 0.5
             },
             "pattern": {
              "fillmode": "overlay",
              "size": 10,
              "solidity": 0.2
             }
            },
            "type": "bar"
           }
          ],
          "barpolar": [
           {
            "marker": {
             "line": {
              "color": "#E5ECF6",
              "width": 0.5
             },
             "pattern": {
              "fillmode": "overlay",
              "size": 10,
              "solidity": 0.2
             }
            },
            "type": "barpolar"
           }
          ],
          "carpet": [
           {
            "aaxis": {
             "endlinecolor": "#2a3f5f",
             "gridcolor": "white",
             "linecolor": "white",
             "minorgridcolor": "white",
             "startlinecolor": "#2a3f5f"
            },
            "baxis": {
             "endlinecolor": "#2a3f5f",
             "gridcolor": "white",
             "linecolor": "white",
             "minorgridcolor": "white",
             "startlinecolor": "#2a3f5f"
            },
            "type": "carpet"
           }
          ],
          "choropleth": [
           {
            "colorbar": {
             "outlinewidth": 0,
             "ticks": ""
            },
            "type": "choropleth"
           }
          ],
          "contour": [
           {
            "colorbar": {
             "outlinewidth": 0,
             "ticks": ""
            },
            "colorscale": [
             [
              0,
              "#0d0887"
             ],
             [
              0.1111111111111111,
              "#46039f"
             ],
             [
              0.2222222222222222,
              "#7201a8"
             ],
             [
              0.3333333333333333,
              "#9c179e"
             ],
             [
              0.4444444444444444,
              "#bd3786"
             ],
             [
              0.5555555555555556,
              "#d8576b"
             ],
             [
              0.6666666666666666,
              "#ed7953"
             ],
             [
              0.7777777777777778,
              "#fb9f3a"
             ],
             [
              0.8888888888888888,
              "#fdca26"
             ],
             [
              1,
              "#f0f921"
             ]
            ],
            "type": "contour"
           }
          ],
          "contourcarpet": [
           {
            "colorbar": {
             "outlinewidth": 0,
             "ticks": ""
            },
            "type": "contourcarpet"
           }
          ],
          "heatmap": [
           {
            "colorbar": {
             "outlinewidth": 0,
             "ticks": ""
            },
            "colorscale": [
             [
              0,
              "#0d0887"
             ],
             [
              0.1111111111111111,
              "#46039f"
             ],
             [
              0.2222222222222222,
              "#7201a8"
             ],
             [
              0.3333333333333333,
              "#9c179e"
             ],
             [
              0.4444444444444444,
              "#bd3786"
             ],
             [
              0.5555555555555556,
              "#d8576b"
             ],
             [
              0.6666666666666666,
              "#ed7953"
             ],
             [
              0.7777777777777778,
              "#fb9f3a"
             ],
             [
              0.8888888888888888,
              "#fdca26"
             ],
             [
              1,
              "#f0f921"
             ]
            ],
            "type": "heatmap"
           }
          ],
          "heatmapgl": [
           {
            "colorbar": {
             "outlinewidth": 0,
             "ticks": ""
            },
            "colorscale": [
             [
              0,
              "#0d0887"
             ],
             [
              0.1111111111111111,
              "#46039f"
             ],
             [
              0.2222222222222222,
              "#7201a8"
             ],
             [
              0.3333333333333333,
              "#9c179e"
             ],
             [
              0.4444444444444444,
              "#bd3786"
             ],
             [
              0.5555555555555556,
              "#d8576b"
             ],
             [
              0.6666666666666666,
              "#ed7953"
             ],
             [
              0.7777777777777778,
              "#fb9f3a"
             ],
             [
              0.8888888888888888,
              "#fdca26"
             ],
             [
              1,
              "#f0f921"
             ]
            ],
            "type": "heatmapgl"
           }
          ],
          "histogram": [
           {
            "marker": {
             "pattern": {
              "fillmode": "overlay",
              "size": 10,
              "solidity": 0.2
             }
            },
            "type": "histogram"
           }
          ],
          "histogram2d": [
           {
            "colorbar": {
             "outlinewidth": 0,
             "ticks": ""
            },
            "colorscale": [
             [
              0,
              "#0d0887"
             ],
             [
              0.1111111111111111,
              "#46039f"
             ],
             [
              0.2222222222222222,
              "#7201a8"
             ],
             [
              0.3333333333333333,
              "#9c179e"
             ],
             [
              0.4444444444444444,
              "#bd3786"
             ],
             [
              0.5555555555555556,
              "#d8576b"
             ],
             [
              0.6666666666666666,
              "#ed7953"
             ],
             [
              0.7777777777777778,
              "#fb9f3a"
             ],
             [
              0.8888888888888888,
              "#fdca26"
             ],
             [
              1,
              "#f0f921"
             ]
            ],
            "type": "histogram2d"
           }
          ],
          "histogram2dcontour": [
           {
            "colorbar": {
             "outlinewidth": 0,
             "ticks": ""
            },
            "colorscale": [
             [
              0,
              "#0d0887"
             ],
             [
              0.1111111111111111,
              "#46039f"
             ],
             [
              0.2222222222222222,
              "#7201a8"
             ],
             [
              0.3333333333333333,
              "#9c179e"
             ],
             [
              0.4444444444444444,
              "#bd3786"
             ],
             [
              0.5555555555555556,
              "#d8576b"
             ],
             [
              0.6666666666666666,
              "#ed7953"
             ],
             [
              0.7777777777777778,
              "#fb9f3a"
             ],
             [
              0.8888888888888888,
              "#fdca26"
             ],
             [
              1,
              "#f0f921"
             ]
            ],
            "type": "histogram2dcontour"
           }
          ],
          "mesh3d": [
           {
            "colorbar": {
             "outlinewidth": 0,
             "ticks": ""
            },
            "type": "mesh3d"
           }
          ],
          "parcoords": [
           {
            "line": {
             "colorbar": {
              "outlinewidth": 0,
              "ticks": ""
             }
            },
            "type": "parcoords"
           }
          ],
          "pie": [
           {
            "automargin": true,
            "type": "pie"
           }
          ],
          "scatter": [
           {
            "fillpattern": {
             "fillmode": "overlay",
             "size": 10,
             "solidity": 0.2
            },
            "type": "scatter"
           }
          ],
          "scatter3d": [
           {
            "line": {
             "colorbar": {
              "outlinewidth": 0,
              "ticks": ""
             }
            },
            "marker": {
             "colorbar": {
              "outlinewidth": 0,
              "ticks": ""
             }
            },
            "type": "scatter3d"
           }
          ],
          "scattercarpet": [
           {
            "marker": {
             "colorbar": {
              "outlinewidth": 0,
              "ticks": ""
             }
            },
            "type": "scattercarpet"
           }
          ],
          "scattergeo": [
           {
            "marker": {
             "colorbar": {
              "outlinewidth": 0,
              "ticks": ""
             }
            },
            "type": "scattergeo"
           }
          ],
          "scattergl": [
           {
            "marker": {
             "colorbar": {
              "outlinewidth": 0,
              "ticks": ""
             }
            },
            "type": "scattergl"
           }
          ],
          "scattermapbox": [
           {
            "marker": {
             "colorbar": {
              "outlinewidth": 0,
              "ticks": ""
             }
            },
            "type": "scattermapbox"
           }
          ],
          "scatterpolar": [
           {
            "marker": {
             "colorbar": {
              "outlinewidth": 0,
              "ticks": ""
             }
            },
            "type": "scatterpolar"
           }
          ],
          "scatterpolargl": [
           {
            "marker": {
             "colorbar": {
              "outlinewidth": 0,
              "ticks": ""
             }
            },
            "type": "scatterpolargl"
           }
          ],
          "scatterternary": [
           {
            "marker": {
             "colorbar": {
              "outlinewidth": 0,
              "ticks": ""
             }
            },
            "type": "scatterternary"
           }
          ],
          "surface": [
           {
            "colorbar": {
             "outlinewidth": 0,
             "ticks": ""
            },
            "colorscale": [
             [
              0,
              "#0d0887"
             ],
             [
              0.1111111111111111,
              "#46039f"
             ],
             [
              0.2222222222222222,
              "#7201a8"
             ],
             [
              0.3333333333333333,
              "#9c179e"
             ],
             [
              0.4444444444444444,
              "#bd3786"
             ],
             [
              0.5555555555555556,
              "#d8576b"
             ],
             [
              0.6666666666666666,
              "#ed7953"
             ],
             [
              0.7777777777777778,
              "#fb9f3a"
             ],
             [
              0.8888888888888888,
              "#fdca26"
             ],
             [
              1,
              "#f0f921"
             ]
            ],
            "type": "surface"
           }
          ],
          "table": [
           {
            "cells": {
             "fill": {
              "color": "#EBF0F8"
             },
             "line": {
              "color": "white"
             }
            },
            "header": {
             "fill": {
              "color": "#C8D4E3"
             },
             "line": {
              "color": "white"
             }
            },
            "type": "table"
           }
          ]
         },
         "layout": {
          "annotationdefaults": {
           "arrowcolor": "#2a3f5f",
           "arrowhead": 0,
           "arrowwidth": 1
          },
          "autotypenumbers": "strict",
          "coloraxis": {
           "colorbar": {
            "outlinewidth": 0,
            "ticks": ""
           }
          },
          "colorscale": {
           "diverging": [
            [
             0,
             "#8e0152"
            ],
            [
             0.1,
             "#c51b7d"
            ],
            [
             0.2,
             "#de77ae"
            ],
            [
             0.3,
             "#f1b6da"
            ],
            [
             0.4,
             "#fde0ef"
            ],
            [
             0.5,
             "#f7f7f7"
            ],
            [
             0.6,
             "#e6f5d0"
            ],
            [
             0.7,
             "#b8e186"
            ],
            [
             0.8,
             "#7fbc41"
            ],
            [
             0.9,
             "#4d9221"
            ],
            [
             1,
             "#276419"
            ]
           ],
           "sequential": [
            [
             0,
             "#0d0887"
            ],
            [
             0.1111111111111111,
             "#46039f"
            ],
            [
             0.2222222222222222,
             "#7201a8"
            ],
            [
             0.3333333333333333,
             "#9c179e"
            ],
            [
             0.4444444444444444,
             "#bd3786"
            ],
            [
             0.5555555555555556,
             "#d8576b"
            ],
            [
             0.6666666666666666,
             "#ed7953"
            ],
            [
             0.7777777777777778,
             "#fb9f3a"
            ],
            [
             0.8888888888888888,
             "#fdca26"
            ],
            [
             1,
             "#f0f921"
            ]
           ],
           "sequentialminus": [
            [
             0,
             "#0d0887"
            ],
            [
             0.1111111111111111,
             "#46039f"
            ],
            [
             0.2222222222222222,
             "#7201a8"
            ],
            [
             0.3333333333333333,
             "#9c179e"
            ],
            [
             0.4444444444444444,
             "#bd3786"
            ],
            [
             0.5555555555555556,
             "#d8576b"
            ],
            [
             0.6666666666666666,
             "#ed7953"
            ],
            [
             0.7777777777777778,
             "#fb9f3a"
            ],
            [
             0.8888888888888888,
             "#fdca26"
            ],
            [
             1,
             "#f0f921"
            ]
           ]
          },
          "colorway": [
           "#636efa",
           "#EF553B",
           "#00cc96",
           "#ab63fa",
           "#FFA15A",
           "#19d3f3",
           "#FF6692",
           "#B6E880",
           "#FF97FF",
           "#FECB52"
          ],
          "font": {
           "color": "#2a3f5f"
          },
          "geo": {
           "bgcolor": "white",
           "lakecolor": "white",
           "landcolor": "#E5ECF6",
           "showlakes": true,
           "showland": true,
           "subunitcolor": "white"
          },
          "hoverlabel": {
           "align": "left"
          },
          "hovermode": "closest",
          "mapbox": {
           "style": "light"
          },
          "paper_bgcolor": "white",
          "plot_bgcolor": "#E5ECF6",
          "polar": {
           "angularaxis": {
            "gridcolor": "white",
            "linecolor": "white",
            "ticks": ""
           },
           "bgcolor": "#E5ECF6",
           "radialaxis": {
            "gridcolor": "white",
            "linecolor": "white",
            "ticks": ""
           }
          },
          "scene": {
           "xaxis": {
            "backgroundcolor": "#E5ECF6",
            "gridcolor": "white",
            "gridwidth": 2,
            "linecolor": "white",
            "showbackground": true,
            "ticks": "",
            "zerolinecolor": "white"
           },
           "yaxis": {
            "backgroundcolor": "#E5ECF6",
            "gridcolor": "white",
            "gridwidth": 2,
            "linecolor": "white",
            "showbackground": true,
            "ticks": "",
            "zerolinecolor": "white"
           },
           "zaxis": {
            "backgroundcolor": "#E5ECF6",
            "gridcolor": "white",
            "gridwidth": 2,
            "linecolor": "white",
            "showbackground": true,
            "ticks": "",
            "zerolinecolor": "white"
           }
          },
          "shapedefaults": {
           "line": {
            "color": "#2a3f5f"
           }
          },
          "ternary": {
           "aaxis": {
            "gridcolor": "white",
            "linecolor": "white",
            "ticks": ""
           },
           "baxis": {
            "gridcolor": "white",
            "linecolor": "white",
            "ticks": ""
           },
           "bgcolor": "#E5ECF6",
           "caxis": {
            "gridcolor": "white",
            "linecolor": "white",
            "ticks": ""
           }
          },
          "title": {
           "x": 0.05
          },
          "xaxis": {
           "automargin": true,
           "gridcolor": "white",
           "linecolor": "white",
           "ticks": "",
           "title": {
            "standoff": 15
           },
           "zerolinecolor": "white",
           "zerolinewidth": 2
          },
          "yaxis": {
           "automargin": true,
           "gridcolor": "white",
           "linecolor": "white",
           "ticks": "",
           "title": {
            "standoff": 15
           },
           "zerolinecolor": "white",
           "zerolinewidth": 2
          }
         }
        },
        "title": {
         "text": "Product Portfolio Analysis"
        },
        "xaxis": {
         "anchor": "y",
         "domain": [
          0,
          1
         ],
         "title": {
          "text": "total_revenue"
         }
        },
        "yaxis": {
         "anchor": "x",
         "domain": [
          0,
          1
         ],
         "title": {
          "text": "net_profit_ratio"
         }
        }
       }
      }
     },
     "metadata": {},
     "output_type": "display_data"
    }
   ],
   "source": [
    "fig = px.scatter(\n",
    "    df_agg\n",
    "    , title = 'Product Portfolio Analysis'\n",
    "    , x = 'total_revenue'\n",
    "    , y = 'net_profit_ratio'\n",
    "    , hover_name = 'product_id'\n",
    "    , size = 'total_net_profit'\n",
    "    , color = 'discount_ratio'\n",
    ")\n",
    "\n",
    "fig.show()"
   ]
  }
 ],
 "metadata": {
  "kernelspec": {
   "display_name": "base",
   "language": "python",
   "name": "python3"
  },
  "language_info": {
   "codemirror_mode": {
    "name": "ipython",
    "version": 3
   },
   "file_extension": ".py",
   "mimetype": "text/x-python",
   "name": "python",
   "nbconvert_exporter": "python",
   "pygments_lexer": "ipython3",
   "version": "3.12.7"
  }
 },
 "nbformat": 4,
 "nbformat_minor": 2
}
