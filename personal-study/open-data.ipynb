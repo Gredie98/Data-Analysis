{
 "cells": [
  {
   "cell_type": "code",
   "execution_count": 1,
   "metadata": {},
   "outputs": [],
   "source": [
    "import pandas as pd"
   ]
  },
  {
   "cell_type": "markdown",
   "metadata": {},
   "source": [
    "### 데이터 로드 및 확인"
   ]
  },
  {
   "cell_type": "code",
   "execution_count": 81,
   "metadata": {},
   "outputs": [
    {
     "name": "stdout",
     "output_type": "stream",
     "text": [
      "==================================================\n"
     ]
    },
    {
     "data": {
      "text/html": [
       "<div>\n",
       "<style scoped>\n",
       "    .dataframe tbody tr th:only-of-type {\n",
       "        vertical-align: middle;\n",
       "    }\n",
       "\n",
       "    .dataframe tbody tr th {\n",
       "        vertical-align: top;\n",
       "    }\n",
       "\n",
       "    .dataframe thead th {\n",
       "        text-align: right;\n",
       "    }\n",
       "</style>\n",
       "<table border=\"1\" class=\"dataframe\">\n",
       "  <thead>\n",
       "    <tr style=\"text-align: right;\">\n",
       "      <th></th>\n",
       "      <th>번호</th>\n",
       "      <th>신고년월일</th>\n",
       "      <th>신고시각</th>\n",
       "      <th>출동년월일</th>\n",
       "      <th>출동시각</th>\n",
       "      <th>발생장소_시</th>\n",
       "      <th>발생장소_구</th>\n",
       "      <th>발생장소_동</th>\n",
       "      <th>사고원인</th>\n",
       "      <th>사고원인코드명_사고종별</th>\n",
       "    </tr>\n",
       "  </thead>\n",
       "  <tbody>\n",
       "    <tr>\n",
       "      <th>0</th>\n",
       "      <td>1</td>\n",
       "      <td>2023-01-01</td>\n",
       "      <td>00:00</td>\n",
       "      <td>2023-01-01</td>\n",
       "      <td>00:01</td>\n",
       "      <td>경기도</td>\n",
       "      <td>김포시</td>\n",
       "      <td>월곶면</td>\n",
       "      <td>화재</td>\n",
       "      <td>자동차·철도차량</td>\n",
       "    </tr>\n",
       "    <tr>\n",
       "      <th>1</th>\n",
       "      <td>2</td>\n",
       "      <td>2023-01-01</td>\n",
       "      <td>00:00</td>\n",
       "      <td>2023-01-01</td>\n",
       "      <td>00:01</td>\n",
       "      <td>경기도</td>\n",
       "      <td>김포시</td>\n",
       "      <td>월곶면</td>\n",
       "      <td>화재</td>\n",
       "      <td>자동차·철도차량</td>\n",
       "    </tr>\n",
       "    <tr>\n",
       "      <th>2</th>\n",
       "      <td>3</td>\n",
       "      <td>2023-01-01</td>\n",
       "      <td>00:01</td>\n",
       "      <td>2023-01-01</td>\n",
       "      <td>00:03</td>\n",
       "      <td>충청남도</td>\n",
       "      <td>천안시 동남구</td>\n",
       "      <td>신부동</td>\n",
       "      <td>잠금장치개방</td>\n",
       "      <td>출입문</td>\n",
       "    </tr>\n",
       "    <tr>\n",
       "      <th>3</th>\n",
       "      <td>4</td>\n",
       "      <td>2023-01-01</td>\n",
       "      <td>00:03</td>\n",
       "      <td>2023-01-01</td>\n",
       "      <td>00:04</td>\n",
       "      <td>서울특별시</td>\n",
       "      <td>중구</td>\n",
       "      <td>충무로2가</td>\n",
       "      <td>화재</td>\n",
       "      <td>건축·구조물</td>\n",
       "    </tr>\n",
       "    <tr>\n",
       "      <th>4</th>\n",
       "      <td>5</td>\n",
       "      <td>2023-01-01</td>\n",
       "      <td>00:04</td>\n",
       "      <td>2023-01-01</td>\n",
       "      <td>00:05</td>\n",
       "      <td>제주특별자치도</td>\n",
       "      <td>제주시</td>\n",
       "      <td>이도이동</td>\n",
       "      <td>비화재보 확인</td>\n",
       "      <td>자동화재탐지설비</td>\n",
       "    </tr>\n",
       "  </tbody>\n",
       "</table>\n",
       "</div>"
      ],
      "text/plain": [
       "   번호       신고년월일   신고시각       출동년월일   출동시각   발생장소_시   발생장소_구 발생장소_동     사고원인  \\\n",
       "0   1  2023-01-01  00:00  2023-01-01  00:01      경기도      김포시    월곶면       화재   \n",
       "1   2  2023-01-01  00:00  2023-01-01  00:01      경기도      김포시    월곶면       화재   \n",
       "2   3  2023-01-01  00:01  2023-01-01  00:03     충청남도  천안시 동남구    신부동   잠금장치개방   \n",
       "3   4  2023-01-01  00:03  2023-01-01  00:04    서울특별시       중구  충무로2가       화재   \n",
       "4   5  2023-01-01  00:04  2023-01-01  00:05  제주특별자치도      제주시   이도이동  비화재보 확인   \n",
       "\n",
       "  사고원인코드명_사고종별  \n",
       "0     자동차·철도차량  \n",
       "1     자동차·철도차량  \n",
       "2         출입문   \n",
       "3       건축·구조물  \n",
       "4     자동화재탐지설비  "
      ]
     },
     "metadata": {},
     "output_type": "display_data"
    },
    {
     "name": "stdout",
     "output_type": "stream",
     "text": [
      "==================================================\n",
      "<class 'pandas.core.frame.DataFrame'>\n",
      "RangeIndex: 651137 entries, 0 to 651136\n",
      "Data columns (total 10 columns):\n",
      " #   Column        Non-Null Count   Dtype \n",
      "---  ------        --------------   ----- \n",
      " 0   번호            651137 non-null  int64 \n",
      " 1   신고년월일         651137 non-null  object\n",
      " 2   신고시각          651137 non-null  object\n",
      " 3   출동년월일         651137 non-null  object\n",
      " 4   출동시각          651137 non-null  object\n",
      " 5   발생장소_시        651105 non-null  object\n",
      " 6   발생장소_구        651105 non-null  object\n",
      " 7   발생장소_동        647090 non-null  object\n",
      " 8   사고원인          651137 non-null  object\n",
      " 9   사고원인코드명_사고종별  651137 non-null  object\n",
      "dtypes: int64(1), object(9)\n",
      "memory usage: 49.7+ MB\n"
     ]
    },
    {
     "data": {
      "text/plain": [
       "None"
      ]
     },
     "metadata": {},
     "output_type": "display_data"
    }
   ],
   "source": [
    "df = pd.read_csv('data-files\\소방청_구조활동현황.csv', encoding='cp949')\n",
    "\n",
    "print(\"=\"*50)\n",
    "display(df.head())\n",
    "\n",
    "print(\"=\"*50)\n",
    "display(df.info())"
   ]
  },
  {
   "cell_type": "markdown",
   "metadata": {},
   "source": [
    "### 시계열 데이터 전처리"
   ]
  },
  {
   "cell_type": "code",
   "execution_count": 82,
   "metadata": {},
   "outputs": [],
   "source": [
    "df['신고일시'] = df['신고년월일'] + \" \" + df['신고시각']\n",
    "df['출동일시'] = df['출동년월일'] + \" \" + df['출동시각']\n",
    "df['신고일시'] = pd.to_datetime(df['신고일시'])\n",
    "df['출동일시'] = pd.to_datetime(df['출동일시'])\n",
    "\n",
    "df.drop(['신고년월일'], axis=1, inplace=True)\n",
    "df.drop(['신고시각'], axis=1, inplace=True)\n",
    "df.drop(['출동년월일'], axis=1, inplace=True)\n",
    "df.drop(['출동시각'], axis=1, inplace=True)"
   ]
  },
  {
   "cell_type": "markdown",
   "metadata": {},
   "source": [
    "### 상세 확인"
   ]
  },
  {
   "cell_type": "code",
   "execution_count": 83,
   "metadata": {},
   "outputs": [
    {
     "data": {
      "text/plain": [
       "번호                 0\n",
       "발생장소_시            32\n",
       "발생장소_구            32\n",
       "발생장소_동          4047\n",
       "사고원인               0\n",
       "사고원인코드명_사고종별       0\n",
       "신고일시               0\n",
       "출동일시               0\n",
       "dtype: int64"
      ]
     },
     "execution_count": 83,
     "metadata": {},
     "output_type": "execute_result"
    }
   ],
   "source": [
    "# 컬럼별 결측치 확인\n",
    "df.isnull().sum()"
   ]
  },
  {
   "cell_type": "code",
   "execution_count": 84,
   "metadata": {},
   "outputs": [
    {
     "data": {
      "text/plain": [
       "발생장소_구\n",
       "서구         12921\n",
       "화성시        12415\n",
       "평택시        11809\n",
       "북구         10216\n",
       "중구          9674\n",
       "           ...  \n",
       "울산광역시          3\n",
       "광주광역시          2\n",
       "전북특별자치도        2\n",
       "대전광역시          1\n",
       "제주특별자치도        1\n",
       "Name: count, Length: 242, dtype: int64"
      ]
     },
     "execution_count": 84,
     "metadata": {},
     "output_type": "execute_result"
    }
   ],
   "source": [
    "# 특정 컬럼의 값 분포 확인\n",
    "df['발생장소_구'].value_counts()"
   ]
  },
  {
   "cell_type": "markdown",
   "metadata": {},
   "source": [
    "### 데이터 그룹화"
   ]
  },
  {
   "cell_type": "markdown",
   "metadata": {},
   "source": [
    "(1) `groupby` 활용"
   ]
  },
  {
   "cell_type": "code",
   "execution_count": 21,
   "metadata": {},
   "outputs": [
    {
     "data": {
      "text/html": [
       "<div>\n",
       "<style scoped>\n",
       "    .dataframe tbody tr th:only-of-type {\n",
       "        vertical-align: middle;\n",
       "    }\n",
       "\n",
       "    .dataframe tbody tr th {\n",
       "        vertical-align: top;\n",
       "    }\n",
       "\n",
       "    .dataframe thead th {\n",
       "        text-align: right;\n",
       "    }\n",
       "</style>\n",
       "<table border=\"1\" class=\"dataframe\">\n",
       "  <thead>\n",
       "    <tr style=\"text-align: right;\">\n",
       "      <th></th>\n",
       "      <th>발생장소_시</th>\n",
       "      <th>발생장소_구</th>\n",
       "      <th>사고발생건수</th>\n",
       "    </tr>\n",
       "  </thead>\n",
       "  <tbody>\n",
       "    <tr>\n",
       "      <th>0</th>\n",
       "      <td>강원특별자치도</td>\n",
       "      <td>강릉시</td>\n",
       "      <td>4897</td>\n",
       "    </tr>\n",
       "    <tr>\n",
       "      <th>1</th>\n",
       "      <td>강원특별자치도</td>\n",
       "      <td>강원특별자치도</td>\n",
       "      <td>8</td>\n",
       "    </tr>\n",
       "    <tr>\n",
       "      <th>2</th>\n",
       "      <td>강원특별자치도</td>\n",
       "      <td>고성군</td>\n",
       "      <td>1540</td>\n",
       "    </tr>\n",
       "    <tr>\n",
       "      <th>3</th>\n",
       "      <td>강원특별자치도</td>\n",
       "      <td>동해시</td>\n",
       "      <td>2144</td>\n",
       "    </tr>\n",
       "    <tr>\n",
       "      <th>4</th>\n",
       "      <td>강원특별자치도</td>\n",
       "      <td>삼척시</td>\n",
       "      <td>2525</td>\n",
       "    </tr>\n",
       "    <tr>\n",
       "      <th>...</th>\n",
       "      <td>...</td>\n",
       "      <td>...</td>\n",
       "      <td>...</td>\n",
       "    </tr>\n",
       "    <tr>\n",
       "      <th>261</th>\n",
       "      <td>충청북도</td>\n",
       "      <td>청주시 서원구</td>\n",
       "      <td>1807</td>\n",
       "    </tr>\n",
       "    <tr>\n",
       "      <th>262</th>\n",
       "      <td>충청북도</td>\n",
       "      <td>청주시 청원구</td>\n",
       "      <td>2058</td>\n",
       "    </tr>\n",
       "    <tr>\n",
       "      <th>263</th>\n",
       "      <td>충청북도</td>\n",
       "      <td>청주시 흥덕구</td>\n",
       "      <td>2653</td>\n",
       "    </tr>\n",
       "    <tr>\n",
       "      <th>264</th>\n",
       "      <td>충청북도</td>\n",
       "      <td>충주시</td>\n",
       "      <td>2690</td>\n",
       "    </tr>\n",
       "    <tr>\n",
       "      <th>265</th>\n",
       "      <td>충청북도</td>\n",
       "      <td>충청북도</td>\n",
       "      <td>5</td>\n",
       "    </tr>\n",
       "  </tbody>\n",
       "</table>\n",
       "<p>266 rows × 3 columns</p>\n",
       "</div>"
      ],
      "text/plain": [
       "      발생장소_시   발생장소_구  사고발생건수\n",
       "0    강원특별자치도      강릉시    4897\n",
       "1    강원특별자치도  강원특별자치도       8\n",
       "2    강원특별자치도      고성군    1540\n",
       "3    강원특별자치도      동해시    2144\n",
       "4    강원특별자치도      삼척시    2525\n",
       "..       ...      ...     ...\n",
       "261     충청북도  청주시 서원구    1807\n",
       "262     충청북도  청주시 청원구    2058\n",
       "263     충청북도  청주시 흥덕구    2653\n",
       "264     충청북도      충주시    2690\n",
       "265     충청북도     충청북도       5\n",
       "\n",
       "[266 rows x 3 columns]"
      ]
     },
     "execution_count": 21,
     "metadata": {},
     "output_type": "execute_result"
    }
   ],
   "source": [
    "grouped_df = df.groupby(['발생장소_시', '발생장소_구'])['번호'].count().reset_index().rename(columns={'번호':'사고발생건수'})\n",
    "\n",
    "grouped_df"
   ]
  },
  {
   "cell_type": "markdown",
   "metadata": {},
   "source": [
    "(2) `pivot_table` 활용"
   ]
  },
  {
   "cell_type": "code",
   "execution_count": 65,
   "metadata": {},
   "outputs": [
    {
     "data": {
      "text/html": [
       "<div>\n",
       "<style scoped>\n",
       "    .dataframe tbody tr th:only-of-type {\n",
       "        vertical-align: middle;\n",
       "    }\n",
       "\n",
       "    .dataframe tbody tr th {\n",
       "        vertical-align: top;\n",
       "    }\n",
       "\n",
       "    .dataframe thead th {\n",
       "        text-align: right;\n",
       "    }\n",
       "</style>\n",
       "<table border=\"1\" class=\"dataframe\">\n",
       "  <thead>\n",
       "    <tr style=\"text-align: right;\">\n",
       "      <th></th>\n",
       "      <th>발생장소_시</th>\n",
       "      <th>발생장소_구</th>\n",
       "      <th>사고발생건수</th>\n",
       "    </tr>\n",
       "  </thead>\n",
       "  <tbody>\n",
       "    <tr>\n",
       "      <th>0</th>\n",
       "      <td>강원특별자치도</td>\n",
       "      <td>강릉시</td>\n",
       "      <td>4897</td>\n",
       "    </tr>\n",
       "    <tr>\n",
       "      <th>1</th>\n",
       "      <td>강원특별자치도</td>\n",
       "      <td>강원특별자치도</td>\n",
       "      <td>8</td>\n",
       "    </tr>\n",
       "    <tr>\n",
       "      <th>2</th>\n",
       "      <td>강원특별자치도</td>\n",
       "      <td>고성군</td>\n",
       "      <td>1540</td>\n",
       "    </tr>\n",
       "    <tr>\n",
       "      <th>3</th>\n",
       "      <td>강원특별자치도</td>\n",
       "      <td>동해시</td>\n",
       "      <td>2144</td>\n",
       "    </tr>\n",
       "    <tr>\n",
       "      <th>4</th>\n",
       "      <td>강원특별자치도</td>\n",
       "      <td>삼척시</td>\n",
       "      <td>2525</td>\n",
       "    </tr>\n",
       "    <tr>\n",
       "      <th>...</th>\n",
       "      <td>...</td>\n",
       "      <td>...</td>\n",
       "      <td>...</td>\n",
       "    </tr>\n",
       "    <tr>\n",
       "      <th>261</th>\n",
       "      <td>충청북도</td>\n",
       "      <td>청주시 서원구</td>\n",
       "      <td>1807</td>\n",
       "    </tr>\n",
       "    <tr>\n",
       "      <th>262</th>\n",
       "      <td>충청북도</td>\n",
       "      <td>청주시 청원구</td>\n",
       "      <td>2058</td>\n",
       "    </tr>\n",
       "    <tr>\n",
       "      <th>263</th>\n",
       "      <td>충청북도</td>\n",
       "      <td>청주시 흥덕구</td>\n",
       "      <td>2653</td>\n",
       "    </tr>\n",
       "    <tr>\n",
       "      <th>264</th>\n",
       "      <td>충청북도</td>\n",
       "      <td>충주시</td>\n",
       "      <td>2690</td>\n",
       "    </tr>\n",
       "    <tr>\n",
       "      <th>265</th>\n",
       "      <td>충청북도</td>\n",
       "      <td>충청북도</td>\n",
       "      <td>5</td>\n",
       "    </tr>\n",
       "  </tbody>\n",
       "</table>\n",
       "<p>266 rows × 3 columns</p>\n",
       "</div>"
      ],
      "text/plain": [
       "      발생장소_시   발생장소_구  사고발생건수\n",
       "0    강원특별자치도      강릉시    4897\n",
       "1    강원특별자치도  강원특별자치도       8\n",
       "2    강원특별자치도      고성군    1540\n",
       "3    강원특별자치도      동해시    2144\n",
       "4    강원특별자치도      삼척시    2525\n",
       "..       ...      ...     ...\n",
       "261     충청북도  청주시 서원구    1807\n",
       "262     충청북도  청주시 청원구    2058\n",
       "263     충청북도  청주시 흥덕구    2653\n",
       "264     충청북도      충주시    2690\n",
       "265     충청북도     충청북도       5\n",
       "\n",
       "[266 rows x 3 columns]"
      ]
     },
     "execution_count": 65,
     "metadata": {},
     "output_type": "execute_result"
    }
   ],
   "source": [
    "pivot_df = df.pivot_table(\n",
    "    index=['발생장소_시', '발생장소_구']\n",
    "    , aggfunc='size'\n",
    ").reset_index(name='사고발생건수')\n",
    "\n",
    "pivot_df"
   ]
  },
  {
   "cell_type": "markdown",
   "metadata": {},
   "source": [
    "### 시각화"
   ]
  },
  {
   "cell_type": "code",
   "execution_count": 66,
   "metadata": {},
   "outputs": [],
   "source": [
    "import matplotlib.pyplot as plt\n",
    "import seaborn as sns\n",
    "\n",
    "plt.rc('font', family='Malgun Gothic')"
   ]
  },
  {
   "cell_type": "markdown",
   "metadata": {},
   "source": [
    "(1) `발생장소_시`별로 `사건발생건수` 시각화"
   ]
  },
  {
   "cell_type": "code",
   "execution_count": 24,
   "metadata": {},
   "outputs": [
    {
     "data": {
      "text/plain": [
       "<Axes: xlabel='발생장소_시', ylabel='사고발생건수'>"
      ]
     },
     "execution_count": 24,
     "metadata": {},
     "output_type": "execute_result"
    },
    {
     "data": {
      "image/png": "[encoded data removed]",
      "text/plain": [
       "<Figure size 2000x500 with 1 Axes>"
      ]
     },
     "metadata": {},
     "output_type": "display_data"
    }
   ],
   "source": [
    "plt.figure(figsize=(20, 5))\n",
    "sns.barplot(\n",
    "    data = pivot_df\n",
    "    , x = '발생장소_시'\n",
    "    , y = '사고발생건수'\n",
    "    , hue = '발생장소_시'\n",
    ")"
   ]
  },
  {
   "cell_type": "markdown",
   "metadata": {},
   "source": [
    "(2) 서울시의 `발생장소_구`별로 `사건발생건수` 시각화"
   ]
  },
  {
   "cell_type": "code",
   "execution_count": 25,
   "metadata": {},
   "outputs": [
    {
     "data": {
      "text/html": [
       "<div>\n",
       "<style scoped>\n",
       "    .dataframe tbody tr th:only-of-type {\n",
       "        vertical-align: middle;\n",
       "    }\n",
       "\n",
       "    .dataframe tbody tr th {\n",
       "        vertical-align: top;\n",
       "    }\n",
       "\n",
       "    .dataframe thead th {\n",
       "        text-align: right;\n",
       "    }\n",
       "</style>\n",
       "<table border=\"1\" class=\"dataframe\">\n",
       "  <thead>\n",
       "    <tr style=\"text-align: right;\">\n",
       "      <th></th>\n",
       "      <th>발생장소_시</th>\n",
       "      <th>발생장소_구</th>\n",
       "      <th>사고발생건수</th>\n",
       "    </tr>\n",
       "  </thead>\n",
       "  <tbody>\n",
       "    <tr>\n",
       "      <th>0</th>\n",
       "      <td>서울특별시</td>\n",
       "      <td>강남구</td>\n",
       "      <td>8039</td>\n",
       "    </tr>\n",
       "    <tr>\n",
       "      <th>1</th>\n",
       "      <td>서울특별시</td>\n",
       "      <td>강동구</td>\n",
       "      <td>4059</td>\n",
       "    </tr>\n",
       "    <tr>\n",
       "      <th>2</th>\n",
       "      <td>서울특별시</td>\n",
       "      <td>강북구</td>\n",
       "      <td>4459</td>\n",
       "    </tr>\n",
       "    <tr>\n",
       "      <th>3</th>\n",
       "      <td>서울특별시</td>\n",
       "      <td>강서구</td>\n",
       "      <td>6132</td>\n",
       "    </tr>\n",
       "    <tr>\n",
       "      <th>4</th>\n",
       "      <td>서울특별시</td>\n",
       "      <td>관악구</td>\n",
       "      <td>4412</td>\n",
       "    </tr>\n",
       "    <tr>\n",
       "      <th>5</th>\n",
       "      <td>서울특별시</td>\n",
       "      <td>광진구</td>\n",
       "      <td>3291</td>\n",
       "    </tr>\n",
       "    <tr>\n",
       "      <th>6</th>\n",
       "      <td>서울특별시</td>\n",
       "      <td>구로구</td>\n",
       "      <td>3992</td>\n",
       "    </tr>\n",
       "    <tr>\n",
       "      <th>7</th>\n",
       "      <td>서울특별시</td>\n",
       "      <td>금천구</td>\n",
       "      <td>3490</td>\n",
       "    </tr>\n",
       "    <tr>\n",
       "      <th>8</th>\n",
       "      <td>서울특별시</td>\n",
       "      <td>노원구</td>\n",
       "      <td>4242</td>\n",
       "    </tr>\n",
       "    <tr>\n",
       "      <th>9</th>\n",
       "      <td>서울특별시</td>\n",
       "      <td>도봉구</td>\n",
       "      <td>3878</td>\n",
       "    </tr>\n",
       "    <tr>\n",
       "      <th>10</th>\n",
       "      <td>서울특별시</td>\n",
       "      <td>동대문구</td>\n",
       "      <td>3793</td>\n",
       "    </tr>\n",
       "    <tr>\n",
       "      <th>11</th>\n",
       "      <td>서울특별시</td>\n",
       "      <td>동작구</td>\n",
       "      <td>2990</td>\n",
       "    </tr>\n",
       "    <tr>\n",
       "      <th>12</th>\n",
       "      <td>서울특별시</td>\n",
       "      <td>마포구</td>\n",
       "      <td>6506</td>\n",
       "    </tr>\n",
       "    <tr>\n",
       "      <th>13</th>\n",
       "      <td>서울특별시</td>\n",
       "      <td>서대문구</td>\n",
       "      <td>4127</td>\n",
       "    </tr>\n",
       "    <tr>\n",
       "      <th>14</th>\n",
       "      <td>서울특별시</td>\n",
       "      <td>서초구</td>\n",
       "      <td>4824</td>\n",
       "    </tr>\n",
       "    <tr>\n",
       "      <th>15</th>\n",
       "      <td>서울특별시</td>\n",
       "      <td>성동구</td>\n",
       "      <td>2471</td>\n",
       "    </tr>\n",
       "    <tr>\n",
       "      <th>16</th>\n",
       "      <td>서울특별시</td>\n",
       "      <td>성북구</td>\n",
       "      <td>3551</td>\n",
       "    </tr>\n",
       "    <tr>\n",
       "      <th>17</th>\n",
       "      <td>서울특별시</td>\n",
       "      <td>송파구</td>\n",
       "      <td>6608</td>\n",
       "    </tr>\n",
       "    <tr>\n",
       "      <th>18</th>\n",
       "      <td>서울특별시</td>\n",
       "      <td>양천구</td>\n",
       "      <td>4045</td>\n",
       "    </tr>\n",
       "    <tr>\n",
       "      <th>19</th>\n",
       "      <td>서울특별시</td>\n",
       "      <td>영등포구</td>\n",
       "      <td>5795</td>\n",
       "    </tr>\n",
       "    <tr>\n",
       "      <th>20</th>\n",
       "      <td>서울특별시</td>\n",
       "      <td>용산구</td>\n",
       "      <td>3399</td>\n",
       "    </tr>\n",
       "    <tr>\n",
       "      <th>21</th>\n",
       "      <td>서울특별시</td>\n",
       "      <td>은평구</td>\n",
       "      <td>5490</td>\n",
       "    </tr>\n",
       "    <tr>\n",
       "      <th>22</th>\n",
       "      <td>서울특별시</td>\n",
       "      <td>종로구</td>\n",
       "      <td>2944</td>\n",
       "    </tr>\n",
       "    <tr>\n",
       "      <th>23</th>\n",
       "      <td>서울특별시</td>\n",
       "      <td>중구</td>\n",
       "      <td>1601</td>\n",
       "    </tr>\n",
       "    <tr>\n",
       "      <th>24</th>\n",
       "      <td>서울특별시</td>\n",
       "      <td>중랑구</td>\n",
       "      <td>3518</td>\n",
       "    </tr>\n",
       "  </tbody>\n",
       "</table>\n",
       "</div>"
      ],
      "text/plain": [
       "   발생장소_시 발생장소_구  사고발생건수\n",
       "0   서울특별시    강남구    8039\n",
       "1   서울특별시    강동구    4059\n",
       "2   서울특별시    강북구    4459\n",
       "3   서울특별시    강서구    6132\n",
       "4   서울특별시    관악구    4412\n",
       "5   서울특별시    광진구    3291\n",
       "6   서울특별시    구로구    3992\n",
       "7   서울특별시    금천구    3490\n",
       "8   서울특별시    노원구    4242\n",
       "9   서울특별시    도봉구    3878\n",
       "10  서울특별시   동대문구    3793\n",
       "11  서울특별시    동작구    2990\n",
       "12  서울특별시    마포구    6506\n",
       "13  서울특별시   서대문구    4127\n",
       "14  서울특별시    서초구    4824\n",
       "15  서울특별시    성동구    2471\n",
       "16  서울특별시    성북구    3551\n",
       "17  서울특별시    송파구    6608\n",
       "18  서울특별시    양천구    4045\n",
       "19  서울특별시   영등포구    5795\n",
       "20  서울특별시    용산구    3399\n",
       "21  서울특별시    은평구    5490\n",
       "22  서울특별시    종로구    2944\n",
       "23  서울특별시     중구    1601\n",
       "24  서울특별시    중랑구    3518"
      ]
     },
     "execution_count": 25,
     "metadata": {},
     "output_type": "execute_result"
    }
   ],
   "source": [
    "# 서울시 데이터 추출 및 정리\n",
    "seoul_pivot_df = pivot_df[pivot_df['발생장소_시']=='서울특별시'].reset_index(drop=True)\n",
    "\n",
    "# '발생장소_구'가 서울특별시로 되어있는 경우를 제외\n",
    "to_drop = seoul_pivot_df['발생장소_시'] == seoul_pivot_df['발생장소_구']\n",
    "seoul_pivot_df = seoul_pivot_df[~to_drop].reset_index(drop=True)\n",
    "seoul_pivot_df"
   ]
  },
  {
   "cell_type": "code",
   "execution_count": 26,
   "metadata": {},
   "outputs": [
    {
     "data": {
      "text/plain": [
       "<Axes: xlabel='발생장소_구', ylabel='사고발생건수'>"
      ]
     },
     "execution_count": 26,
     "metadata": {},
     "output_type": "execute_result"
    },
    {
     "data": {
      "image/png": "[encoded data removed]",
      "text/plain": [
       "<Figure size 2000x500 with 1 Axes>"
      ]
     },
     "metadata": {},
     "output_type": "display_data"
    }
   ],
   "source": [
    "plt.figure(figsize=(20, 5))\n",
    "sns.barplot(\n",
    "    data = seoul_pivot_df\n",
    "    , x = '발생장소_구'\n",
    "    , y = '사고발생건수'\n",
    "    , hue = '발생장소_구'\n",
    ")"
   ]
  },
  {
   "cell_type": "markdown",
   "metadata": {},
   "source": [
    "### 집계 데이터 생성"
   ]
  },
  {
   "cell_type": "markdown",
   "metadata": {},
   "source": [
    "(1) 출동까지 걸린 시간 계산 (초)"
   ]
  },
  {
   "cell_type": "code",
   "execution_count": 85,
   "metadata": {},
   "outputs": [],
   "source": [
    "df['출동소요시간'] = df['출동일시'] - df['신고일시']\n",
    "df['출동소요시간_초'] = df['출동소요시간'].dt.total_seconds().astype(int)"
   ]
  },
  {
   "cell_type": "code",
   "execution_count": 86,
   "metadata": {},
   "outputs": [
    {
     "data": {
      "text/html": [
       "<div>\n",
       "<style scoped>\n",
       "    .dataframe tbody tr th:only-of-type {\n",
       "        vertical-align: middle;\n",
       "    }\n",
       "\n",
       "    .dataframe tbody tr th {\n",
       "        vertical-align: top;\n",
       "    }\n",
       "\n",
       "    .dataframe thead th {\n",
       "        text-align: right;\n",
       "    }\n",
       "</style>\n",
       "<table border=\"1\" class=\"dataframe\">\n",
       "  <thead>\n",
       "    <tr style=\"text-align: right;\">\n",
       "      <th></th>\n",
       "      <th>번호</th>\n",
       "      <th>발생장소_시</th>\n",
       "      <th>발생장소_구</th>\n",
       "      <th>발생장소_동</th>\n",
       "      <th>사고원인</th>\n",
       "      <th>사고원인코드명_사고종별</th>\n",
       "      <th>신고일시</th>\n",
       "      <th>출동일시</th>\n",
       "      <th>출동소요시간</th>\n",
       "      <th>출동소요시간_초</th>\n",
       "    </tr>\n",
       "  </thead>\n",
       "  <tbody>\n",
       "    <tr>\n",
       "      <th>0</th>\n",
       "      <td>1</td>\n",
       "      <td>경기도</td>\n",
       "      <td>김포시</td>\n",
       "      <td>월곶면</td>\n",
       "      <td>화재</td>\n",
       "      <td>자동차·철도차량</td>\n",
       "      <td>2023-01-01 00:00:00</td>\n",
       "      <td>2023-01-01 00:01:00</td>\n",
       "      <td>0 days 00:01:00</td>\n",
       "      <td>60</td>\n",
       "    </tr>\n",
       "    <tr>\n",
       "      <th>1</th>\n",
       "      <td>2</td>\n",
       "      <td>경기도</td>\n",
       "      <td>김포시</td>\n",
       "      <td>월곶면</td>\n",
       "      <td>화재</td>\n",
       "      <td>자동차·철도차량</td>\n",
       "      <td>2023-01-01 00:00:00</td>\n",
       "      <td>2023-01-01 00:01:00</td>\n",
       "      <td>0 days 00:01:00</td>\n",
       "      <td>60</td>\n",
       "    </tr>\n",
       "    <tr>\n",
       "      <th>2</th>\n",
       "      <td>3</td>\n",
       "      <td>충청남도</td>\n",
       "      <td>천안시 동남구</td>\n",
       "      <td>신부동</td>\n",
       "      <td>잠금장치개방</td>\n",
       "      <td>출입문</td>\n",
       "      <td>2023-01-01 00:01:00</td>\n",
       "      <td>2023-01-01 00:03:00</td>\n",
       "      <td>0 days 00:02:00</td>\n",
       "      <td>120</td>\n",
       "    </tr>\n",
       "    <tr>\n",
       "      <th>3</th>\n",
       "      <td>4</td>\n",
       "      <td>서울특별시</td>\n",
       "      <td>중구</td>\n",
       "      <td>충무로2가</td>\n",
       "      <td>화재</td>\n",
       "      <td>건축·구조물</td>\n",
       "      <td>2023-01-01 00:03:00</td>\n",
       "      <td>2023-01-01 00:04:00</td>\n",
       "      <td>0 days 00:01:00</td>\n",
       "      <td>60</td>\n",
       "    </tr>\n",
       "    <tr>\n",
       "      <th>4</th>\n",
       "      <td>5</td>\n",
       "      <td>제주특별자치도</td>\n",
       "      <td>제주시</td>\n",
       "      <td>이도이동</td>\n",
       "      <td>비화재보 확인</td>\n",
       "      <td>자동화재탐지설비</td>\n",
       "      <td>2023-01-01 00:04:00</td>\n",
       "      <td>2023-01-01 00:05:00</td>\n",
       "      <td>0 days 00:01:00</td>\n",
       "      <td>60</td>\n",
       "    </tr>\n",
       "  </tbody>\n",
       "</table>\n",
       "</div>"
      ],
      "text/plain": [
       "   번호   발생장소_시   발생장소_구 발생장소_동     사고원인 사고원인코드명_사고종별                신고일시  \\\n",
       "0   1      경기도      김포시    월곶면       화재     자동차·철도차량 2023-01-01 00:00:00   \n",
       "1   2      경기도      김포시    월곶면       화재     자동차·철도차량 2023-01-01 00:00:00   \n",
       "2   3     충청남도  천안시 동남구    신부동   잠금장치개방         출입문  2023-01-01 00:01:00   \n",
       "3   4    서울특별시       중구  충무로2가       화재       건축·구조물 2023-01-01 00:03:00   \n",
       "4   5  제주특별자치도      제주시   이도이동  비화재보 확인     자동화재탐지설비 2023-01-01 00:04:00   \n",
       "\n",
       "                 출동일시          출동소요시간  출동소요시간_초  \n",
       "0 2023-01-01 00:01:00 0 days 00:01:00        60  \n",
       "1 2023-01-01 00:01:00 0 days 00:01:00        60  \n",
       "2 2023-01-01 00:03:00 0 days 00:02:00       120  \n",
       "3 2023-01-01 00:04:00 0 days 00:01:00        60  \n",
       "4 2023-01-01 00:05:00 0 days 00:01:00        60  "
      ]
     },
     "execution_count": 86,
     "metadata": {},
     "output_type": "execute_result"
    }
   ],
   "source": [
    "df.head()"
   ]
  },
  {
   "cell_type": "markdown",
   "metadata": {},
   "source": [
    "### 이상치 처리"
   ]
  },
  {
   "cell_type": "markdown",
   "metadata": {},
   "source": [
    "(1) 출동일시가 신고일시보다 빠른 경우"
   ]
  },
  {
   "cell_type": "code",
   "execution_count": 88,
   "metadata": {},
   "outputs": [
    {
     "data": {
      "text/html": [
       "<div>\n",
       "<style scoped>\n",
       "    .dataframe tbody tr th:only-of-type {\n",
       "        vertical-align: middle;\n",
       "    }\n",
       "\n",
       "    .dataframe tbody tr th {\n",
       "        vertical-align: top;\n",
       "    }\n",
       "\n",
       "    .dataframe thead th {\n",
       "        text-align: right;\n",
       "    }\n",
       "</style>\n",
       "<table border=\"1\" class=\"dataframe\">\n",
       "  <thead>\n",
       "    <tr style=\"text-align: right;\">\n",
       "      <th></th>\n",
       "      <th>번호</th>\n",
       "      <th>신고일시</th>\n",
       "      <th>출동일시</th>\n",
       "      <th>출동소요시간</th>\n",
       "      <th>출동소요시간_초</th>\n",
       "    </tr>\n",
       "  </thead>\n",
       "  <tbody>\n",
       "    <tr>\n",
       "      <th>count</th>\n",
       "      <td>651137.00</td>\n",
       "      <td>651137</td>\n",
       "      <td>651137</td>\n",
       "      <td>651137</td>\n",
       "      <td>651137.00</td>\n",
       "    </tr>\n",
       "    <tr>\n",
       "      <th>mean</th>\n",
       "      <td>325569.00</td>\n",
       "      <td>2023-07-11 09:18:27.022700288</td>\n",
       "      <td>2023-07-11 09:18:36.740378624</td>\n",
       "      <td>0 days 00:00:09.717678460</td>\n",
       "      <td>9.72</td>\n",
       "    </tr>\n",
       "    <tr>\n",
       "      <th>min</th>\n",
       "      <td>1.00</td>\n",
       "      <td>2023-01-01 00:00:00</td>\n",
       "      <td>2023-01-01 00:01:00</td>\n",
       "      <td>-270 days +00:29:00</td>\n",
       "      <td>-23326260.00</td>\n",
       "    </tr>\n",
       "    <tr>\n",
       "      <th>25%</th>\n",
       "      <td>162785.00</td>\n",
       "      <td>2023-04-30 17:47:00</td>\n",
       "      <td>2023-04-30 17:45:00</td>\n",
       "      <td>0 days 00:01:00</td>\n",
       "      <td>60.00</td>\n",
       "    </tr>\n",
       "    <tr>\n",
       "      <th>50%</th>\n",
       "      <td>325569.00</td>\n",
       "      <td>2023-07-24 18:59:00</td>\n",
       "      <td>2023-07-24 18:56:00</td>\n",
       "      <td>0 days 00:01:00</td>\n",
       "      <td>60.00</td>\n",
       "    </tr>\n",
       "    <tr>\n",
       "      <th>75%</th>\n",
       "      <td>488353.00</td>\n",
       "      <td>2023-09-16 08:47:00</td>\n",
       "      <td>2023-09-16 08:56:00</td>\n",
       "      <td>0 days 00:02:00</td>\n",
       "      <td>120.00</td>\n",
       "    </tr>\n",
       "    <tr>\n",
       "      <th>max</th>\n",
       "      <td>651137.00</td>\n",
       "      <td>2023-12-31 23:59:00</td>\n",
       "      <td>2024-01-09 19:06:00</td>\n",
       "      <td>319 days 00:26:00</td>\n",
       "      <td>27563160.00</td>\n",
       "    </tr>\n",
       "    <tr>\n",
       "      <th>std</th>\n",
       "      <td>187967.21</td>\n",
       "      <td>NaN</td>\n",
       "      <td>NaN</td>\n",
       "      <td>1 days 02:21:29.209996335</td>\n",
       "      <td>94889.21</td>\n",
       "    </tr>\n",
       "  </tbody>\n",
       "</table>\n",
       "</div>"
      ],
      "text/plain": [
       "             번호                           신고일시                           출동일시  \\\n",
       "count 651137.00                         651137                         651137   \n",
       "mean  325569.00  2023-07-11 09:18:27.022700288  2023-07-11 09:18:36.740378624   \n",
       "min        1.00            2023-01-01 00:00:00            2023-01-01 00:01:00   \n",
       "25%   162785.00            2023-04-30 17:47:00            2023-04-30 17:45:00   \n",
       "50%   325569.00            2023-07-24 18:59:00            2023-07-24 18:56:00   \n",
       "75%   488353.00            2023-09-16 08:47:00            2023-09-16 08:56:00   \n",
       "max   651137.00            2023-12-31 23:59:00            2024-01-09 19:06:00   \n",
       "std   187967.21                            NaN                            NaN   \n",
       "\n",
       "                          출동소요시간     출동소요시간_초  \n",
       "count                     651137    651137.00  \n",
       "mean   0 days 00:00:09.717678460         9.72  \n",
       "min          -270 days +00:29:00 -23326260.00  \n",
       "25%              0 days 00:01:00        60.00  \n",
       "50%              0 days 00:01:00        60.00  \n",
       "75%              0 days 00:02:00       120.00  \n",
       "max            319 days 00:26:00  27563160.00  \n",
       "std    1 days 02:21:29.209996335     94889.21  "
      ]
     },
     "execution_count": 88,
     "metadata": {},
     "output_type": "execute_result"
    }
   ],
   "source": [
    "# 출동소요시간에 음의 값이 있는 것을 확인\n",
    "pd.set_option('display.float_format', '{:.2f}'.format)\n",
    "df['출동소요시간_초'].describe()"
   ]
  },
  {
   "cell_type": "code",
   "execution_count": 90,
   "metadata": {},
   "outputs": [],
   "source": [
    "# 출동일시가 신고일시보다 빠른 경우를 제거\n",
    "to_drop = df['출동소요시간_초'] < 0\n",
    "df = df[~to_drop]"
   ]
  },
  {
   "cell_type": "markdown",
   "metadata": {},
   "source": [
    "(2) 이상치 시각화 (boxplot)"
   ]
  },
  {
   "cell_type": "code",
   "execution_count": 93,
   "metadata": {},
   "outputs": [
    {
     "data": {
      "text/plain": [
       "<Axes: xlabel='발생장소_시', ylabel='출동소요시간_초'>"
      ]
     },
     "execution_count": 93,
     "metadata": {},
     "output_type": "execute_result"
    },
    {
     "data": {
      "image/png": "[encoded data removed]",
      "text/plain": [
       "<Figure size 2000x500 with 1 Axes>"
      ]
     },
     "metadata": {},
     "output_type": "display_data"
    }
   ],
   "source": [
    "plt.figure(figsize=(20, 5))\n",
    "sns.boxplot(\n",
    "    data = df\n",
    "    , x = '발생장소_시'\n",
    "    , y = '출동소요시간_초'\n",
    "    , hue = '발생장소_시'\n",
    ")"
   ]
  },
  {
   "cell_type": "markdown",
   "metadata": {},
   "source": [
    "(3) 일반적인 값에서 크게 떨어진 이상치 처리"
   ]
  },
  {
   "cell_type": "code",
   "execution_count": 96,
   "metadata": {},
   "outputs": [
    {
     "data": {
      "text/plain": [
       "count     650365.00\n",
       "mean         514.05\n",
       "std        67151.07\n",
       "min            0.00\n",
       "25%           60.00\n",
       "50%           60.00\n",
       "75%          120.00\n",
       "max     27563160.00\n",
       "Name: 출동소요시간_초, dtype: float64"
      ]
     },
     "execution_count": 96,
     "metadata": {},
     "output_type": "execute_result"
    }
   ],
   "source": [
    "df['출동소요시간_초'].describe()"
   ]
  },
  {
   "cell_type": "markdown",
   "metadata": {},
   "source": [
    "a. IQR\n",
    "- IQR = Q3-Q1 = 120-60 = 60(초)\n",
    "- 하한 경계 = Q1-1.5×IQR = 60-1.5×60 = -30(초) ← 실질적으로 0초\n",
    "- 상한 경계 = Q3+1.5×IQR = 120+1.5×60 = 210(초)\n",
    "\n",
    "⇒ 210초를 초과하는 값들을 이상치로 처리"
   ]
  },
  {
   "cell_type": "code",
   "execution_count": null,
   "metadata": {},
   "outputs": [],
   "source": []
  },
  {
   "cell_type": "markdown",
   "metadata": {},
   "source": [
    "b. Z-score\n",
    "<br/><br/>\n",
    "⇒ 표준편차가 매우 크므로 알맞지 않음"
   ]
  }
 ],
 "metadata": {
  "kernelspec": {
   "display_name": "base",
   "language": "python",
   "name": "python3"
  },
  "language_info": {
   "codemirror_mode": {
    "name": "ipython",
    "version": 3
   },
   "file_extension": ".py",
   "mimetype": "text/x-python",
   "name": "python",
   "nbconvert_exporter": "python",
   "pygments_lexer": "ipython3",
   "version": "3.12.7"
  }
 },
 "nbformat": 4,
 "nbformat_minor": 2
}
