{
 "cells": [
  {
   "cell_type": "markdown",
   "metadata": {},
   "source": [
    "# `목적`:"
   ]
  },
  {
   "cell_type": "code",
   "execution_count": 15,
   "metadata": {},
   "outputs": [],
   "source": [
    "import pandas as pd\n",
    "import numpy as np\n",
    "import plotly.express as px"
   ]
  },
  {
   "cell_type": "markdown",
   "metadata": {},
   "source": [
    "### 데이터 로드"
   ]
  },
  {
   "cell_type": "code",
   "execution_count": 16,
   "metadata": {},
   "outputs": [],
   "source": [
    "ad = pd.read_csv(r'data-files\\09-eda_ad.csv')\n",
    "order = pd.read_csv(r'data-files\\09-eda_order.csv')\n",
    "product = pd.read_csv(r'data-files\\09-eda_product.csv')\n",
    "purchase = pd.read_csv(r'data-files\\09-eda_purchase.csv')\n",
    "visit = pd.read_csv(r'data-files\\09-eda_visit.csv')"
   ]
  },
  {
   "cell_type": "markdown",
   "metadata": {},
   "source": [
    "(1) ad"
   ]
  },
  {
   "cell_type": "code",
   "execution_count": 17,
   "metadata": {},
   "outputs": [
    {
     "data": {
      "text/html": [
       "<div>\n",
       "<style scoped>\n",
       "    .dataframe tbody tr th:only-of-type {\n",
       "        vertical-align: middle;\n",
       "    }\n",
       "\n",
       "    .dataframe tbody tr th {\n",
       "        vertical-align: top;\n",
       "    }\n",
       "\n",
       "    .dataframe thead th {\n",
       "        text-align: right;\n",
       "    }\n",
       "</style>\n",
       "<table border=\"1\" class=\"dataframe\">\n",
       "  <thead>\n",
       "    <tr style=\"text-align: right;\">\n",
       "      <th></th>\n",
       "      <th>date</th>\n",
       "      <th>campaign</th>\n",
       "      <th>source</th>\n",
       "      <th>spending</th>\n",
       "      <th>clicks</th>\n",
       "    </tr>\n",
       "  </thead>\n",
       "  <tbody>\n",
       "    <tr>\n",
       "      <th>0</th>\n",
       "      <td>2023-02-07</td>\n",
       "      <td>campaign_1</td>\n",
       "      <td>a</td>\n",
       "      <td>0.828903</td>\n",
       "      <td>7</td>\n",
       "    </tr>\n",
       "    <tr>\n",
       "      <th>1</th>\n",
       "      <td>2023-02-07</td>\n",
       "      <td>campaign_2</td>\n",
       "      <td>a</td>\n",
       "      <td>8.757485</td>\n",
       "      <td>1</td>\n",
       "    </tr>\n",
       "    <tr>\n",
       "      <th>2</th>\n",
       "      <td>2023-02-07</td>\n",
       "      <td>campaign_3</td>\n",
       "      <td>a</td>\n",
       "      <td>1.795900</td>\n",
       "      <td>1</td>\n",
       "    </tr>\n",
       "  </tbody>\n",
       "</table>\n",
       "</div>"
      ],
      "text/plain": [
       "         date    campaign source  spending  clicks\n",
       "0  2023-02-07  campaign_1      a  0.828903       7\n",
       "1  2023-02-07  campaign_2      a  8.757485       1\n",
       "2  2023-02-07  campaign_3      a  1.795900       1"
      ]
     },
     "metadata": {},
     "output_type": "display_data"
    },
    {
     "name": "stdout",
     "output_type": "stream",
     "text": [
      "<class 'pandas.core.frame.DataFrame'>\n",
      "RangeIndex: 50000 entries, 0 to 49999\n",
      "Data columns (total 5 columns):\n",
      " #   Column    Non-Null Count  Dtype  \n",
      "---  ------    --------------  -----  \n",
      " 0   date      50000 non-null  object \n",
      " 1   campaign  50000 non-null  object \n",
      " 2   source    50000 non-null  object \n",
      " 3   spending  50000 non-null  float64\n",
      " 4   clicks    50000 non-null  int64  \n",
      "dtypes: float64(1), int64(1), object(3)\n",
      "memory usage: 1.9+ MB\n"
     ]
    },
    {
     "data": {
      "text/plain": [
       "None"
      ]
     },
     "metadata": {},
     "output_type": "display_data"
    }
   ],
   "source": [
    "display(ad.head(3))\n",
    "display(ad.info())"
   ]
  },
  {
   "cell_type": "code",
   "execution_count": 18,
   "metadata": {},
   "outputs": [],
   "source": [
    "ad['date'] = pd.to_datetime(ad['date'])"
   ]
  },
  {
   "cell_type": "markdown",
   "metadata": {},
   "source": [
    "(2) order"
   ]
  },
  {
   "cell_type": "code",
   "execution_count": 19,
   "metadata": {},
   "outputs": [
    {
     "data": {
      "text/html": [
       "<div>\n",
       "<style scoped>\n",
       "    .dataframe tbody tr th:only-of-type {\n",
       "        vertical-align: middle;\n",
       "    }\n",
       "\n",
       "    .dataframe tbody tr th {\n",
       "        vertical-align: top;\n",
       "    }\n",
       "\n",
       "    .dataframe thead th {\n",
       "        text-align: right;\n",
       "    }\n",
       "</style>\n",
       "<table border=\"1\" class=\"dataframe\">\n",
       "  <thead>\n",
       "    <tr style=\"text-align: right;\">\n",
       "      <th></th>\n",
       "      <th>order_id</th>\n",
       "      <th>user_id</th>\n",
       "      <th>product_id</th>\n",
       "      <th>order_date</th>\n",
       "      <th>quantity</th>\n",
       "      <th>discount_ratio</th>\n",
       "      <th>pay_date</th>\n",
       "    </tr>\n",
       "  </thead>\n",
       "  <tbody>\n",
       "    <tr>\n",
       "      <th>0</th>\n",
       "      <td>1.0</td>\n",
       "      <td>960.0</td>\n",
       "      <td>17.0</td>\n",
       "      <td>2023-02-07</td>\n",
       "      <td>6.0</td>\n",
       "      <td>0.004746</td>\n",
       "      <td>2023-02-09</td>\n",
       "    </tr>\n",
       "    <tr>\n",
       "      <th>1</th>\n",
       "      <td>6.0</td>\n",
       "      <td>1447.0</td>\n",
       "      <td>6.0</td>\n",
       "      <td>2023-01-12</td>\n",
       "      <td>6.0</td>\n",
       "      <td>0.008240</td>\n",
       "      <td>2023-01-14</td>\n",
       "    </tr>\n",
       "    <tr>\n",
       "      <th>2</th>\n",
       "      <td>14.0</td>\n",
       "      <td>1325.0</td>\n",
       "      <td>17.0</td>\n",
       "      <td>2023-02-15</td>\n",
       "      <td>6.0</td>\n",
       "      <td>0.039391</td>\n",
       "      <td>NaN</td>\n",
       "    </tr>\n",
       "  </tbody>\n",
       "</table>\n",
       "</div>"
      ],
      "text/plain": [
       "   order_id  user_id  product_id  order_date  quantity  discount_ratio  \\\n",
       "0       1.0    960.0        17.0  2023-02-07       6.0        0.004746   \n",
       "1       6.0   1447.0         6.0  2023-01-12       6.0        0.008240   \n",
       "2      14.0   1325.0        17.0  2023-02-15       6.0        0.039391   \n",
       "\n",
       "     pay_date  \n",
       "0  2023-02-09  \n",
       "1  2023-01-14  \n",
       "2         NaN  "
      ]
     },
     "metadata": {},
     "output_type": "display_data"
    },
    {
     "name": "stdout",
     "output_type": "stream",
     "text": [
      "<class 'pandas.core.frame.DataFrame'>\n",
      "RangeIndex: 5000 entries, 0 to 4999\n",
      "Data columns (total 7 columns):\n",
      " #   Column          Non-Null Count  Dtype  \n",
      "---  ------          --------------  -----  \n",
      " 0   order_id        5000 non-null   float64\n",
      " 1   user_id         5000 non-null   float64\n",
      " 2   product_id      5000 non-null   float64\n",
      " 3   order_date      5000 non-null   object \n",
      " 4   quantity        5000 non-null   float64\n",
      " 5   discount_ratio  5000 non-null   float64\n",
      " 6   pay_date        3738 non-null   object \n",
      "dtypes: float64(5), object(2)\n",
      "memory usage: 273.6+ KB\n"
     ]
    },
    {
     "data": {
      "text/plain": [
       "None"
      ]
     },
     "metadata": {},
     "output_type": "display_data"
    }
   ],
   "source": [
    "display(order.head(3))\n",
    "display(order.info())"
   ]
  },
  {
   "cell_type": "code",
   "execution_count": 32,
   "metadata": {},
   "outputs": [],
   "source": [
    "order['order_id'] = order['order_id'].astype(int)\n",
    "order['user_id'] = order['user_id'].astype(int)\n",
    "order['product_id'] = order['product_id'].astype(int)\n",
    "\n",
    "order['order_date'] = pd.to_datetime(order['order_date'])\n",
    "order['pay_date'] = pd.to_datetime(order['pay_date'])"
   ]
  },
  {
   "cell_type": "markdown",
   "metadata": {},
   "source": [
    "(3) product"
   ]
  },
  {
   "cell_type": "code",
   "execution_count": 21,
   "metadata": {},
   "outputs": [
    {
     "data": {
      "text/html": [
       "<div>\n",
       "<style scoped>\n",
       "    .dataframe tbody tr th:only-of-type {\n",
       "        vertical-align: middle;\n",
       "    }\n",
       "\n",
       "    .dataframe tbody tr th {\n",
       "        vertical-align: top;\n",
       "    }\n",
       "\n",
       "    .dataframe thead th {\n",
       "        text-align: right;\n",
       "    }\n",
       "</style>\n",
       "<table border=\"1\" class=\"dataframe\">\n",
       "  <thead>\n",
       "    <tr style=\"text-align: right;\">\n",
       "      <th></th>\n",
       "      <th>id</th>\n",
       "      <th>category</th>\n",
       "      <th>cost</th>\n",
       "      <th>price</th>\n",
       "    </tr>\n",
       "  </thead>\n",
       "  <tbody>\n",
       "    <tr>\n",
       "      <th>0</th>\n",
       "      <td>1</td>\n",
       "      <td>b</td>\n",
       "      <td>23</td>\n",
       "      <td>48</td>\n",
       "    </tr>\n",
       "    <tr>\n",
       "      <th>1</th>\n",
       "      <td>2</td>\n",
       "      <td>e</td>\n",
       "      <td>19</td>\n",
       "      <td>40</td>\n",
       "    </tr>\n",
       "    <tr>\n",
       "      <th>2</th>\n",
       "      <td>3</td>\n",
       "      <td>a</td>\n",
       "      <td>17</td>\n",
       "      <td>35</td>\n",
       "    </tr>\n",
       "  </tbody>\n",
       "</table>\n",
       "</div>"
      ],
      "text/plain": [
       "   id category  cost  price\n",
       "0   1        b    23     48\n",
       "1   2        e    19     40\n",
       "2   3        a    17     35"
      ]
     },
     "metadata": {},
     "output_type": "display_data"
    },
    {
     "name": "stdout",
     "output_type": "stream",
     "text": [
      "<class 'pandas.core.frame.DataFrame'>\n",
      "RangeIndex: 20 entries, 0 to 19\n",
      "Data columns (total 4 columns):\n",
      " #   Column    Non-Null Count  Dtype \n",
      "---  ------    --------------  ----- \n",
      " 0   id        20 non-null     int64 \n",
      " 1   category  20 non-null     object\n",
      " 2   cost      20 non-null     int64 \n",
      " 3   price     20 non-null     int64 \n",
      "dtypes: int64(3), object(1)\n",
      "memory usage: 772.0+ bytes\n"
     ]
    },
    {
     "data": {
      "text/plain": [
       "None"
      ]
     },
     "metadata": {},
     "output_type": "display_data"
    }
   ],
   "source": [
    "display(product.head(3))\n",
    "display(product.info())"
   ]
  },
  {
   "cell_type": "markdown",
   "metadata": {},
   "source": [
    "(4) purchase"
   ]
  },
  {
   "cell_type": "code",
   "execution_count": 23,
   "metadata": {},
   "outputs": [
    {
     "data": {
      "text/html": [
       "<div>\n",
       "<style scoped>\n",
       "    .dataframe tbody tr th:only-of-type {\n",
       "        vertical-align: middle;\n",
       "    }\n",
       "\n",
       "    .dataframe tbody tr th {\n",
       "        vertical-align: top;\n",
       "    }\n",
       "\n",
       "    .dataframe thead th {\n",
       "        text-align: right;\n",
       "    }\n",
       "</style>\n",
       "<table border=\"1\" class=\"dataframe\">\n",
       "  <thead>\n",
       "    <tr style=\"text-align: right;\">\n",
       "      <th></th>\n",
       "      <th>user_id</th>\n",
       "      <th>order_id</th>\n",
       "      <th>timestamp</th>\n",
       "    </tr>\n",
       "  </thead>\n",
       "  <tbody>\n",
       "    <tr>\n",
       "      <th>0</th>\n",
       "      <td>960.0</td>\n",
       "      <td>1.0</td>\n",
       "      <td>2023-02-07 18:13:21</td>\n",
       "    </tr>\n",
       "    <tr>\n",
       "      <th>1</th>\n",
       "      <td>1447.0</td>\n",
       "      <td>6.0</td>\n",
       "      <td>2023-01-12 13:51:32</td>\n",
       "    </tr>\n",
       "    <tr>\n",
       "      <th>2</th>\n",
       "      <td>1325.0</td>\n",
       "      <td>14.0</td>\n",
       "      <td>2023-02-15 20:14:53</td>\n",
       "    </tr>\n",
       "  </tbody>\n",
       "</table>\n",
       "</div>"
      ],
      "text/plain": [
       "   user_id  order_id            timestamp\n",
       "0    960.0       1.0  2023-02-07 18:13:21\n",
       "1   1447.0       6.0  2023-01-12 13:51:32\n",
       "2   1325.0      14.0  2023-02-15 20:14:53"
      ]
     },
     "metadata": {},
     "output_type": "display_data"
    },
    {
     "name": "stdout",
     "output_type": "stream",
     "text": [
      "<class 'pandas.core.frame.DataFrame'>\n",
      "RangeIndex: 4500 entries, 0 to 4499\n",
      "Data columns (total 3 columns):\n",
      " #   Column     Non-Null Count  Dtype  \n",
      "---  ------     --------------  -----  \n",
      " 0   user_id    4500 non-null   float64\n",
      " 1   order_id   4500 non-null   float64\n",
      " 2   timestamp  4500 non-null   object \n",
      "dtypes: float64(2), object(1)\n",
      "memory usage: 105.6+ KB\n"
     ]
    },
    {
     "data": {
      "text/plain": [
       "None"
      ]
     },
     "metadata": {},
     "output_type": "display_data"
    }
   ],
   "source": [
    "display(purchase.head(3))\n",
    "display(purchase.info())"
   ]
  },
  {
   "cell_type": "code",
   "execution_count": 24,
   "metadata": {},
   "outputs": [],
   "source": [
    "purchase['user_id'] = purchase['user_id'].astype(int)\n",
    "purchase['order_id'] = purchase['order_id'].astype(int)\n",
    "purchase['timestamp'] = pd.to_datetime(purchase['timestamp'])"
   ]
  },
  {
   "cell_type": "markdown",
   "metadata": {},
   "source": [
    "(5) visit"
   ]
  },
  {
   "cell_type": "code",
   "execution_count": 27,
   "metadata": {},
   "outputs": [
    {
     "data": {
      "text/html": [
       "<div>\n",
       "<style scoped>\n",
       "    .dataframe tbody tr th:only-of-type {\n",
       "        vertical-align: middle;\n",
       "    }\n",
       "\n",
       "    .dataframe tbody tr th {\n",
       "        vertical-align: top;\n",
       "    }\n",
       "\n",
       "    .dataframe thead th {\n",
       "        text-align: right;\n",
       "    }\n",
       "</style>\n",
       "<table border=\"1\" class=\"dataframe\">\n",
       "  <thead>\n",
       "    <tr style=\"text-align: right;\">\n",
       "      <th></th>\n",
       "      <th>user_id</th>\n",
       "      <th>source</th>\n",
       "      <th>campaign</th>\n",
       "      <th>timestamp</th>\n",
       "    </tr>\n",
       "  </thead>\n",
       "  <tbody>\n",
       "    <tr>\n",
       "      <th>0</th>\n",
       "      <td>1017.0</td>\n",
       "      <td>NaN</td>\n",
       "      <td>NaN</td>\n",
       "      <td>2022-12-15 13:06:36.361808000</td>\n",
       "    </tr>\n",
       "    <tr>\n",
       "      <th>1</th>\n",
       "      <td>1017.0</td>\n",
       "      <td>NaN</td>\n",
       "      <td>NaN</td>\n",
       "      <td>2023-02-20 02:46:59.416083200</td>\n",
       "    </tr>\n",
       "    <tr>\n",
       "      <th>2</th>\n",
       "      <td>1017.0</td>\n",
       "      <td>b</td>\n",
       "      <td>campaign_8</td>\n",
       "      <td>2023-02-08 13:10:49.026771200</td>\n",
       "    </tr>\n",
       "  </tbody>\n",
       "</table>\n",
       "</div>"
      ],
      "text/plain": [
       "   user_id source    campaign                      timestamp\n",
       "0   1017.0    NaN         NaN  2022-12-15 13:06:36.361808000\n",
       "1   1017.0    NaN         NaN  2023-02-20 02:46:59.416083200\n",
       "2   1017.0      b  campaign_8  2023-02-08 13:10:49.026771200"
      ]
     },
     "metadata": {},
     "output_type": "display_data"
    },
    {
     "name": "stdout",
     "output_type": "stream",
     "text": [
      "<class 'pandas.core.frame.DataFrame'>\n",
      "RangeIndex: 2219 entries, 0 to 2218\n",
      "Data columns (total 4 columns):\n",
      " #   Column     Non-Null Count  Dtype  \n",
      "---  ------     --------------  -----  \n",
      " 0   user_id    2219 non-null   float64\n",
      " 1   source     1125 non-null   object \n",
      " 2   campaign   1125 non-null   object \n",
      " 3   timestamp  2219 non-null   object \n",
      "dtypes: float64(1), object(3)\n",
      "memory usage: 69.5+ KB\n"
     ]
    },
    {
     "data": {
      "text/plain": [
       "None"
      ]
     },
     "metadata": {},
     "output_type": "display_data"
    }
   ],
   "source": [
    "display(visit.head(3))\n",
    "display(visit.info())"
   ]
  },
  {
   "cell_type": "code",
   "execution_count": 28,
   "metadata": {},
   "outputs": [],
   "source": [
    "visit['user_id'] = visit['user_id'].astype(int)\n",
    "visit['timestamp'] = pd.to_datetime(visit['timestamp'])"
   ]
  },
  {
   "cell_type": "markdown",
   "metadata": {},
   "source": [
    "### 전처리"
   ]
  },
  {
   "cell_type": "markdown",
   "metadata": {},
   "source": [
    "(1) order와 product를 merge"
   ]
  },
  {
   "cell_type": "code",
   "execution_count": 33,
   "metadata": {},
   "outputs": [
    {
     "data": {
      "text/html": [
       "<div>\n",
       "<style scoped>\n",
       "    .dataframe tbody tr th:only-of-type {\n",
       "        vertical-align: middle;\n",
       "    }\n",
       "\n",
       "    .dataframe tbody tr th {\n",
       "        vertical-align: top;\n",
       "    }\n",
       "\n",
       "    .dataframe thead th {\n",
       "        text-align: right;\n",
       "    }\n",
       "</style>\n",
       "<table border=\"1\" class=\"dataframe\">\n",
       "  <thead>\n",
       "    <tr style=\"text-align: right;\">\n",
       "      <th></th>\n",
       "      <th>order_id</th>\n",
       "      <th>user_id</th>\n",
       "      <th>product_id</th>\n",
       "      <th>order_date</th>\n",
       "      <th>quantity</th>\n",
       "      <th>discount_ratio</th>\n",
       "      <th>pay_date</th>\n",
       "    </tr>\n",
       "  </thead>\n",
       "  <tbody>\n",
       "    <tr>\n",
       "      <th>0</th>\n",
       "      <td>1</td>\n",
       "      <td>960</td>\n",
       "      <td>17</td>\n",
       "      <td>2023-02-07</td>\n",
       "      <td>6.0</td>\n",
       "      <td>0.004746</td>\n",
       "      <td>2023-02-09</td>\n",
       "    </tr>\n",
       "    <tr>\n",
       "      <th>1</th>\n",
       "      <td>6</td>\n",
       "      <td>1447</td>\n",
       "      <td>6</td>\n",
       "      <td>2023-01-12</td>\n",
       "      <td>6.0</td>\n",
       "      <td>0.008240</td>\n",
       "      <td>2023-01-14</td>\n",
       "    </tr>\n",
       "    <tr>\n",
       "      <th>2</th>\n",
       "      <td>14</td>\n",
       "      <td>1325</td>\n",
       "      <td>17</td>\n",
       "      <td>2023-02-15</td>\n",
       "      <td>6.0</td>\n",
       "      <td>0.039391</td>\n",
       "      <td>NaT</td>\n",
       "    </tr>\n",
       "  </tbody>\n",
       "</table>\n",
       "</div>"
      ],
      "text/plain": [
       "   order_id  user_id  product_id order_date  quantity  discount_ratio  \\\n",
       "0         1      960          17 2023-02-07       6.0        0.004746   \n",
       "1         6     1447           6 2023-01-12       6.0        0.008240   \n",
       "2        14     1325          17 2023-02-15       6.0        0.039391   \n",
       "\n",
       "    pay_date  \n",
       "0 2023-02-09  \n",
       "1 2023-01-14  \n",
       "2        NaT  "
      ]
     },
     "metadata": {},
     "output_type": "display_data"
    },
    {
     "data": {
      "text/html": [
       "<div>\n",
       "<style scoped>\n",
       "    .dataframe tbody tr th:only-of-type {\n",
       "        vertical-align: middle;\n",
       "    }\n",
       "\n",
       "    .dataframe tbody tr th {\n",
       "        vertical-align: top;\n",
       "    }\n",
       "\n",
       "    .dataframe thead th {\n",
       "        text-align: right;\n",
       "    }\n",
       "</style>\n",
       "<table border=\"1\" class=\"dataframe\">\n",
       "  <thead>\n",
       "    <tr style=\"text-align: right;\">\n",
       "      <th></th>\n",
       "      <th>id</th>\n",
       "      <th>category</th>\n",
       "      <th>cost</th>\n",
       "      <th>price</th>\n",
       "    </tr>\n",
       "  </thead>\n",
       "  <tbody>\n",
       "    <tr>\n",
       "      <th>0</th>\n",
       "      <td>1</td>\n",
       "      <td>b</td>\n",
       "      <td>23</td>\n",
       "      <td>48</td>\n",
       "    </tr>\n",
       "    <tr>\n",
       "      <th>1</th>\n",
       "      <td>2</td>\n",
       "      <td>e</td>\n",
       "      <td>19</td>\n",
       "      <td>40</td>\n",
       "    </tr>\n",
       "    <tr>\n",
       "      <th>2</th>\n",
       "      <td>3</td>\n",
       "      <td>a</td>\n",
       "      <td>17</td>\n",
       "      <td>35</td>\n",
       "    </tr>\n",
       "  </tbody>\n",
       "</table>\n",
       "</div>"
      ],
      "text/plain": [
       "   id category  cost  price\n",
       "0   1        b    23     48\n",
       "1   2        e    19     40\n",
       "2   3        a    17     35"
      ]
     },
     "metadata": {},
     "output_type": "display_data"
    }
   ],
   "source": [
    "display(order.head(3))\n",
    "display(product.head(3))"
   ]
  },
  {
   "cell_type": "code",
   "execution_count": 34,
   "metadata": {},
   "outputs": [
    {
     "data": {
      "text/html": [
       "<div>\n",
       "<style scoped>\n",
       "    .dataframe tbody tr th:only-of-type {\n",
       "        vertical-align: middle;\n",
       "    }\n",
       "\n",
       "    .dataframe tbody tr th {\n",
       "        vertical-align: top;\n",
       "    }\n",
       "\n",
       "    .dataframe thead th {\n",
       "        text-align: right;\n",
       "    }\n",
       "</style>\n",
       "<table border=\"1\" class=\"dataframe\">\n",
       "  <thead>\n",
       "    <tr style=\"text-align: right;\">\n",
       "      <th></th>\n",
       "      <th>order_id</th>\n",
       "      <th>user_id</th>\n",
       "      <th>product_id</th>\n",
       "      <th>order_date</th>\n",
       "      <th>quantity</th>\n",
       "      <th>discount_ratio</th>\n",
       "      <th>pay_date</th>\n",
       "      <th>id</th>\n",
       "      <th>category</th>\n",
       "      <th>cost</th>\n",
       "      <th>price</th>\n",
       "    </tr>\n",
       "  </thead>\n",
       "  <tbody>\n",
       "    <tr>\n",
       "      <th>0</th>\n",
       "      <td>1</td>\n",
       "      <td>960</td>\n",
       "      <td>17</td>\n",
       "      <td>2023-02-07</td>\n",
       "      <td>6.0</td>\n",
       "      <td>0.004746</td>\n",
       "      <td>2023-02-09</td>\n",
       "      <td>17</td>\n",
       "      <td>b</td>\n",
       "      <td>13</td>\n",
       "      <td>21</td>\n",
       "    </tr>\n",
       "    <tr>\n",
       "      <th>1</th>\n",
       "      <td>6</td>\n",
       "      <td>1447</td>\n",
       "      <td>6</td>\n",
       "      <td>2023-01-12</td>\n",
       "      <td>6.0</td>\n",
       "      <td>0.008240</td>\n",
       "      <td>2023-01-14</td>\n",
       "      <td>6</td>\n",
       "      <td>a</td>\n",
       "      <td>10</td>\n",
       "      <td>33</td>\n",
       "    </tr>\n",
       "    <tr>\n",
       "      <th>2</th>\n",
       "      <td>14</td>\n",
       "      <td>1325</td>\n",
       "      <td>17</td>\n",
       "      <td>2023-02-15</td>\n",
       "      <td>6.0</td>\n",
       "      <td>0.039391</td>\n",
       "      <td>NaT</td>\n",
       "      <td>17</td>\n",
       "      <td>b</td>\n",
       "      <td>13</td>\n",
       "      <td>21</td>\n",
       "    </tr>\n",
       "    <tr>\n",
       "      <th>3</th>\n",
       "      <td>17</td>\n",
       "      <td>102</td>\n",
       "      <td>1</td>\n",
       "      <td>2023-02-20</td>\n",
       "      <td>6.0</td>\n",
       "      <td>0.007944</td>\n",
       "      <td>2023-02-26</td>\n",
       "      <td>1</td>\n",
       "      <td>b</td>\n",
       "      <td>23</td>\n",
       "      <td>48</td>\n",
       "    </tr>\n",
       "    <tr>\n",
       "      <th>4</th>\n",
       "      <td>38</td>\n",
       "      <td>94</td>\n",
       "      <td>8</td>\n",
       "      <td>2023-02-11</td>\n",
       "      <td>6.0</td>\n",
       "      <td>0.014037</td>\n",
       "      <td>2023-02-13</td>\n",
       "      <td>8</td>\n",
       "      <td>b</td>\n",
       "      <td>18</td>\n",
       "      <td>23</td>\n",
       "    </tr>\n",
       "  </tbody>\n",
       "</table>\n",
       "</div>"
      ],
      "text/plain": [
       "   order_id  user_id  product_id order_date  quantity  discount_ratio  \\\n",
       "0         1      960          17 2023-02-07       6.0        0.004746   \n",
       "1         6     1447           6 2023-01-12       6.0        0.008240   \n",
       "2        14     1325          17 2023-02-15       6.0        0.039391   \n",
       "3        17      102           1 2023-02-20       6.0        0.007944   \n",
       "4        38       94           8 2023-02-11       6.0        0.014037   \n",
       "\n",
       "    pay_date  id category  cost  price  \n",
       "0 2023-02-09  17        b    13     21  \n",
       "1 2023-01-14   6        a    10     33  \n",
       "2        NaT  17        b    13     21  \n",
       "3 2023-02-26   1        b    23     48  \n",
       "4 2023-02-13   8        b    18     23  "
      ]
     },
     "execution_count": 34,
     "metadata": {},
     "output_type": "execute_result"
    }
   ],
   "source": [
    "# 주문 정보(order)에 제품 정보(product)를 연결(merge)\n",
    "order_mg = pd.merge(order, product\n",
    "                    , left_on = 'product_id'\n",
    "                    , right_on = 'id'\n",
    "                    , how = 'left'\n",
    "                    )\n",
    "\n",
    "# merge 결과 확인\n",
    "order_mg.head()"
   ]
  },
  {
   "cell_type": "code",
   "execution_count": 35,
   "metadata": {},
   "outputs": [
    {
     "data": {
      "text/html": [
       "<div>\n",
       "<style scoped>\n",
       "    .dataframe tbody tr th:only-of-type {\n",
       "        vertical-align: middle;\n",
       "    }\n",
       "\n",
       "    .dataframe tbody tr th {\n",
       "        vertical-align: top;\n",
       "    }\n",
       "\n",
       "    .dataframe thead th {\n",
       "        text-align: right;\n",
       "    }\n",
       "</style>\n",
       "<table border=\"1\" class=\"dataframe\">\n",
       "  <thead>\n",
       "    <tr style=\"text-align: right;\">\n",
       "      <th></th>\n",
       "      <th>order_id</th>\n",
       "      <th>user_id</th>\n",
       "      <th>product_id</th>\n",
       "      <th>order_date</th>\n",
       "      <th>quantity</th>\n",
       "      <th>discount_ratio</th>\n",
       "      <th>pay_date</th>\n",
       "      <th>id</th>\n",
       "      <th>category</th>\n",
       "      <th>cost</th>\n",
       "      <th>price</th>\n",
       "      <th>total_revenue</th>\n",
       "      <th>total_disc_amt</th>\n",
       "      <th>total_cost</th>\n",
       "      <th>total_profit</th>\n",
       "    </tr>\n",
       "  </thead>\n",
       "  <tbody>\n",
       "    <tr>\n",
       "      <th>0</th>\n",
       "      <td>1</td>\n",
       "      <td>960</td>\n",
       "      <td>17</td>\n",
       "      <td>2023-02-07</td>\n",
       "      <td>6.0</td>\n",
       "      <td>0.004746</td>\n",
       "      <td>2023-02-09</td>\n",
       "      <td>17</td>\n",
       "      <td>b</td>\n",
       "      <td>13</td>\n",
       "      <td>21</td>\n",
       "      <td>126.0</td>\n",
       "      <td>0.598023</td>\n",
       "      <td>78.0</td>\n",
       "      <td>47.401977</td>\n",
       "    </tr>\n",
       "    <tr>\n",
       "      <th>1</th>\n",
       "      <td>6</td>\n",
       "      <td>1447</td>\n",
       "      <td>6</td>\n",
       "      <td>2023-01-12</td>\n",
       "      <td>6.0</td>\n",
       "      <td>0.008240</td>\n",
       "      <td>2023-01-14</td>\n",
       "      <td>6</td>\n",
       "      <td>a</td>\n",
       "      <td>10</td>\n",
       "      <td>33</td>\n",
       "      <td>198.0</td>\n",
       "      <td>1.631487</td>\n",
       "      <td>60.0</td>\n",
       "      <td>136.368513</td>\n",
       "    </tr>\n",
       "    <tr>\n",
       "      <th>2</th>\n",
       "      <td>14</td>\n",
       "      <td>1325</td>\n",
       "      <td>17</td>\n",
       "      <td>2023-02-15</td>\n",
       "      <td>6.0</td>\n",
       "      <td>0.039391</td>\n",
       "      <td>NaT</td>\n",
       "      <td>17</td>\n",
       "      <td>b</td>\n",
       "      <td>13</td>\n",
       "      <td>21</td>\n",
       "      <td>126.0</td>\n",
       "      <td>4.963298</td>\n",
       "      <td>78.0</td>\n",
       "      <td>43.036702</td>\n",
       "    </tr>\n",
       "    <tr>\n",
       "      <th>3</th>\n",
       "      <td>17</td>\n",
       "      <td>102</td>\n",
       "      <td>1</td>\n",
       "      <td>2023-02-20</td>\n",
       "      <td>6.0</td>\n",
       "      <td>0.007944</td>\n",
       "      <td>2023-02-26</td>\n",
       "      <td>1</td>\n",
       "      <td>b</td>\n",
       "      <td>23</td>\n",
       "      <td>48</td>\n",
       "      <td>288.0</td>\n",
       "      <td>2.287944</td>\n",
       "      <td>138.0</td>\n",
       "      <td>147.712056</td>\n",
       "    </tr>\n",
       "    <tr>\n",
       "      <th>4</th>\n",
       "      <td>38</td>\n",
       "      <td>94</td>\n",
       "      <td>8</td>\n",
       "      <td>2023-02-11</td>\n",
       "      <td>6.0</td>\n",
       "      <td>0.014037</td>\n",
       "      <td>2023-02-13</td>\n",
       "      <td>8</td>\n",
       "      <td>b</td>\n",
       "      <td>18</td>\n",
       "      <td>23</td>\n",
       "      <td>138.0</td>\n",
       "      <td>1.937102</td>\n",
       "      <td>108.0</td>\n",
       "      <td>28.062898</td>\n",
       "    </tr>\n",
       "  </tbody>\n",
       "</table>\n",
       "</div>"
      ],
      "text/plain": [
       "   order_id  user_id  product_id order_date  quantity  discount_ratio  \\\n",
       "0         1      960          17 2023-02-07       6.0        0.004746   \n",
       "1         6     1447           6 2023-01-12       6.0        0.008240   \n",
       "2        14     1325          17 2023-02-15       6.0        0.039391   \n",
       "3        17      102           1 2023-02-20       6.0        0.007944   \n",
       "4        38       94           8 2023-02-11       6.0        0.014037   \n",
       "\n",
       "    pay_date  id category  cost  price  total_revenue  total_disc_amt  \\\n",
       "0 2023-02-09  17        b    13     21          126.0        0.598023   \n",
       "1 2023-01-14   6        a    10     33          198.0        1.631487   \n",
       "2        NaT  17        b    13     21          126.0        4.963298   \n",
       "3 2023-02-26   1        b    23     48          288.0        2.287944   \n",
       "4 2023-02-13   8        b    18     23          138.0        1.937102   \n",
       "\n",
       "   total_cost  total_profit  \n",
       "0        78.0     47.401977  \n",
       "1        60.0    136.368513  \n",
       "2        78.0     43.036702  \n",
       "3       138.0    147.712056  \n",
       "4       108.0     28.062898  "
      ]
     },
     "execution_count": 35,
     "metadata": {},
     "output_type": "execute_result"
    }
   ],
   "source": [
    "# total revenue\n",
    "order_mg['total_revenue'] = order_mg['price'] * order_mg['quantity']\n",
    "\n",
    "# total_disc_amt\n",
    "order_mg['total_disc_amt'] = order_mg['total_revenue'] * order_mg['discount_ratio']\n",
    "\n",
    "# total_cost\n",
    "order_mg['total_cost'] = order_mg['cost'] * order_mg['quantity']\n",
    "\n",
    "# total_profit\n",
    "order_mg['total_profit'] = order_mg['total_revenue'] - order_mg['total_disc_amt'] - order_mg['total_cost']\n",
    "\n",
    "# 계산 결과 확인\n",
    "order_mg.head()"
   ]
  },
  {
   "cell_type": "code",
   "execution_count": 111,
   "metadata": {},
   "outputs": [],
   "source": [
    "# 실제 결제가 이루어진 경우의 매출만 별도 컬럼으로 추출\n",
    "# (pay_date가 NaT가 아닌 경우)\n",
    "order_mg['realized_revenue'] = np.where(order_mg['pay_date'].isna(), 0, order_mg['total_revenue'])"
   ]
  },
  {
   "cell_type": "markdown",
   "metadata": {},
   "source": [
    "### Last Click Attribution"
   ]
  },
  {
   "cell_type": "markdown",
   "metadata": {},
   "source": [
    "(1) purchase와 visit을 merge"
   ]
  },
  {
   "cell_type": "code",
   "execution_count": 37,
   "metadata": {},
   "outputs": [],
   "source": [
    "# campaign 정보가 있는 방문 이벤트 필터링\n",
    "con = ~visit['campaign'].isna()\n",
    "visit = visit[con]"
   ]
  },
  {
   "cell_type": "code",
   "execution_count": 40,
   "metadata": {},
   "outputs": [
    {
     "data": {
      "text/html": [
       "<div>\n",
       "<style scoped>\n",
       "    .dataframe tbody tr th:only-of-type {\n",
       "        vertical-align: middle;\n",
       "    }\n",
       "\n",
       "    .dataframe tbody tr th {\n",
       "        vertical-align: top;\n",
       "    }\n",
       "\n",
       "    .dataframe thead th {\n",
       "        text-align: right;\n",
       "    }\n",
       "</style>\n",
       "<table border=\"1\" class=\"dataframe\">\n",
       "  <thead>\n",
       "    <tr style=\"text-align: right;\">\n",
       "      <th></th>\n",
       "      <th>user_id</th>\n",
       "      <th>order_id</th>\n",
       "      <th>timestamp</th>\n",
       "    </tr>\n",
       "  </thead>\n",
       "  <tbody>\n",
       "    <tr>\n",
       "      <th>0</th>\n",
       "      <td>960</td>\n",
       "      <td>1</td>\n",
       "      <td>2023-02-07 18:13:21</td>\n",
       "    </tr>\n",
       "    <tr>\n",
       "      <th>1</th>\n",
       "      <td>1447</td>\n",
       "      <td>6</td>\n",
       "      <td>2023-01-12 13:51:32</td>\n",
       "    </tr>\n",
       "    <tr>\n",
       "      <th>2</th>\n",
       "      <td>1325</td>\n",
       "      <td>14</td>\n",
       "      <td>2023-02-15 20:14:53</td>\n",
       "    </tr>\n",
       "    <tr>\n",
       "      <th>3</th>\n",
       "      <td>102</td>\n",
       "      <td>17</td>\n",
       "      <td>2023-02-20 12:00:16</td>\n",
       "    </tr>\n",
       "    <tr>\n",
       "      <th>4</th>\n",
       "      <td>94</td>\n",
       "      <td>38</td>\n",
       "      <td>2023-02-11 16:14:15</td>\n",
       "    </tr>\n",
       "  </tbody>\n",
       "</table>\n",
       "</div>"
      ],
      "text/plain": [
       "   user_id  order_id           timestamp\n",
       "0      960         1 2023-02-07 18:13:21\n",
       "1     1447         6 2023-01-12 13:51:32\n",
       "2     1325        14 2023-02-15 20:14:53\n",
       "3      102        17 2023-02-20 12:00:16\n",
       "4       94        38 2023-02-11 16:14:15"
      ]
     },
     "metadata": {},
     "output_type": "display_data"
    },
    {
     "data": {
      "text/html": [
       "<div>\n",
       "<style scoped>\n",
       "    .dataframe tbody tr th:only-of-type {\n",
       "        vertical-align: middle;\n",
       "    }\n",
       "\n",
       "    .dataframe tbody tr th {\n",
       "        vertical-align: top;\n",
       "    }\n",
       "\n",
       "    .dataframe thead th {\n",
       "        text-align: right;\n",
       "    }\n",
       "</style>\n",
       "<table border=\"1\" class=\"dataframe\">\n",
       "  <thead>\n",
       "    <tr style=\"text-align: right;\">\n",
       "      <th></th>\n",
       "      <th>user_id</th>\n",
       "      <th>source</th>\n",
       "      <th>campaign</th>\n",
       "      <th>timestamp</th>\n",
       "    </tr>\n",
       "  </thead>\n",
       "  <tbody>\n",
       "    <tr>\n",
       "      <th>2</th>\n",
       "      <td>1017</td>\n",
       "      <td>b</td>\n",
       "      <td>campaign_8</td>\n",
       "      <td>2023-02-08 13:10:49.026771200</td>\n",
       "    </tr>\n",
       "    <tr>\n",
       "      <th>3</th>\n",
       "      <td>1398</td>\n",
       "      <td>b</td>\n",
       "      <td>campaign_6</td>\n",
       "      <td>2023-01-07 06:37:27.756224000</td>\n",
       "    </tr>\n",
       "    <tr>\n",
       "      <th>6</th>\n",
       "      <td>707</td>\n",
       "      <td>b</td>\n",
       "      <td>campaign_5</td>\n",
       "      <td>2023-01-21 10:51:52.800867200</td>\n",
       "    </tr>\n",
       "    <tr>\n",
       "      <th>10</th>\n",
       "      <td>1285</td>\n",
       "      <td>a</td>\n",
       "      <td>campaign_3</td>\n",
       "      <td>2023-01-06 11:49:36.565366400</td>\n",
       "    </tr>\n",
       "    <tr>\n",
       "      <th>18</th>\n",
       "      <td>529</td>\n",
       "      <td>b</td>\n",
       "      <td>campaign_7</td>\n",
       "      <td>2023-01-28 12:51:38.503680000</td>\n",
       "    </tr>\n",
       "  </tbody>\n",
       "</table>\n",
       "</div>"
      ],
      "text/plain": [
       "    user_id source    campaign                     timestamp\n",
       "2      1017      b  campaign_8 2023-02-08 13:10:49.026771200\n",
       "3      1398      b  campaign_6 2023-01-07 06:37:27.756224000\n",
       "6       707      b  campaign_5 2023-01-21 10:51:52.800867200\n",
       "10     1285      a  campaign_3 2023-01-06 11:49:36.565366400\n",
       "18      529      b  campaign_7 2023-01-28 12:51:38.503680000"
      ]
     },
     "metadata": {},
     "output_type": "display_data"
    }
   ],
   "source": [
    "display(purchase.head())\n",
    "display(visit.head())"
   ]
  },
  {
   "cell_type": "code",
   "execution_count": 42,
   "metadata": {},
   "outputs": [
    {
     "data": {
      "text/html": [
       "<div>\n",
       "<style scoped>\n",
       "    .dataframe tbody tr th:only-of-type {\n",
       "        vertical-align: middle;\n",
       "    }\n",
       "\n",
       "    .dataframe tbody tr th {\n",
       "        vertical-align: top;\n",
       "    }\n",
       "\n",
       "    .dataframe thead th {\n",
       "        text-align: right;\n",
       "    }\n",
       "</style>\n",
       "<table border=\"1\" class=\"dataframe\">\n",
       "  <thead>\n",
       "    <tr style=\"text-align: right;\">\n",
       "      <th></th>\n",
       "      <th>user_id_x</th>\n",
       "      <th>order_id</th>\n",
       "      <th>timestamp_x</th>\n",
       "      <th>user_id_y</th>\n",
       "      <th>source</th>\n",
       "      <th>campaign</th>\n",
       "      <th>timestamp_y</th>\n",
       "    </tr>\n",
       "  </thead>\n",
       "  <tbody>\n",
       "    <tr>\n",
       "      <th>0</th>\n",
       "      <td>960</td>\n",
       "      <td>1</td>\n",
       "      <td>2023-02-07 18:13:21</td>\n",
       "      <td>1017</td>\n",
       "      <td>b</td>\n",
       "      <td>campaign_8</td>\n",
       "      <td>2023-02-08 13:10:49.026771200</td>\n",
       "    </tr>\n",
       "    <tr>\n",
       "      <th>1</th>\n",
       "      <td>960</td>\n",
       "      <td>1</td>\n",
       "      <td>2023-02-07 18:13:21</td>\n",
       "      <td>1398</td>\n",
       "      <td>b</td>\n",
       "      <td>campaign_6</td>\n",
       "      <td>2023-01-07 06:37:27.756224000</td>\n",
       "    </tr>\n",
       "    <tr>\n",
       "      <th>2</th>\n",
       "      <td>960</td>\n",
       "      <td>1</td>\n",
       "      <td>2023-02-07 18:13:21</td>\n",
       "      <td>707</td>\n",
       "      <td>b</td>\n",
       "      <td>campaign_5</td>\n",
       "      <td>2023-01-21 10:51:52.800867200</td>\n",
       "    </tr>\n",
       "    <tr>\n",
       "      <th>3</th>\n",
       "      <td>960</td>\n",
       "      <td>1</td>\n",
       "      <td>2023-02-07 18:13:21</td>\n",
       "      <td>1285</td>\n",
       "      <td>a</td>\n",
       "      <td>campaign_3</td>\n",
       "      <td>2023-01-06 11:49:36.565366400</td>\n",
       "    </tr>\n",
       "    <tr>\n",
       "      <th>4</th>\n",
       "      <td>960</td>\n",
       "      <td>1</td>\n",
       "      <td>2023-02-07 18:13:21</td>\n",
       "      <td>529</td>\n",
       "      <td>b</td>\n",
       "      <td>campaign_7</td>\n",
       "      <td>2023-01-28 12:51:38.503680000</td>\n",
       "    </tr>\n",
       "  </tbody>\n",
       "</table>\n",
       "</div>"
      ],
      "text/plain": [
       "   user_id_x  order_id         timestamp_x  user_id_y source    campaign  \\\n",
       "0        960         1 2023-02-07 18:13:21       1017      b  campaign_8   \n",
       "1        960         1 2023-02-07 18:13:21       1398      b  campaign_6   \n",
       "2        960         1 2023-02-07 18:13:21        707      b  campaign_5   \n",
       "3        960         1 2023-02-07 18:13:21       1285      a  campaign_3   \n",
       "4        960         1 2023-02-07 18:13:21        529      b  campaign_7   \n",
       "\n",
       "                    timestamp_y  \n",
       "0 2023-02-08 13:10:49.026771200  \n",
       "1 2023-01-07 06:37:27.756224000  \n",
       "2 2023-01-21 10:51:52.800867200  \n",
       "3 2023-01-06 11:49:36.565366400  \n",
       "4 2023-01-28 12:51:38.503680000  "
      ]
     },
     "execution_count": 42,
     "metadata": {},
     "output_type": "execute_result"
    }
   ],
   "source": [
    "# 구매 정보(purchase)와 방문 정보(visit)의 모든 조합을 연결(cross merge)\n",
    "log_mg = pd.merge(purchase, visit\n",
    "                  , how='cross'\n",
    "                  )\n",
    "\n",
    "# merge 결과 확인\n",
    "log_mg.head()"
   ]
  },
  {
   "cell_type": "code",
   "execution_count": 43,
   "metadata": {},
   "outputs": [],
   "source": [
    "# 구분을 위해 컬럼명 변경\n",
    "log_mg.rename(columns={\n",
    "    'user_id_x':'user_id_purc'\n",
    "    , 'user_id_y':'user_id_visit'\n",
    "    , 'timestamp_x':'purc_at'\n",
    "    , 'timestamp_y':'visit_at'\n",
    "}, inplace=True)"
   ]
  },
  {
   "cell_type": "markdown",
   "metadata": {},
   "source": [
    "(2) Last Click Attribution 확인을 위한 필터링"
   ]
  },
  {
   "cell_type": "code",
   "execution_count": 44,
   "metadata": {},
   "outputs": [],
   "source": [
    "# 구매 유저와 방문 유저가 동일한 경우만 남김\n",
    "con = log_mg['user_id_purc'] == log_mg['user_id_visit']\n",
    "log_mg = log_mg[con]"
   ]
  },
  {
   "cell_type": "code",
   "execution_count": 46,
   "metadata": {},
   "outputs": [],
   "source": [
    "# 구매 시점 이전의 방문 기록만 남김\n",
    "con = log_mg['purc_at'] >= log_mg['visit_at']\n",
    "log_mg = log_mg[con]"
   ]
  },
  {
   "cell_type": "code",
   "execution_count": 63,
   "metadata": {},
   "outputs": [],
   "source": [
    "# Attribution window = 70일 이내의 기록만 남김\n",
    "log_mg['td_day'] = (log_mg['purc_at'] - log_mg['visit_at']).dt.total_seconds() / (3600 * 24)\n",
    "\n",
    "con = log_mg['td_day'] <= 70\n",
    "log = log_mg[con]"
   ]
  },
  {
   "cell_type": "code",
   "execution_count": null,
   "metadata": {},
   "outputs": [],
   "source": [
    "# cross join 기준으로 생성된 인덱스 초기화\n",
    "log.reset_index(inplace=True, drop=True)"
   ]
  },
  {
   "cell_type": "code",
   "execution_count": 158,
   "metadata": {},
   "outputs": [],
   "source": [
    "# 각 주문별 가장 가까운 방문 기록만 남김\n",
    "log = log.loc[log.groupby('order_id')['td_day'].idxmin()].reset_index(drop=True)"
   ]
  },
  {
   "cell_type": "code",
   "execution_count": 159,
   "metadata": {},
   "outputs": [
    {
     "data": {
      "text/html": [
       "<div>\n",
       "<style scoped>\n",
       "    .dataframe tbody tr th:only-of-type {\n",
       "        vertical-align: middle;\n",
       "    }\n",
       "\n",
       "    .dataframe tbody tr th {\n",
       "        vertical-align: top;\n",
       "    }\n",
       "\n",
       "    .dataframe thead th {\n",
       "        text-align: right;\n",
       "    }\n",
       "</style>\n",
       "<table border=\"1\" class=\"dataframe\">\n",
       "  <thead>\n",
       "    <tr style=\"text-align: right;\">\n",
       "      <th></th>\n",
       "      <th>user_id_purc</th>\n",
       "      <th>order_id</th>\n",
       "      <th>purc_at</th>\n",
       "      <th>user_id_visit</th>\n",
       "      <th>source</th>\n",
       "      <th>campaign</th>\n",
       "      <th>visit_at</th>\n",
       "      <th>td_day</th>\n",
       "    </tr>\n",
       "  </thead>\n",
       "  <tbody>\n",
       "    <tr>\n",
       "      <th>0</th>\n",
       "      <td>298</td>\n",
       "      <td>5</td>\n",
       "      <td>2023-01-10 08:32:59</td>\n",
       "      <td>298</td>\n",
       "      <td>b</td>\n",
       "      <td>campaign_10</td>\n",
       "      <td>2022-12-29 03:31:40.796992000</td>\n",
       "      <td>12.209238</td>\n",
       "    </tr>\n",
       "    <tr>\n",
       "      <th>1</th>\n",
       "      <td>1447</td>\n",
       "      <td>6</td>\n",
       "      <td>2023-01-12 13:51:32</td>\n",
       "      <td>1447</td>\n",
       "      <td>a</td>\n",
       "      <td>campaign_2</td>\n",
       "      <td>2022-12-29 01:13:29.584790400</td>\n",
       "      <td>14.526417</td>\n",
       "    </tr>\n",
       "    <tr>\n",
       "      <th>2</th>\n",
       "      <td>1064</td>\n",
       "      <td>7</td>\n",
       "      <td>2023-01-06 13:40:11</td>\n",
       "      <td>1064</td>\n",
       "      <td>a</td>\n",
       "      <td>campaign_2</td>\n",
       "      <td>2022-12-15 20:30:13.596992000</td>\n",
       "      <td>21.715248</td>\n",
       "    </tr>\n",
       "    <tr>\n",
       "      <th>3</th>\n",
       "      <td>7</td>\n",
       "      <td>8</td>\n",
       "      <td>2023-01-16 13:01:57</td>\n",
       "      <td>7</td>\n",
       "      <td>b</td>\n",
       "      <td>campaign_9</td>\n",
       "      <td>2023-01-04 11:38:32.537126400</td>\n",
       "      <td>12.057922</td>\n",
       "    </tr>\n",
       "    <tr>\n",
       "      <th>4</th>\n",
       "      <td>1452</td>\n",
       "      <td>15</td>\n",
       "      <td>2023-01-07 19:06:03</td>\n",
       "      <td>1452</td>\n",
       "      <td>b</td>\n",
       "      <td>campaign_4</td>\n",
       "      <td>2022-12-14 01:16:36.041481600</td>\n",
       "      <td>24.742673</td>\n",
       "    </tr>\n",
       "  </tbody>\n",
       "</table>\n",
       "</div>"
      ],
      "text/plain": [
       "   user_id_purc  order_id             purc_at  user_id_visit source  \\\n",
       "0           298         5 2023-01-10 08:32:59            298      b   \n",
       "1          1447         6 2023-01-12 13:51:32           1447      a   \n",
       "2          1064         7 2023-01-06 13:40:11           1064      a   \n",
       "3             7         8 2023-01-16 13:01:57              7      b   \n",
       "4          1452        15 2023-01-07 19:06:03           1452      b   \n",
       "\n",
       "      campaign                      visit_at     td_day  \n",
       "0  campaign_10 2022-12-29 03:31:40.796992000  12.209238  \n",
       "1   campaign_2 2022-12-29 01:13:29.584790400  14.526417  \n",
       "2   campaign_2 2022-12-15 20:30:13.596992000  21.715248  \n",
       "3   campaign_9 2023-01-04 11:38:32.537126400  12.057922  \n",
       "4   campaign_4 2022-12-14 01:16:36.041481600  24.742673  "
      ]
     },
     "execution_count": 159,
     "metadata": {},
     "output_type": "execute_result"
    }
   ],
   "source": [
    "# 집계 결과 확인\n",
    "log.head()"
   ]
  },
  {
   "cell_type": "markdown",
   "metadata": {},
   "source": [
    "### ROAS"
   ]
  },
  {
   "cell_type": "code",
   "execution_count": 113,
   "metadata": {},
   "outputs": [],
   "source": [
    "# 주문 집계 데이터(order_mg)와 70일 이내 attribution campaign을 연결(left merge)\n",
    "od_w_attr = pd.merge(order_mg[['order_id', 'realized_revenue']]\n",
    "                     , log[['order_id', 'campaign', 'source']]\n",
    "                     , on = 'order_id'\n",
    "                     , how='left'\n",
    "                     )"
   ]
  },
  {
   "cell_type": "code",
   "execution_count": 117,
   "metadata": {},
   "outputs": [],
   "source": [
    "# 집계를 위해 campaign - source 결측치를 organic으로 처리\n",
    "od_w_attr.fillna({\n",
    "    'campaign':'organic'\n",
    "    , 'source':'organic'\n",
    "}, inplace=True)"
   ]
  },
  {
   "cell_type": "code",
   "execution_count": null,
   "metadata": {},
   "outputs": [],
   "source": [
    "# 각 campaign-source 별 총매출 집계\n",
    "od_w_attr_agg = od_w_attr.groupby(['campaign', 'source'])['realized_revenue'].sum().reset_index()"
   ]
  },
  {
   "cell_type": "code",
   "execution_count": 98,
   "metadata": {},
   "outputs": [],
   "source": [
    "# campaign 및 source 별 광고 집행비 집계\n",
    "ad_agg = ad.groupby(['campaign', 'source'])[['spending', 'clicks']].sum().reset_index()"
   ]
  },
  {
   "cell_type": "code",
   "execution_count": 128,
   "metadata": {},
   "outputs": [],
   "source": [
    "# campaign 및 source 별 매출 데이터(od_w_attr_agg)와 비용 데이터(ad_agg)를 연결\n",
    "roas = pd.merge(od_w_attr_agg, ad_agg\n",
    "         , on=['campaign', 'source']\n",
    "         , how='left'\n",
    "         )\n",
    "\n",
    "# campaign 및 source 별 ROAS 및 CPC 계산\n",
    "roas['roas'] = roas['realized_revenue'] / roas['spending']\n",
    "roas['cpc'] = roas['spending'] / roas['clicks']"
   ]
  },
  {
   "cell_type": "code",
   "execution_count": 129,
   "metadata": {},
   "outputs": [
    {
     "data": {
      "text/html": [
       "<div>\n",
       "<style scoped>\n",
       "    .dataframe tbody tr th:only-of-type {\n",
       "        vertical-align: middle;\n",
       "    }\n",
       "\n",
       "    .dataframe tbody tr th {\n",
       "        vertical-align: top;\n",
       "    }\n",
       "\n",
       "    .dataframe thead th {\n",
       "        text-align: right;\n",
       "    }\n",
       "</style>\n",
       "<table border=\"1\" class=\"dataframe\">\n",
       "  <thead>\n",
       "    <tr style=\"text-align: right;\">\n",
       "      <th></th>\n",
       "      <th>campaign</th>\n",
       "      <th>source</th>\n",
       "      <th>realized_revenue</th>\n",
       "      <th>spending</th>\n",
       "      <th>clicks</th>\n",
       "      <th>roas</th>\n",
       "      <th>cpc</th>\n",
       "    </tr>\n",
       "  </thead>\n",
       "  <tbody>\n",
       "    <tr>\n",
       "      <th>0</th>\n",
       "      <td>campaign_1</td>\n",
       "      <td>a</td>\n",
       "      <td>23220.0</td>\n",
       "      <td>25268.349577</td>\n",
       "      <td>27665.0</td>\n",
       "      <td>0.918936</td>\n",
       "      <td>0.913369</td>\n",
       "    </tr>\n",
       "    <tr>\n",
       "      <th>1</th>\n",
       "      <td>campaign_10</td>\n",
       "      <td>b</td>\n",
       "      <td>18179.0</td>\n",
       "      <td>25251.864256</td>\n",
       "      <td>27407.0</td>\n",
       "      <td>0.719907</td>\n",
       "      <td>0.921365</td>\n",
       "    </tr>\n",
       "    <tr>\n",
       "      <th>2</th>\n",
       "      <td>campaign_2</td>\n",
       "      <td>a</td>\n",
       "      <td>35507.0</td>\n",
       "      <td>25228.018515</td>\n",
       "      <td>27535.0</td>\n",
       "      <td>1.407443</td>\n",
       "      <td>0.916216</td>\n",
       "    </tr>\n",
       "    <tr>\n",
       "      <th>3</th>\n",
       "      <td>campaign_3</td>\n",
       "      <td>a</td>\n",
       "      <td>27936.0</td>\n",
       "      <td>25663.157313</td>\n",
       "      <td>27627.0</td>\n",
       "      <td>1.088564</td>\n",
       "      <td>0.928916</td>\n",
       "    </tr>\n",
       "    <tr>\n",
       "      <th>4</th>\n",
       "      <td>campaign_4</td>\n",
       "      <td>b</td>\n",
       "      <td>24285.0</td>\n",
       "      <td>25636.252811</td>\n",
       "      <td>27614.0</td>\n",
       "      <td>0.947291</td>\n",
       "      <td>0.928379</td>\n",
       "    </tr>\n",
       "    <tr>\n",
       "      <th>5</th>\n",
       "      <td>campaign_5</td>\n",
       "      <td>b</td>\n",
       "      <td>29943.0</td>\n",
       "      <td>25421.989400</td>\n",
       "      <td>27420.0</td>\n",
       "      <td>1.177839</td>\n",
       "      <td>0.927133</td>\n",
       "    </tr>\n",
       "    <tr>\n",
       "      <th>6</th>\n",
       "      <td>campaign_6</td>\n",
       "      <td>b</td>\n",
       "      <td>23189.0</td>\n",
       "      <td>25280.141147</td>\n",
       "      <td>27361.0</td>\n",
       "      <td>0.917281</td>\n",
       "      <td>0.923948</td>\n",
       "    </tr>\n",
       "    <tr>\n",
       "      <th>7</th>\n",
       "      <td>campaign_7</td>\n",
       "      <td>b</td>\n",
       "      <td>34261.0</td>\n",
       "      <td>25322.034384</td>\n",
       "      <td>27267.0</td>\n",
       "      <td>1.353011</td>\n",
       "      <td>0.928670</td>\n",
       "    </tr>\n",
       "    <tr>\n",
       "      <th>8</th>\n",
       "      <td>campaign_8</td>\n",
       "      <td>b</td>\n",
       "      <td>23672.0</td>\n",
       "      <td>25144.378980</td>\n",
       "      <td>27539.0</td>\n",
       "      <td>0.941443</td>\n",
       "      <td>0.913046</td>\n",
       "    </tr>\n",
       "    <tr>\n",
       "      <th>9</th>\n",
       "      <td>campaign_9</td>\n",
       "      <td>b</td>\n",
       "      <td>23116.0</td>\n",
       "      <td>25262.930609</td>\n",
       "      <td>27263.0</td>\n",
       "      <td>0.915017</td>\n",
       "      <td>0.926638</td>\n",
       "    </tr>\n",
       "    <tr>\n",
       "      <th>10</th>\n",
       "      <td>organic</td>\n",
       "      <td>organic</td>\n",
       "      <td>926390.0</td>\n",
       "      <td>NaN</td>\n",
       "      <td>NaN</td>\n",
       "      <td>NaN</td>\n",
       "      <td>NaN</td>\n",
       "    </tr>\n",
       "  </tbody>\n",
       "</table>\n",
       "</div>"
      ],
      "text/plain": [
       "       campaign   source  realized_revenue      spending   clicks      roas  \\\n",
       "0    campaign_1        a           23220.0  25268.349577  27665.0  0.918936   \n",
       "1   campaign_10        b           18179.0  25251.864256  27407.0  0.719907   \n",
       "2    campaign_2        a           35507.0  25228.018515  27535.0  1.407443   \n",
       "3    campaign_3        a           27936.0  25663.157313  27627.0  1.088564   \n",
       "4    campaign_4        b           24285.0  25636.252811  27614.0  0.947291   \n",
       "5    campaign_5        b           29943.0  25421.989400  27420.0  1.177839   \n",
       "6    campaign_6        b           23189.0  25280.141147  27361.0  0.917281   \n",
       "7    campaign_7        b           34261.0  25322.034384  27267.0  1.353011   \n",
       "8    campaign_8        b           23672.0  25144.378980  27539.0  0.941443   \n",
       "9    campaign_9        b           23116.0  25262.930609  27263.0  0.915017   \n",
       "10      organic  organic          926390.0           NaN      NaN       NaN   \n",
       "\n",
       "         cpc  \n",
       "0   0.913369  \n",
       "1   0.921365  \n",
       "2   0.916216  \n",
       "3   0.928916  \n",
       "4   0.928379  \n",
       "5   0.927133  \n",
       "6   0.923948  \n",
       "7   0.928670  \n",
       "8   0.913046  \n",
       "9   0.926638  \n",
       "10       NaN  "
      ]
     },
     "execution_count": 129,
     "metadata": {},
     "output_type": "execute_result"
    }
   ],
   "source": [
    "# 결과 확인\n",
    "roas"
   ]
  },
  {
   "cell_type": "code",
   "execution_count": 127,
   "metadata": {},
   "outputs": [
    {
     "data": {
      "application/vnd.plotly.v1+json": {
       "config": {
        "plotlyServerURL": "https://plot.ly"
       },
       "data": [
        {
         "domain": {
          "x": [
           0,
           1
          ],
          "y": [
           0,
           1
          ]
         },
         "hovertemplate": "campaign=%{label}<br>realized_revenue=%{value}<extra></extra>",
         "labels": [
          "campaign_1",
          "campaign_10",
          "campaign_2",
          "campaign_3",
          "campaign_4",
          "campaign_5",
          "campaign_6",
          "campaign_7",
          "campaign_8",
          "campaign_9",
          "organic"
         ],
         "legendgroup": "",
         "name": "",
         "showlegend": true,
         "type": "pie",
         "values": [
          23220,
          18179,
          35507,
          27936,
          24285,
          29943,
          23189,
          34261,
          23672,
          23116,
          926390
         ]
        }
       ],
       "layout": {
        "legend": {
         "tracegroupgap": 0
        },
        "template": {
         "data": {
          "bar": [
           {
            "error_x": {
             "color": "#2a3f5f"
            },
            "error_y": {
             "color": "#2a3f5f"
            },
            "marker": {
             "line": {
              "color": "#E5ECF6",
              "width": 0.5
             },
             "pattern": {
              "fillmode": "overlay",
              "size": 10,
              "solidity": 0.2
             }
            },
            "type": "bar"
           }
          ],
          "barpolar": [
           {
            "marker": {
             "line": {
              "color": "#E5ECF6",
              "width": 0.5
             },
             "pattern": {
              "fillmode": "overlay",
              "size": 10,
              "solidity": 0.2
             }
            },
            "type": "barpolar"
           }
          ],
          "carpet": [
           {
            "aaxis": {
             "endlinecolor": "#2a3f5f",
             "gridcolor": "white",
             "linecolor": "white",
             "minorgridcolor": "white",
             "startlinecolor": "#2a3f5f"
            },
            "baxis": {
             "endlinecolor": "#2a3f5f",
             "gridcolor": "white",
             "linecolor": "white",
             "minorgridcolor": "white",
             "startlinecolor": "#2a3f5f"
            },
            "type": "carpet"
           }
          ],
          "choropleth": [
           {
            "colorbar": {
             "outlinewidth": 0,
             "ticks": ""
            },
            "type": "choropleth"
           }
          ],
          "contour": [
           {
            "colorbar": {
             "outlinewidth": 0,
             "ticks": ""
            },
            "colorscale": [
             [
              0,
              "#0d0887"
             ],
             [
              0.1111111111111111,
              "#46039f"
             ],
             [
              0.2222222222222222,
              "#7201a8"
             ],
             [
              0.3333333333333333,
              "#9c179e"
             ],
             [
              0.4444444444444444,
              "#bd3786"
             ],
             [
              0.5555555555555556,
              "#d8576b"
             ],
             [
              0.6666666666666666,
              "#ed7953"
             ],
             [
              0.7777777777777778,
              "#fb9f3a"
             ],
             [
              0.8888888888888888,
              "#fdca26"
             ],
             [
              1,
              "#f0f921"
             ]
            ],
            "type": "contour"
           }
          ],
          "contourcarpet": [
           {
            "colorbar": {
             "outlinewidth": 0,
             "ticks": ""
            },
            "type": "contourcarpet"
           }
          ],
          "heatmap": [
           {
            "colorbar": {
             "outlinewidth": 0,
             "ticks": ""
            },
            "colorscale": [
             [
              0,
              "#0d0887"
             ],
             [
              0.1111111111111111,
              "#46039f"
             ],
             [
              0.2222222222222222,
              "#7201a8"
             ],
             [
              0.3333333333333333,
              "#9c179e"
             ],
             [
              0.4444444444444444,
              "#bd3786"
             ],
             [
              0.5555555555555556,
              "#d8576b"
             ],
             [
              0.6666666666666666,
              "#ed7953"
             ],
             [
              0.7777777777777778,
              "#fb9f3a"
             ],
             [
              0.8888888888888888,
              "#fdca26"
             ],
             [
              1,
              "#f0f921"
             ]
            ],
            "type": "heatmap"
           }
          ],
          "heatmapgl": [
           {
            "colorbar": {
             "outlinewidth": 0,
             "ticks": ""
            },
            "colorscale": [
             [
              0,
              "#0d0887"
             ],
             [
              0.1111111111111111,
              "#46039f"
             ],
             [
              0.2222222222222222,
              "#7201a8"
             ],
             [
              0.3333333333333333,
              "#9c179e"
             ],
             [
              0.4444444444444444,
              "#bd3786"
             ],
             [
              0.5555555555555556,
              "#d8576b"
             ],
             [
              0.6666666666666666,
              "#ed7953"
             ],
             [
              0.7777777777777778,
              "#fb9f3a"
             ],
             [
              0.8888888888888888,
              "#fdca26"
             ],
             [
              1,
              "#f0f921"
             ]
            ],
            "type": "heatmapgl"
           }
          ],
          "histogram": [
           {
            "marker": {
             "pattern": {
              "fillmode": "overlay",
              "size": 10,
              "solidity": 0.2
             }
            },
            "type": "histogram"
           }
          ],
          "histogram2d": [
           {
            "colorbar": {
             "outlinewidth": 0,
             "ticks": ""
            },
            "colorscale": [
             [
              0,
              "#0d0887"
             ],
             [
              0.1111111111111111,
              "#46039f"
             ],
             [
              0.2222222222222222,
              "#7201a8"
             ],
             [
              0.3333333333333333,
              "#9c179e"
             ],
             [
              0.4444444444444444,
              "#bd3786"
             ],
             [
              0.5555555555555556,
              "#d8576b"
             ],
             [
              0.6666666666666666,
              "#ed7953"
             ],
             [
              0.7777777777777778,
              "#fb9f3a"
             ],
             [
              0.8888888888888888,
              "#fdca26"
             ],
             [
              1,
              "#f0f921"
             ]
            ],
            "type": "histogram2d"
           }
          ],
          "histogram2dcontour": [
           {
            "colorbar": {
             "outlinewidth": 0,
             "ticks": ""
            },
            "colorscale": [
             [
              0,
              "#0d0887"
             ],
             [
              0.1111111111111111,
              "#46039f"
             ],
             [
              0.2222222222222222,
              "#7201a8"
             ],
             [
              0.3333333333333333,
              "#9c179e"
             ],
             [
              0.4444444444444444,
              "#bd3786"
             ],
             [
              0.5555555555555556,
              "#d8576b"
             ],
             [
              0.6666666666666666,
              "#ed7953"
             ],
             [
              0.7777777777777778,
              "#fb9f3a"
             ],
             [
              0.8888888888888888,
              "#fdca26"
             ],
             [
              1,
              "#f0f921"
             ]
            ],
            "type": "histogram2dcontour"
           }
          ],
          "mesh3d": [
           {
            "colorbar": {
             "outlinewidth": 0,
             "ticks": ""
            },
            "type": "mesh3d"
           }
          ],
          "parcoords": [
           {
            "line": {
             "colorbar": {
              "outlinewidth": 0,
              "ticks": ""
             }
            },
            "type": "parcoords"
           }
          ],
          "pie": [
           {
            "automargin": true,
            "type": "pie"
           }
          ],
          "scatter": [
           {
            "fillpattern": {
             "fillmode": "overlay",
             "size": 10,
             "solidity": 0.2
            },
            "type": "scatter"
           }
          ],
          "scatter3d": [
           {
            "line": {
             "colorbar": {
              "outlinewidth": 0,
              "ticks": ""
             }
            },
            "marker": {
             "colorbar": {
              "outlinewidth": 0,
              "ticks": ""
             }
            },
            "type": "scatter3d"
           }
          ],
          "scattercarpet": [
           {
            "marker": {
             "colorbar": {
              "outlinewidth": 0,
              "ticks": ""
             }
            },
            "type": "scattercarpet"
           }
          ],
          "scattergeo": [
           {
            "marker": {
             "colorbar": {
              "outlinewidth": 0,
              "ticks": ""
             }
            },
            "type": "scattergeo"
           }
          ],
          "scattergl": [
           {
            "marker": {
             "colorbar": {
              "outlinewidth": 0,
              "ticks": ""
             }
            },
            "type": "scattergl"
           }
          ],
          "scattermapbox": [
           {
            "marker": {
             "colorbar": {
              "outlinewidth": 0,
              "ticks": ""
             }
            },
            "type": "scattermapbox"
           }
          ],
          "scatterpolar": [
           {
            "marker": {
             "colorbar": {
              "outlinewidth": 0,
              "ticks": ""
             }
            },
            "type": "scatterpolar"
           }
          ],
          "scatterpolargl": [
           {
            "marker": {
             "colorbar": {
              "outlinewidth": 0,
              "ticks": ""
             }
            },
            "type": "scatterpolargl"
           }
          ],
          "scatterternary": [
           {
            "marker": {
             "colorbar": {
              "outlinewidth": 0,
              "ticks": ""
             }
            },
            "type": "scatterternary"
           }
          ],
          "surface": [
           {
            "colorbar": {
             "outlinewidth": 0,
             "ticks": ""
            },
            "colorscale": [
             [
              0,
              "#0d0887"
             ],
             [
              0.1111111111111111,
              "#46039f"
             ],
             [
              0.2222222222222222,
              "#7201a8"
             ],
             [
              0.3333333333333333,
              "#9c179e"
             ],
             [
              0.4444444444444444,
              "#bd3786"
             ],
             [
              0.5555555555555556,
              "#d8576b"
             ],
             [
              0.6666666666666666,
              "#ed7953"
             ],
             [
              0.7777777777777778,
              "#fb9f3a"
             ],
             [
              0.8888888888888888,
              "#fdca26"
             ],
             [
              1,
              "#f0f921"
             ]
            ],
            "type": "surface"
           }
          ],
          "table": [
           {
            "cells": {
             "fill": {
              "color": "#EBF0F8"
             },
             "line": {
              "color": "white"
             }
            },
            "header": {
             "fill": {
              "color": "#C8D4E3"
             },
             "line": {
              "color": "white"
             }
            },
            "type": "table"
           }
          ]
         },
         "layout": {
          "annotationdefaults": {
           "arrowcolor": "#2a3f5f",
           "arrowhead": 0,
           "arrowwidth": 1
          },
          "autotypenumbers": "strict",
          "coloraxis": {
           "colorbar": {
            "outlinewidth": 0,
            "ticks": ""
           }
          },
          "colorscale": {
           "diverging": [
            [
             0,
             "#8e0152"
            ],
            [
             0.1,
             "#c51b7d"
            ],
            [
             0.2,
             "#de77ae"
            ],
            [
             0.3,
             "#f1b6da"
            ],
            [
             0.4,
             "#fde0ef"
            ],
            [
             0.5,
             "#f7f7f7"
            ],
            [
             0.6,
             "#e6f5d0"
            ],
            [
             0.7,
             "#b8e186"
            ],
            [
             0.8,
             "#7fbc41"
            ],
            [
             0.9,
             "#4d9221"
            ],
            [
             1,
             "#276419"
            ]
           ],
           "sequential": [
            [
             0,
             "#0d0887"
            ],
            [
             0.1111111111111111,
             "#46039f"
            ],
            [
             0.2222222222222222,
             "#7201a8"
            ],
            [
             0.3333333333333333,
             "#9c179e"
            ],
            [
             0.4444444444444444,
             "#bd3786"
            ],
            [
             0.5555555555555556,
             "#d8576b"
            ],
            [
             0.6666666666666666,
             "#ed7953"
            ],
            [
             0.7777777777777778,
             "#fb9f3a"
            ],
            [
             0.8888888888888888,
             "#fdca26"
            ],
            [
             1,
             "#f0f921"
            ]
           ],
           "sequentialminus": [
            [
             0,
             "#0d0887"
            ],
            [
             0.1111111111111111,
             "#46039f"
            ],
            [
             0.2222222222222222,
             "#7201a8"
            ],
            [
             0.3333333333333333,
             "#9c179e"
            ],
            [
             0.4444444444444444,
             "#bd3786"
            ],
            [
             0.5555555555555556,
             "#d8576b"
            ],
            [
             0.6666666666666666,
             "#ed7953"
            ],
            [
             0.7777777777777778,
             "#fb9f3a"
            ],
            [
             0.8888888888888888,
             "#fdca26"
            ],
            [
             1,
             "#f0f921"
            ]
           ]
          },
          "colorway": [
           "#636efa",
           "#EF553B",
           "#00cc96",
           "#ab63fa",
           "#FFA15A",
           "#19d3f3",
           "#FF6692",
           "#B6E880",
           "#FF97FF",
           "#FECB52"
          ],
          "font": {
           "color": "#2a3f5f"
          },
          "geo": {
           "bgcolor": "white",
           "lakecolor": "white",
           "landcolor": "#E5ECF6",
           "showlakes": true,
           "showland": true,
           "subunitcolor": "white"
          },
          "hoverlabel": {
           "align": "left"
          },
          "hovermode": "closest",
          "mapbox": {
           "style": "light"
          },
          "paper_bgcolor": "white",
          "plot_bgcolor": "#E5ECF6",
          "polar": {
           "angularaxis": {
            "gridcolor": "white",
            "linecolor": "white",
            "ticks": ""
           },
           "bgcolor": "#E5ECF6",
           "radialaxis": {
            "gridcolor": "white",
            "linecolor": "white",
            "ticks": ""
           }
          },
          "scene": {
           "xaxis": {
            "backgroundcolor": "#E5ECF6",
            "gridcolor": "white",
            "gridwidth": 2,
            "linecolor": "white",
            "showbackground": true,
            "ticks": "",
            "zerolinecolor": "white"
           },
           "yaxis": {
            "backgroundcolor": "#E5ECF6",
            "gridcolor": "white",
            "gridwidth": 2,
            "linecolor": "white",
            "showbackground": true,
            "ticks": "",
            "zerolinecolor": "white"
           },
           "zaxis": {
            "backgroundcolor": "#E5ECF6",
            "gridcolor": "white",
            "gridwidth": 2,
            "linecolor": "white",
            "showbackground": true,
            "ticks": "",
            "zerolinecolor": "white"
           }
          },
          "shapedefaults": {
           "line": {
            "color": "#2a3f5f"
           }
          },
          "ternary": {
           "aaxis": {
            "gridcolor": "white",
            "linecolor": "white",
            "ticks": ""
           },
           "baxis": {
            "gridcolor": "white",
            "linecolor": "white",
            "ticks": ""
           },
           "bgcolor": "#E5ECF6",
           "caxis": {
            "gridcolor": "white",
            "linecolor": "white",
            "ticks": ""
           }
          },
          "title": {
           "x": 0.05
          },
          "xaxis": {
           "automargin": true,
           "gridcolor": "white",
           "linecolor": "white",
           "ticks": "",
           "title": {
            "standoff": 15
           },
           "zerolinecolor": "white",
           "zerolinewidth": 2
          },
          "yaxis": {
           "automargin": true,
           "gridcolor": "white",
           "linecolor": "white",
           "ticks": "",
           "title": {
            "standoff": 15
           },
           "zerolinecolor": "white",
           "zerolinewidth": 2
          }
         }
        },
        "title": {
         "text": "Revenue Proportion by Campaign"
        }
       }
      }
     },
     "metadata": {},
     "output_type": "display_data"
    }
   ],
   "source": [
    "# 유입 경로별 매출 비율 시각화\n",
    "fig = px.pie(\n",
    "    roas\n",
    "    , names='campaign'\n",
    "    , values='realized_revenue'\n",
    "    , title='Revenue Proportion by Campaign'\n",
    ")\n",
    "fig.show()"
   ]
  },
  {
   "cell_type": "code",
   "execution_count": 146,
   "metadata": {},
   "outputs": [
    {
     "data": {
      "application/vnd.plotly.v1+json": {
       "config": {
        "plotlyServerURL": "https://plot.ly"
       },
       "data": [
        {
         "hovertemplate": "source=a<br>cpc=%{x}<br>roas=%{y}<br>realized_revenue=%{marker.size}<br>campaign=%{text}<extra></extra>",
         "legendgroup": "a",
         "marker": {
          "color": "#636efa",
          "size": [
           23220,
           35507,
           27936
          ],
          "sizemode": "area",
          "sizeref": 88.7675,
          "symbol": "circle"
         },
         "mode": "markers+text",
         "name": "a",
         "orientation": "v",
         "showlegend": true,
         "text": [
          "campaign_1",
          "campaign_2",
          "campaign_3"
         ],
         "type": "scatter",
         "x": [
          0.9133688623489314,
          0.9162163978394605,
          0.9289158183477109
         ],
         "xaxis": "x",
         "y": [
          0.9189361548663579,
          1.4074430768147186,
          1.0885644217016455
         ],
         "yaxis": "y"
        },
        {
         "hovertemplate": "source=b<br>cpc=%{x}<br>roas=%{y}<br>realized_revenue=%{marker.size}<br>campaign=%{text}<extra></extra>",
         "legendgroup": "b",
         "marker": {
          "color": "#EF553B",
          "size": [
           18179,
           24285,
           29943,
           23189,
           34261,
           23672,
           23116
          ],
          "sizemode": "area",
          "sizeref": 88.7675,
          "symbol": "circle"
         },
         "mode": "markers+text",
         "name": "b",
         "orientation": "v",
         "showlegend": true,
         "text": [
          "campaign_10",
          "campaign_4",
          "campaign_5",
          "campaign_6",
          "campaign_7",
          "campaign_8",
          "campaign_9"
         ],
         "type": "scatter",
         "x": [
          0.9213654999027354,
          0.9283788227293392,
          0.9271330926470385,
          0.9239479970228615,
          0.928669614697273,
          0.9130461883096876,
          0.9266379565248996
         ],
         "xaxis": "x",
         "y": [
          0.7199072439097192,
          0.9472913291650723,
          1.177838584086197,
          0.9172812709224722,
          1.353011352899635,
          0.941443016706048,
          0.9150165654971271
         ],
         "yaxis": "y"
        }
       ],
       "layout": {
        "height": 500,
        "legend": {
         "itemsizing": "constant",
         "title": {
          "text": "source"
         },
         "tracegroupgap": 0
        },
        "margin": {
         "t": 60
        },
        "shapes": [
         {
          "fillcolor": "red",
          "opacity": 0.3,
          "type": "rect",
          "x0": 0,
          "x1": 1,
          "xref": "x domain",
          "y0": 0.6,
          "y1": 1,
          "yref": "y"
         }
        ],
        "template": {
         "data": {
          "bar": [
           {
            "error_x": {
             "color": "#2a3f5f"
            },
            "error_y": {
             "color": "#2a3f5f"
            },
            "marker": {
             "line": {
              "color": "#E5ECF6",
              "width": 0.5
             },
             "pattern": {
              "fillmode": "overlay",
              "size": 10,
              "solidity": 0.2
             }
            },
            "type": "bar"
           }
          ],
          "barpolar": [
           {
            "marker": {
             "line": {
              "color": "#E5ECF6",
              "width": 0.5
             },
             "pattern": {
              "fillmode": "overlay",
              "size": 10,
              "solidity": 0.2
             }
            },
            "type": "barpolar"
           }
          ],
          "carpet": [
           {
            "aaxis": {
             "endlinecolor": "#2a3f5f",
             "gridcolor": "white",
             "linecolor": "white",
             "minorgridcolor": "white",
             "startlinecolor": "#2a3f5f"
            },
            "baxis": {
             "endlinecolor": "#2a3f5f",
             "gridcolor": "white",
             "linecolor": "white",
             "minorgridcolor": "white",
             "startlinecolor": "#2a3f5f"
            },
            "type": "carpet"
           }
          ],
          "choropleth": [
           {
            "colorbar": {
             "outlinewidth": 0,
             "ticks": ""
            },
            "type": "choropleth"
           }
          ],
          "contour": [
           {
            "colorbar": {
             "outlinewidth": 0,
             "ticks": ""
            },
            "colorscale": [
             [
              0,
              "#0d0887"
             ],
             [
              0.1111111111111111,
              "#46039f"
             ],
             [
              0.2222222222222222,
              "#7201a8"
             ],
             [
              0.3333333333333333,
              "#9c179e"
             ],
             [
              0.4444444444444444,
              "#bd3786"
             ],
             [
              0.5555555555555556,
              "#d8576b"
             ],
             [
              0.6666666666666666,
              "#ed7953"
             ],
             [
              0.7777777777777778,
              "#fb9f3a"
             ],
             [
              0.8888888888888888,
              "#fdca26"
             ],
             [
              1,
              "#f0f921"
             ]
            ],
            "type": "contour"
           }
          ],
          "contourcarpet": [
           {
            "colorbar": {
             "outlinewidth": 0,
             "ticks": ""
            },
            "type": "contourcarpet"
           }
          ],
          "heatmap": [
           {
            "colorbar": {
             "outlinewidth": 0,
             "ticks": ""
            },
            "colorscale": [
             [
              0,
              "#0d0887"
             ],
             [
              0.1111111111111111,
              "#46039f"
             ],
             [
              0.2222222222222222,
              "#7201a8"
             ],
             [
              0.3333333333333333,
              "#9c179e"
             ],
             [
              0.4444444444444444,
              "#bd3786"
             ],
             [
              0.5555555555555556,
              "#d8576b"
             ],
             [
              0.6666666666666666,
              "#ed7953"
             ],
             [
              0.7777777777777778,
              "#fb9f3a"
             ],
             [
              0.8888888888888888,
              "#fdca26"
             ],
             [
              1,
              "#f0f921"
             ]
            ],
            "type": "heatmap"
           }
          ],
          "heatmapgl": [
           {
            "colorbar": {
             "outlinewidth": 0,
             "ticks": ""
            },
            "colorscale": [
             [
              0,
              "#0d0887"
             ],
             [
              0.1111111111111111,
              "#46039f"
             ],
             [
              0.2222222222222222,
              "#7201a8"
             ],
             [
              0.3333333333333333,
              "#9c179e"
             ],
             [
              0.4444444444444444,
              "#bd3786"
             ],
             [
              0.5555555555555556,
              "#d8576b"
             ],
             [
              0.6666666666666666,
              "#ed7953"
             ],
             [
              0.7777777777777778,
              "#fb9f3a"
             ],
             [
              0.8888888888888888,
              "#fdca26"
             ],
             [
              1,
              "#f0f921"
             ]
            ],
            "type": "heatmapgl"
           }
          ],
          "histogram": [
           {
            "marker": {
             "pattern": {
              "fillmode": "overlay",
              "size": 10,
              "solidity": 0.2
             }
            },
            "type": "histogram"
           }
          ],
          "histogram2d": [
           {
            "colorbar": {
             "outlinewidth": 0,
             "ticks": ""
            },
            "colorscale": [
             [
              0,
              "#0d0887"
             ],
             [
              0.1111111111111111,
              "#46039f"
             ],
             [
              0.2222222222222222,
              "#7201a8"
             ],
             [
              0.3333333333333333,
              "#9c179e"
             ],
             [
              0.4444444444444444,
              "#bd3786"
             ],
             [
              0.5555555555555556,
              "#d8576b"
             ],
             [
              0.6666666666666666,
              "#ed7953"
             ],
             [
              0.7777777777777778,
              "#fb9f3a"
             ],
             [
              0.8888888888888888,
              "#fdca26"
             ],
             [
              1,
              "#f0f921"
             ]
            ],
            "type": "histogram2d"
           }
          ],
          "histogram2dcontour": [
           {
            "colorbar": {
             "outlinewidth": 0,
             "ticks": ""
            },
            "colorscale": [
             [
              0,
              "#0d0887"
             ],
             [
              0.1111111111111111,
              "#46039f"
             ],
             [
              0.2222222222222222,
              "#7201a8"
             ],
             [
              0.3333333333333333,
              "#9c179e"
             ],
             [
              0.4444444444444444,
              "#bd3786"
             ],
             [
              0.5555555555555556,
              "#d8576b"
             ],
             [
              0.6666666666666666,
              "#ed7953"
             ],
             [
              0.7777777777777778,
              "#fb9f3a"
             ],
             [
              0.8888888888888888,
              "#fdca26"
             ],
             [
              1,
              "#f0f921"
             ]
            ],
            "type": "histogram2dcontour"
           }
          ],
          "mesh3d": [
           {
            "colorbar": {
             "outlinewidth": 0,
             "ticks": ""
            },
            "type": "mesh3d"
           }
          ],
          "parcoords": [
           {
            "line": {
             "colorbar": {
              "outlinewidth": 0,
              "ticks": ""
             }
            },
            "type": "parcoords"
           }
          ],
          "pie": [
           {
            "automargin": true,
            "type": "pie"
           }
          ],
          "scatter": [
           {
            "fillpattern": {
             "fillmode": "overlay",
             "size": 10,
             "solidity": 0.2
            },
            "type": "scatter"
           }
          ],
          "scatter3d": [
           {
            "line": {
             "colorbar": {
              "outlinewidth": 0,
              "ticks": ""
             }
            },
            "marker": {
             "colorbar": {
              "outlinewidth": 0,
              "ticks": ""
             }
            },
            "type": "scatter3d"
           }
          ],
          "scattercarpet": [
           {
            "marker": {
             "colorbar": {
              "outlinewidth": 0,
              "ticks": ""
             }
            },
            "type": "scattercarpet"
           }
          ],
          "scattergeo": [
           {
            "marker": {
             "colorbar": {
              "outlinewidth": 0,
              "ticks": ""
             }
            },
            "type": "scattergeo"
           }
          ],
          "scattergl": [
           {
            "marker": {
             "colorbar": {
              "outlinewidth": 0,
              "ticks": ""
             }
            },
            "type": "scattergl"
           }
          ],
          "scattermapbox": [
           {
            "marker": {
             "colorbar": {
              "outlinewidth": 0,
              "ticks": ""
             }
            },
            "type": "scattermapbox"
           }
          ],
          "scatterpolar": [
           {
            "marker": {
             "colorbar": {
              "outlinewidth": 0,
              "ticks": ""
             }
            },
            "type": "scatterpolar"
           }
          ],
          "scatterpolargl": [
           {
            "marker": {
             "colorbar": {
              "outlinewidth": 0,
              "ticks": ""
             }
            },
            "type": "scatterpolargl"
           }
          ],
          "scatterternary": [
           {
            "marker": {
             "colorbar": {
              "outlinewidth": 0,
              "ticks": ""
             }
            },
            "type": "scatterternary"
           }
          ],
          "surface": [
           {
            "colorbar": {
             "outlinewidth": 0,
             "ticks": ""
            },
            "colorscale": [
             [
              0,
              "#0d0887"
             ],
             [
              0.1111111111111111,
              "#46039f"
             ],
             [
              0.2222222222222222,
              "#7201a8"
             ],
             [
              0.3333333333333333,
              "#9c179e"
             ],
             [
              0.4444444444444444,
              "#bd3786"
             ],
             [
              0.5555555555555556,
              "#d8576b"
             ],
             [
              0.6666666666666666,
              "#ed7953"
             ],
             [
              0.7777777777777778,
              "#fb9f3a"
             ],
             [
              0.8888888888888888,
              "#fdca26"
             ],
             [
              1,
              "#f0f921"
             ]
            ],
            "type": "surface"
           }
          ],
          "table": [
           {
            "cells": {
             "fill": {
              "color": "#EBF0F8"
             },
             "line": {
              "color": "white"
             }
            },
            "header": {
             "fill": {
              "color": "#C8D4E3"
             },
             "line": {
              "color": "white"
             }
            },
            "type": "table"
           }
          ]
         },
         "layout": {
          "annotationdefaults": {
           "arrowcolor": "#2a3f5f",
           "arrowhead": 0,
           "arrowwidth": 1
          },
          "autotypenumbers": "strict",
          "coloraxis": {
           "colorbar": {
            "outlinewidth": 0,
            "ticks": ""
           }
          },
          "colorscale": {
           "diverging": [
            [
             0,
             "#8e0152"
            ],
            [
             0.1,
             "#c51b7d"
            ],
            [
             0.2,
             "#de77ae"
            ],
            [
             0.3,
             "#f1b6da"
            ],
            [
             0.4,
             "#fde0ef"
            ],
            [
             0.5,
             "#f7f7f7"
            ],
            [
             0.6,
             "#e6f5d0"
            ],
            [
             0.7,
             "#b8e186"
            ],
            [
             0.8,
             "#7fbc41"
            ],
            [
             0.9,
             "#4d9221"
            ],
            [
             1,
             "#276419"
            ]
           ],
           "sequential": [
            [
             0,
             "#0d0887"
            ],
            [
             0.1111111111111111,
             "#46039f"
            ],
            [
             0.2222222222222222,
             "#7201a8"
            ],
            [
             0.3333333333333333,
             "#9c179e"
            ],
            [
             0.4444444444444444,
             "#bd3786"
            ],
            [
             0.5555555555555556,
             "#d8576b"
            ],
            [
             0.6666666666666666,
             "#ed7953"
            ],
            [
             0.7777777777777778,
             "#fb9f3a"
            ],
            [
             0.8888888888888888,
             "#fdca26"
            ],
            [
             1,
             "#f0f921"
            ]
           ],
           "sequentialminus": [
            [
             0,
             "#0d0887"
            ],
            [
             0.1111111111111111,
             "#46039f"
            ],
            [
             0.2222222222222222,
             "#7201a8"
            ],
            [
             0.3333333333333333,
             "#9c179e"
            ],
            [
             0.4444444444444444,
             "#bd3786"
            ],
            [
             0.5555555555555556,
             "#d8576b"
            ],
            [
             0.6666666666666666,
             "#ed7953"
            ],
            [
             0.7777777777777778,
             "#fb9f3a"
            ],
            [
             0.8888888888888888,
             "#fdca26"
            ],
            [
             1,
             "#f0f921"
            ]
           ]
          },
          "colorway": [
           "#636efa",
           "#EF553B",
           "#00cc96",
           "#ab63fa",
           "#FFA15A",
           "#19d3f3",
           "#FF6692",
           "#B6E880",
           "#FF97FF",
           "#FECB52"
          ],
          "font": {
           "color": "#2a3f5f"
          },
          "geo": {
           "bgcolor": "white",
           "lakecolor": "white",
           "landcolor": "#E5ECF6",
           "showlakes": true,
           "showland": true,
           "subunitcolor": "white"
          },
          "hoverlabel": {
           "align": "left"
          },
          "hovermode": "closest",
          "mapbox": {
           "style": "light"
          },
          "paper_bgcolor": "white",
          "plot_bgcolor": "#E5ECF6",
          "polar": {
           "angularaxis": {
            "gridcolor": "white",
            "linecolor": "white",
            "ticks": ""
           },
           "bgcolor": "#E5ECF6",
           "radialaxis": {
            "gridcolor": "white",
            "linecolor": "white",
            "ticks": ""
           }
          },
          "scene": {
           "xaxis": {
            "backgroundcolor": "#E5ECF6",
            "gridcolor": "white",
            "gridwidth": 2,
            "linecolor": "white",
            "showbackground": true,
            "ticks": "",
            "zerolinecolor": "white"
           },
           "yaxis": {
            "backgroundcolor": "#E5ECF6",
            "gridcolor": "white",
            "gridwidth": 2,
            "linecolor": "white",
            "showbackground": true,
            "ticks": "",
            "zerolinecolor": "white"
           },
           "zaxis": {
            "backgroundcolor": "#E5ECF6",
            "gridcolor": "white",
            "gridwidth": 2,
            "linecolor": "white",
            "showbackground": true,
            "ticks": "",
            "zerolinecolor": "white"
           }
          },
          "shapedefaults": {
           "line": {
            "color": "#2a3f5f"
           }
          },
          "ternary": {
           "aaxis": {
            "gridcolor": "white",
            "linecolor": "white",
            "ticks": ""
           },
           "baxis": {
            "gridcolor": "white",
            "linecolor": "white",
            "ticks": ""
           },
           "bgcolor": "#E5ECF6",
           "caxis": {
            "gridcolor": "white",
            "linecolor": "white",
            "ticks": ""
           }
          },
          "title": {
           "x": 0.05
          },
          "xaxis": {
           "automargin": true,
           "gridcolor": "white",
           "linecolor": "white",
           "ticks": "",
           "title": {
            "standoff": 15
           },
           "zerolinecolor": "white",
           "zerolinewidth": 2
          },
          "yaxis": {
           "automargin": true,
           "gridcolor": "white",
           "linecolor": "white",
           "ticks": "",
           "title": {
            "standoff": 15
           },
           "zerolinecolor": "white",
           "zerolinewidth": 2
          }
         }
        },
        "width": 600,
        "xaxis": {
         "anchor": "y",
         "domain": [
          0,
          1
         ],
         "title": {
          "text": "cpc"
         }
        },
        "yaxis": {
         "anchor": "x",
         "domain": [
          0,
          1
         ],
         "title": {
          "text": "roas"
         }
        }
       }
      }
     },
     "metadata": {},
     "output_type": "display_data"
    }
   ],
   "source": [
    "# campaign별 효율성 시각화\n",
    "fig = px.scatter(\n",
    "    roas[roas['campaign']!='organic'] # organic 제외\n",
    "    , x='cpc'\n",
    "    , y='roas'\n",
    "    , height=500, width=600\n",
    "    , size='realized_revenue'\n",
    "    , color='source'\n",
    "    , text='campaign'\n",
    ")\n",
    "\n",
    "fig.add_hrect(y0=0.6, y1=1, fillcolor='red', opacity=.3)\n",
    "\n",
    "fig.show()"
   ]
  }
 ],
 "metadata": {
  "kernelspec": {
   "display_name": "base",
   "language": "python",
   "name": "python3"
  },
  "language_info": {
   "codemirror_mode": {
    "name": "ipython",
    "version": 3
   },
   "file_extension": ".py",
   "mimetype": "text/x-python",
   "name": "python",
   "nbconvert_exporter": "python",
   "pygments_lexer": "ipython3",
   "version": "3.12.7"
  }
 },
 "nbformat": 4,
 "nbformat_minor": 2
}
